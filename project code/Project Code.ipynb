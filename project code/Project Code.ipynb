{
  "cells": [
    {
      "attachments": {},
      "cell_type": "markdown",
      "metadata": {
        "colab_type": "text",
        "id": "view-in-github"
      },
      "source": [
        "<a href=\"https://colab.research.google.com/github/splasherzz/food-allergen-detector/blob/main/Project%20Code.ipynb\" target=\"_parent\"><img src=\"https://colab.research.google.com/assets/colab-badge.svg\" alt=\"Open In Colab\"/></a>"
      ]
    },
    {
      "attachments": {},
      "cell_type": "markdown",
      "metadata": {
        "id": "TKkeGOg8Gzqu"
      },
      "source": [
        "# **AI for AI: Utilizing Artificial Intelligence for Allergen Identification in Food**"
      ]
    },
    {
      "attachments": {},
      "cell_type": "markdown",
      "metadata": {
        "id": "aO2hOEX-89Gd"
      },
      "source": [
        "# **Project Summary**\n",
        "\n",
        "This project aims to develop an AI model for allergen detection in food products using a multi-label classification approach. It will utilize separate Random Forest classifiers for each allergen class, treating them as independent binary classification tasks. This project addresses the limitations of traditional allergen detection methods, ensuring consumer safety and improving food allergen detection accuracy and food quality control processes. Using the \"Food Ingredients and Allergens\" dataset from Kaggle, the model will be trained to predict the presence of allergenic ingredients in different food products. The model will learn how to recognize patterns and associations between ingredients and allergens. The developed model will then be integrated into a web application for user-friendly allergen detection, where people with allergies can make informed decisions about the food they buy and consume. This project has the potential to benefit food manufacturers, the food service industry, regulatory bodies, and people with allergies, ultimately improving food safety and promoting informed food choices."
      ]
    },
    {
      "attachments": {},
      "cell_type": "markdown",
      "metadata": {
        "id": "kxLBFRlD-Ld4"
      },
      "source": [
        "# **Data Collection**\n",
        "\n",
        "We obtained the 2023 Kaggle dataset titled [\"Food Ingredients & Allergens\"](https://kaggle.com/datasets/uom190346a/food-ingredients-and-allergens) by Laksika Tharmalingam. We augmented data by manually adding 92 entries to the dataset, adding various food products and their allergen labels that we got from Google. The augmented dataset will then be used to train and test our AI model for food allergen detection."
      ]
    },
    {
      "attachments": {},
      "cell_type": "markdown",
      "metadata": {
        "id": "BNekqzYhtqPc"
      },
      "source": [
        "## **Importing the Original Dataset**\n",
        "\n",
        "The \"Food Ingredients & Allergens\" dataset is uploaded as a .csv file in our [GitHub repository](https://github.com/splasherzz/food-allergen-detector). This is imported and initialized in our notebook as `og_food`."
      ]
    },
    {
      "cell_type": "code",
      "execution_count": 1951,
      "metadata": {
        "colab": {
          "background_save": true,
          "base_uri": "https://localhost:8080/",
          "height": 206
        },
        "id": "a5UXGR-FrbEm",
        "outputId": "7c5a7a40-6f8c-4539-ad6b-e899511d2635"
      },
      "outputs": [
        {
          "data": {
            "text/html": [
              "<div>\n",
              "<style scoped>\n",
              "    .dataframe tbody tr th:only-of-type {\n",
              "        vertical-align: middle;\n",
              "    }\n",
              "\n",
              "    .dataframe tbody tr th {\n",
              "        vertical-align: top;\n",
              "    }\n",
              "\n",
              "    .dataframe thead th {\n",
              "        text-align: right;\n",
              "    }\n",
              "</style>\n",
              "<table border=\"1\" class=\"dataframe\">\n",
              "  <thead>\n",
              "    <tr style=\"text-align: right;\">\n",
              "      <th></th>\n",
              "      <th>Food Product</th>\n",
              "      <th>Main Ingredient</th>\n",
              "      <th>Sweetener</th>\n",
              "      <th>Fat/Oil</th>\n",
              "      <th>Seasoning</th>\n",
              "      <th>Allergens</th>\n",
              "      <th>Prediction</th>\n",
              "    </tr>\n",
              "  </thead>\n",
              "  <tbody>\n",
              "    <tr>\n",
              "      <th>0</th>\n",
              "      <td>Almond Cookies</td>\n",
              "      <td>Almonds</td>\n",
              "      <td>Sugar</td>\n",
              "      <td>Butter</td>\n",
              "      <td>Flour</td>\n",
              "      <td>Almonds, Wheat, Dairy</td>\n",
              "      <td>Contains</td>\n",
              "    </tr>\n",
              "    <tr>\n",
              "      <th>1</th>\n",
              "      <td>Almond Cookies</td>\n",
              "      <td>Almonds</td>\n",
              "      <td>Sugar</td>\n",
              "      <td>Butter</td>\n",
              "      <td>Flour</td>\n",
              "      <td>Almonds, Wheat, Dairy</td>\n",
              "      <td>Contains</td>\n",
              "    </tr>\n",
              "    <tr>\n",
              "      <th>2</th>\n",
              "      <td>Chicken Noodle Soup</td>\n",
              "      <td>Chicken broth</td>\n",
              "      <td>None</td>\n",
              "      <td>None</td>\n",
              "      <td>Salt</td>\n",
              "      <td>Chicken, Wheat, Celery</td>\n",
              "      <td>Contains</td>\n",
              "    </tr>\n",
              "    <tr>\n",
              "      <th>3</th>\n",
              "      <td>Chicken Noodle Soup</td>\n",
              "      <td>Chicken broth</td>\n",
              "      <td>None</td>\n",
              "      <td>None</td>\n",
              "      <td>Salt</td>\n",
              "      <td>Chicken, Wheat, Celery</td>\n",
              "      <td>Contains</td>\n",
              "    </tr>\n",
              "    <tr>\n",
              "      <th>4</th>\n",
              "      <td>Cheddar Cheese</td>\n",
              "      <td>Cheese</td>\n",
              "      <td>None</td>\n",
              "      <td>None</td>\n",
              "      <td>Salt</td>\n",
              "      <td>Dairy</td>\n",
              "      <td>Contains</td>\n",
              "    </tr>\n",
              "  </tbody>\n",
              "</table>\n",
              "</div>"
            ],
            "text/plain": [
              "          Food Product Main Ingredient Sweetener Fat/Oil Seasoning  \\\n",
              "0       Almond Cookies         Almonds     Sugar  Butter     Flour   \n",
              "1       Almond Cookies         Almonds     Sugar  Butter     Flour   \n",
              "2  Chicken Noodle Soup   Chicken broth      None    None      Salt   \n",
              "3  Chicken Noodle Soup   Chicken broth      None    None      Salt   \n",
              "4       Cheddar Cheese          Cheese      None    None      Salt   \n",
              "\n",
              "                Allergens Prediction  \n",
              "0   Almonds, Wheat, Dairy   Contains  \n",
              "1   Almonds, Wheat, Dairy   Contains  \n",
              "2  Chicken, Wheat, Celery   Contains  \n",
              "3  Chicken, Wheat, Celery   Contains  \n",
              "4                   Dairy   Contains  "
            ]
          },
          "execution_count": 1951,
          "metadata": {},
          "output_type": "execute_result"
        }
      ],
      "source": [
        "import io\n",
        "import pandas as pd\n",
        "\n",
        "# initializing the dataset\n",
        "data = 'https://raw.githubusercontent.com/splasherzz/food-allergen-detector/main/datasets/%5BOriginal%5D%20Food%20Ingredients%20and%20Allergens.csv'\n",
        "og_food = pd.read_csv(data)\n",
        "og_food.head()"
      ]
    },
    {
      "attachments": {},
      "cell_type": "markdown",
      "metadata": {
        "id": "Pvon3PDn02pj"
      },
      "source": [
        "## **Dataset Features**\n",
        "\n",
        "Below is a table of the dataset features and their respective descriptions.\n",
        "\n",
        "<table>\n",
        "  <tr>\n",
        "    <th>Column Name<th/>\n",
        "    <th>Description<th/>\n",
        "  <tr/>\n",
        "\n",
        "  <tr>\n",
        "    <td>Food Product<td/>\n",
        "    <td>Name of the food product<td/>\n",
        "  <tr/>\n",
        "  <tr>\n",
        "    <td>Main Ingredient<td/>\n",
        "    <td>Defining or distinctive ingredient of the food product<td/>\n",
        "  <tr/>\n",
        "  <tr>\n",
        "    <td>Sweetener<td/>\n",
        "    <td>Substance added to food or drink to impart the flavor of sweetness<td/>\n",
        "  <tr/>\n",
        "  <tr>\n",
        "    <td>Fat/Oil<td/>\n",
        "    <td>Lipids made from plants, animals, or synthetic compounds used when frying, baking, and preparing foods<td/>\n",
        "  <tr/>\n",
        "  <tr>\n",
        "    <td>Seasoning<td/>\n",
        "    <td>Salt, herbs, or spices added to food to enhance the flavour<td/>\n",
        "  <tr/>\n",
        "  <tr>\n",
        "    <td>Allergens<td/>\n",
        "    <td>Any normally harmless substance that causes an immediate allergic reaction in a susceptible person<td/>\n",
        "  <tr/>\n",
        "  <tr>\n",
        "    <td>Prediction<td/>\n",
        "    <td>Anticipated outcome of the model<td/>\n",
        "  <tr/>\n",
        "<table/>"
      ]
    },
    {
      "attachments": {},
      "cell_type": "markdown",
      "metadata": {
        "id": "cWf2QdIcrI3y"
      },
      "source": [
        "# **Data Preprocessing**\n",
        "\n",
        "Before augmenting the dataset, we cleaned the original dataset by doing type formatting and handling null values and duplicate entries."
      ]
    },
    {
      "attachments": {},
      "cell_type": "markdown",
      "metadata": {
        "id": "DLURrramJkCF"
      },
      "source": [
        "## **Type Formatting**\n",
        "\n",
        "The table provided below summarizes the possible data types that we may encounter when using Pandas."
      ]
    },
    {
      "attachments": {},
      "cell_type": "markdown",
      "metadata": {
        "id": "jRgplQ3D9aTJ"
      },
      "source": [
        "<table>\n",
        "  <tr>\n",
        "    <th>Data type<th/>\n",
        "    <th>Description<th/>\n",
        "  <tr/>\n",
        "\n",
        "  <tr>\n",
        "    <td>object<td/>\n",
        "    <td>Text or mixed numeric and non-numeric values<td/>\n",
        "  <tr/>\n",
        "  <tr>\n",
        "    <td>int64<td/>\n",
        "    <td>Integer numbers<td/>\n",
        "  <tr/>\n",
        "  <tr>\n",
        "    <td>float64<td/>\n",
        "    <td>Floating point numbers<td/>\n",
        "  <tr/>\n",
        "  <tr>\n",
        "    <td>bool<td/>\n",
        "    <td>True/False values<td/>\n",
        "  <tr/>\n",
        "  <tr>\n",
        "    <td>datetime64<td/>\n",
        "    <td>Date and time values<td/>\n",
        "  <tr/>\n",
        "  <tr>\n",
        "    <td>timedelta[ns]<td/>\n",
        "    <td>Differences between two datetimes<td/>\n",
        "  <tr/>\n",
        "  <tr>\n",
        "    <td>category<td/>\n",
        "    <td>Finite list of text values<td/>\n",
        "  <tr/>\n",
        "<table/>"
      ]
    },
    {
      "attachments": {},
      "cell_type": "markdown",
      "metadata": {
        "id": "9P_4_FAVKntk"
      },
      "source": [
        "Using `dtypes` on the dataset, we observed that all columns had the data type `object`, which is described as \"text or mixed numeric and non-numeric values.\" We then perform type formatting to ensure all our columns have the type `category`, as it fits the description of a \"finite list of text values.\" It is also appropriate for our dataset since our columns are different categories of the food product."
      ]
    },
    {
      "cell_type": "code",
      "execution_count": 1952,
      "metadata": {
        "colab": {
          "base_uri": "https://localhost:8080/"
        },
        "id": "1QoAsU9e1Km5",
        "outputId": "3de2b318-8f40-407d-a9a3-7b52380e19a9"
      },
      "outputs": [
        {
          "data": {
            "text/plain": [
              "Food Product       category\n",
              "Main Ingredient    category\n",
              "Sweetener          category\n",
              "Fat/Oil            category\n",
              "Seasoning          category\n",
              "Allergens          category\n",
              "Prediction         category\n",
              "dtype: object"
            ]
          },
          "execution_count": 1952,
          "metadata": {},
          "output_type": "execute_result"
        }
      ],
      "source": [
        "# performing type formatting to change all columns data types into \"category\"\n",
        "for item in og_food:\n",
        "  if og_food[item].dtype == object:\n",
        "    og_food[item] = og_food[item].astype('category')\n",
        "\n",
        "og_food.dtypes"
      ]
    },
    {
      "attachments": {},
      "cell_type": "markdown",
      "metadata": {
        "id": "EDAteYoXxYf-"
      },
      "source": [
        "## **Handling Duplicates & Null Values**\n",
        "\n",
        "Before dropping duplicates, we first check if there are null values in the dataset. Only one column had a null value and it was in the `Prediction` column. "
      ]
    },
    {
      "cell_type": "code",
      "execution_count": 1953,
      "metadata": {
        "colab": {
          "base_uri": "https://localhost:8080/"
        },
        "id": "zvVkKb0HvXcA",
        "outputId": "da6f12a9-db49-48cd-c8b1-6d96386bb432"
      },
      "outputs": [
        {
          "name": "stdout",
          "output_type": "stream",
          "text": [
            "Total number of missing values in whole dataset: 1\n",
            "\n",
            "\n",
            "Breakdown of which columns have missing values:\n",
            " Food Product       0\n",
            "Main Ingredient    0\n",
            "Sweetener          0\n",
            "Fat/Oil            0\n",
            "Seasoning          0\n",
            "Allergens          0\n",
            "Prediction         1\n",
            "dtype: int64\n",
            "\n",
            "\n",
            "Entry with null values:\n",
            "     Food Product Main Ingredient Sweetener Fat/Oil     Seasoning  \\\n",
            "338   Baked Ziti           Pasta      None  Cheese  Tomato sauce   \n",
            "\n",
            "        Allergens Prediction  \n",
            "338  Wheat, Dairy        NaN  \n"
          ]
        }
      ],
      "source": [
        "# handling null values\n",
        "print(\"Total number of missing values in whole dataset:\", og_food.isna().sum().sum())\n",
        "print(\"\\n\")\n",
        "print(\"Breakdown of which columns have missing values:\\n\", og_food.isna().sum())\n",
        "print(\"\\n\")\n",
        "print(\"Entry with null values:\\n\", og_food[og_food.isna().any(axis=1)])"
      ]
    },
    {
      "attachments": {},
      "cell_type": "markdown",
      "metadata": {
        "id": "8oZQmdus0lSE"
      },
      "source": [
        "Upon manually checking the dataset for the row with null value (entry 338), it was a duplicate for the same entry with `Prediction` correctly filled up. Thus, we just drop this single row with null entry. We also drop the duplicates in the dataset, keeping only the first occurrence. "
      ]
    },
    {
      "cell_type": "code",
      "execution_count": 1954,
      "metadata": {
        "colab": {
          "base_uri": "https://localhost:8080/",
          "height": 206
        },
        "id": "LMMzJUgtxwDv",
        "outputId": "6cc6490d-3aa0-4b54-806e-0507b14e8b8e"
      },
      "outputs": [
        {
          "data": {
            "text/html": [
              "<div>\n",
              "<style scoped>\n",
              "    .dataframe tbody tr th:only-of-type {\n",
              "        vertical-align: middle;\n",
              "    }\n",
              "\n",
              "    .dataframe tbody tr th {\n",
              "        vertical-align: top;\n",
              "    }\n",
              "\n",
              "    .dataframe thead th {\n",
              "        text-align: right;\n",
              "    }\n",
              "</style>\n",
              "<table border=\"1\" class=\"dataframe\">\n",
              "  <thead>\n",
              "    <tr style=\"text-align: right;\">\n",
              "      <th></th>\n",
              "      <th>Food Product</th>\n",
              "      <th>Main Ingredient</th>\n",
              "      <th>Sweetener</th>\n",
              "      <th>Fat/Oil</th>\n",
              "      <th>Seasoning</th>\n",
              "      <th>Allergens</th>\n",
              "      <th>Prediction</th>\n",
              "    </tr>\n",
              "  </thead>\n",
              "  <tbody>\n",
              "    <tr>\n",
              "      <th>0</th>\n",
              "      <td>Almond Cookies</td>\n",
              "      <td>Almonds</td>\n",
              "      <td>Sugar</td>\n",
              "      <td>Butter</td>\n",
              "      <td>Flour</td>\n",
              "      <td>Almonds, Wheat, Dairy</td>\n",
              "      <td>Contains</td>\n",
              "    </tr>\n",
              "    <tr>\n",
              "      <th>2</th>\n",
              "      <td>Chicken Noodle Soup</td>\n",
              "      <td>Chicken broth</td>\n",
              "      <td>None</td>\n",
              "      <td>None</td>\n",
              "      <td>Salt</td>\n",
              "      <td>Chicken, Wheat, Celery</td>\n",
              "      <td>Contains</td>\n",
              "    </tr>\n",
              "    <tr>\n",
              "      <th>4</th>\n",
              "      <td>Cheddar Cheese</td>\n",
              "      <td>Cheese</td>\n",
              "      <td>None</td>\n",
              "      <td>None</td>\n",
              "      <td>Salt</td>\n",
              "      <td>Dairy</td>\n",
              "      <td>Contains</td>\n",
              "    </tr>\n",
              "    <tr>\n",
              "      <th>5</th>\n",
              "      <td>Ranch Dressing</td>\n",
              "      <td>Buttermilk</td>\n",
              "      <td>Sugar</td>\n",
              "      <td>Vegetable oil</td>\n",
              "      <td>Garlic, herbs</td>\n",
              "      <td>Dairy</td>\n",
              "      <td>Contains</td>\n",
              "    </tr>\n",
              "    <tr>\n",
              "      <th>6</th>\n",
              "      <td>Caramel Popcorn</td>\n",
              "      <td>Popcorn</td>\n",
              "      <td>Sugar</td>\n",
              "      <td>Butter</td>\n",
              "      <td>Salt</td>\n",
              "      <td>Dairy</td>\n",
              "      <td>Contains</td>\n",
              "    </tr>\n",
              "  </tbody>\n",
              "</table>\n",
              "</div>"
            ],
            "text/plain": [
              "          Food Product Main Ingredient Sweetener        Fat/Oil  \\\n",
              "0       Almond Cookies         Almonds     Sugar         Butter   \n",
              "2  Chicken Noodle Soup   Chicken broth      None           None   \n",
              "4       Cheddar Cheese          Cheese      None           None   \n",
              "5       Ranch Dressing      Buttermilk     Sugar  Vegetable oil   \n",
              "6      Caramel Popcorn         Popcorn     Sugar         Butter   \n",
              "\n",
              "       Seasoning               Allergens Prediction  \n",
              "0          Flour   Almonds, Wheat, Dairy   Contains  \n",
              "2           Salt  Chicken, Wheat, Celery   Contains  \n",
              "4           Salt                   Dairy   Contains  \n",
              "5  Garlic, herbs                   Dairy   Contains  \n",
              "6           Salt                   Dairy   Contains  "
            ]
          },
          "execution_count": 1954,
          "metadata": {},
          "output_type": "execute_result"
        }
      ],
      "source": [
        "# dropping entry with null value\n",
        "og_food.dropna(inplace=True)\n",
        "\n",
        "# handling & dropping duplicates\n",
        "og_food.drop_duplicates(keep='first', inplace=True)\n",
        "og_food.head()"
      ]
    },
    {
      "attachments": {},
      "cell_type": "markdown",
      "metadata": {
        "id": "8SKwPA9gj1kK"
      },
      "source": [
        "After dropping the duplicates and a row with a null value, we check for the current shape of the dataset. As shown below, there are only 308 entries left out of the initial 400."
      ]
    },
    {
      "cell_type": "code",
      "execution_count": 1955,
      "metadata": {
        "colab": {
          "base_uri": "https://localhost:8080/"
        },
        "id": "eIMTDcCxdmxr",
        "outputId": "e6314e3f-b076-4297-c5d6-1478972aa6eb"
      },
      "outputs": [
        {
          "data": {
            "text/plain": [
              "(308, 7)"
            ]
          },
          "execution_count": 1955,
          "metadata": {},
          "output_type": "execute_result"
        }
      ],
      "source": [
        "og_food.shape"
      ]
    },
    {
      "attachments": {},
      "cell_type": "markdown",
      "metadata": {
        "id": "yCrhLQ-2wzkD"
      },
      "source": [
        "## **Augmenting the Dataset**\n",
        "We augment the dataset by downloading the cleaned/preprocessed .csv file and manually adding 92 more entries to reach the same number of rows as prior to the deletion. To procure the data, we looked for random food products, their ingredients, and their allergen labels on Google.\n",
        "We first made sure that there were no duplicates by searching the food product in the dataset before adding it."
      ]
    },
    {
      "cell_type": "code",
      "execution_count": 1956,
      "metadata": {
        "id": "t3mt3Ul1xJT9"
      },
      "outputs": [],
      "source": [
        "# # saving it as a CSV file\n",
        "# df = pd.DataFrame(og_food)\n",
        "# df.to_csv(\"[Augmented] Food Ingredients and Allergens.csv\", index=False) "
      ]
    },
    {
      "attachments": {},
      "cell_type": "markdown",
      "metadata": {
        "id": "FMZPVmPqk-2z"
      },
      "source": [
        "## **Importing the Augmented Dataset**\n",
        "\n",
        "Then, we import the augmented dataset as `aug_food`, and verify if its shape is correct. The dataset is uploaded as a .csv file in our [GitHub repository](https://github.com/splasherzz/food-allergen-detector)."
      ]
    },
    {
      "cell_type": "code",
      "execution_count": 1957,
      "metadata": {
        "colab": {
          "base_uri": "https://localhost:8080/",
          "height": 206
        },
        "id": "SLqUqiq6g8en",
        "outputId": "a926a5d3-6eaa-4a35-dc37-864be24d8e16"
      },
      "outputs": [
        {
          "data": {
            "text/html": [
              "<div>\n",
              "<style scoped>\n",
              "    .dataframe tbody tr th:only-of-type {\n",
              "        vertical-align: middle;\n",
              "    }\n",
              "\n",
              "    .dataframe tbody tr th {\n",
              "        vertical-align: top;\n",
              "    }\n",
              "\n",
              "    .dataframe thead th {\n",
              "        text-align: right;\n",
              "    }\n",
              "</style>\n",
              "<table border=\"1\" class=\"dataframe\">\n",
              "  <thead>\n",
              "    <tr style=\"text-align: right;\">\n",
              "      <th></th>\n",
              "      <th>Food Product</th>\n",
              "      <th>Main Ingredient</th>\n",
              "      <th>Sweetener</th>\n",
              "      <th>Fat/Oil</th>\n",
              "      <th>Seasoning</th>\n",
              "      <th>Allergens</th>\n",
              "      <th>Prediction</th>\n",
              "    </tr>\n",
              "  </thead>\n",
              "  <tbody>\n",
              "    <tr>\n",
              "      <th>0</th>\n",
              "      <td>Almond Cookies</td>\n",
              "      <td>Almonds</td>\n",
              "      <td>Sugar</td>\n",
              "      <td>Butter</td>\n",
              "      <td>Flour</td>\n",
              "      <td>Almonds, Wheat, Dairy</td>\n",
              "      <td>Contains</td>\n",
              "    </tr>\n",
              "    <tr>\n",
              "      <th>1</th>\n",
              "      <td>Chicken Noodle Soup</td>\n",
              "      <td>Chicken broth</td>\n",
              "      <td>None</td>\n",
              "      <td>None</td>\n",
              "      <td>Salt</td>\n",
              "      <td>Chicken, Wheat, Celery</td>\n",
              "      <td>Contains</td>\n",
              "    </tr>\n",
              "    <tr>\n",
              "      <th>2</th>\n",
              "      <td>Cheddar Cheese</td>\n",
              "      <td>Cheese</td>\n",
              "      <td>None</td>\n",
              "      <td>None</td>\n",
              "      <td>Salt</td>\n",
              "      <td>Dairy</td>\n",
              "      <td>Contains</td>\n",
              "    </tr>\n",
              "    <tr>\n",
              "      <th>3</th>\n",
              "      <td>Ranch Dressing</td>\n",
              "      <td>Buttermilk</td>\n",
              "      <td>Sugar</td>\n",
              "      <td>Vegetable oil</td>\n",
              "      <td>Garlic, herbs</td>\n",
              "      <td>Dairy</td>\n",
              "      <td>Contains</td>\n",
              "    </tr>\n",
              "    <tr>\n",
              "      <th>4</th>\n",
              "      <td>Caramel Popcorn</td>\n",
              "      <td>Popcorn</td>\n",
              "      <td>Sugar</td>\n",
              "      <td>Butter</td>\n",
              "      <td>Salt</td>\n",
              "      <td>Dairy</td>\n",
              "      <td>Contains</td>\n",
              "    </tr>\n",
              "  </tbody>\n",
              "</table>\n",
              "</div>"
            ],
            "text/plain": [
              "          Food Product Main Ingredient Sweetener        Fat/Oil  \\\n",
              "0       Almond Cookies         Almonds     Sugar         Butter   \n",
              "1  Chicken Noodle Soup   Chicken broth      None           None   \n",
              "2       Cheddar Cheese          Cheese      None           None   \n",
              "3       Ranch Dressing      Buttermilk     Sugar  Vegetable oil   \n",
              "4      Caramel Popcorn         Popcorn     Sugar         Butter   \n",
              "\n",
              "       Seasoning               Allergens Prediction  \n",
              "0          Flour   Almonds, Wheat, Dairy   Contains  \n",
              "1           Salt  Chicken, Wheat, Celery   Contains  \n",
              "2           Salt                   Dairy   Contains  \n",
              "3  Garlic, herbs                   Dairy   Contains  \n",
              "4           Salt                   Dairy   Contains  "
            ]
          },
          "execution_count": 1957,
          "metadata": {},
          "output_type": "execute_result"
        }
      ],
      "source": [
        "data1 = 'https://raw.githubusercontent.com/splasherzz/food-allergen-detector/main/datasets/%5BAugmented%5D%20Food%20Ingredients%20and%20Allergens.csv'\n",
        "aug_food = pd.read_csv(data1)\n",
        "\n",
        "aug_food.head()"
      ]
    },
    {
      "attachments": {},
      "cell_type": "markdown",
      "metadata": {},
      "source": [
        "## Lowercase Conversion\n",
        "Lowercasing the whole dataframe is important for consistency and standardization. By converting all values to lowercase, we ensure that the data is consistent throughout, helping to avoid duplicate or mismatched entries"
      ]
    },
    {
      "cell_type": "code",
      "execution_count": 1958,
      "metadata": {},
      "outputs": [
        {
          "data": {
            "text/html": [
              "<div>\n",
              "<style scoped>\n",
              "    .dataframe tbody tr th:only-of-type {\n",
              "        vertical-align: middle;\n",
              "    }\n",
              "\n",
              "    .dataframe tbody tr th {\n",
              "        vertical-align: top;\n",
              "    }\n",
              "\n",
              "    .dataframe thead th {\n",
              "        text-align: right;\n",
              "    }\n",
              "</style>\n",
              "<table border=\"1\" class=\"dataframe\">\n",
              "  <thead>\n",
              "    <tr style=\"text-align: right;\">\n",
              "      <th></th>\n",
              "      <th>Food Product</th>\n",
              "      <th>Main Ingredient</th>\n",
              "      <th>Sweetener</th>\n",
              "      <th>Fat/Oil</th>\n",
              "      <th>Seasoning</th>\n",
              "      <th>Allergens</th>\n",
              "      <th>Prediction</th>\n",
              "    </tr>\n",
              "  </thead>\n",
              "  <tbody>\n",
              "    <tr>\n",
              "      <th>0</th>\n",
              "      <td>almond cookies</td>\n",
              "      <td>almonds</td>\n",
              "      <td>sugar</td>\n",
              "      <td>butter</td>\n",
              "      <td>flour</td>\n",
              "      <td>almonds, wheat, dairy</td>\n",
              "      <td>contains</td>\n",
              "    </tr>\n",
              "    <tr>\n",
              "      <th>1</th>\n",
              "      <td>chicken noodle soup</td>\n",
              "      <td>chicken broth</td>\n",
              "      <td>none</td>\n",
              "      <td>none</td>\n",
              "      <td>salt</td>\n",
              "      <td>chicken, wheat, celery</td>\n",
              "      <td>contains</td>\n",
              "    </tr>\n",
              "    <tr>\n",
              "      <th>2</th>\n",
              "      <td>cheddar cheese</td>\n",
              "      <td>cheese</td>\n",
              "      <td>none</td>\n",
              "      <td>none</td>\n",
              "      <td>salt</td>\n",
              "      <td>dairy</td>\n",
              "      <td>contains</td>\n",
              "    </tr>\n",
              "    <tr>\n",
              "      <th>3</th>\n",
              "      <td>ranch dressing</td>\n",
              "      <td>buttermilk</td>\n",
              "      <td>sugar</td>\n",
              "      <td>vegetable oil</td>\n",
              "      <td>garlic, herbs</td>\n",
              "      <td>dairy</td>\n",
              "      <td>contains</td>\n",
              "    </tr>\n",
              "    <tr>\n",
              "      <th>4</th>\n",
              "      <td>caramel popcorn</td>\n",
              "      <td>popcorn</td>\n",
              "      <td>sugar</td>\n",
              "      <td>butter</td>\n",
              "      <td>salt</td>\n",
              "      <td>dairy</td>\n",
              "      <td>contains</td>\n",
              "    </tr>\n",
              "  </tbody>\n",
              "</table>\n",
              "</div>"
            ],
            "text/plain": [
              "          Food Product Main Ingredient Sweetener        Fat/Oil  \\\n",
              "0       almond cookies         almonds     sugar         butter   \n",
              "1  chicken noodle soup   chicken broth      none           none   \n",
              "2       cheddar cheese          cheese      none           none   \n",
              "3       ranch dressing      buttermilk     sugar  vegetable oil   \n",
              "4      caramel popcorn         popcorn     sugar         butter   \n",
              "\n",
              "       Seasoning               Allergens Prediction  \n",
              "0          flour   almonds, wheat, dairy   contains  \n",
              "1           salt  chicken, wheat, celery   contains  \n",
              "2           salt                   dairy   contains  \n",
              "3  garlic, herbs                   dairy   contains  \n",
              "4           salt                   dairy   contains  "
            ]
          },
          "execution_count": 1958,
          "metadata": {},
          "output_type": "execute_result"
        }
      ],
      "source": [
        "aug_food = aug_food.applymap(lambda s: s.lower() if type(s) == str else s)\n",
        "aug_food.head()"
      ]
    },
    {
      "attachments": {},
      "cell_type": "markdown",
      "metadata": {},
      "source": [
        "## **Preprocessed Dataset Features**\n",
        "\n",
        "The data features in the preprocessed dataset represent different food products such as \"Aloo Gobi\" and \"Apple Cider.\" These features are stored as unsigned 8-bit integers (`uint8`) for efficient memory usage as the binary values of the features can be accommodated within this range."
      ]
    },
    {
      "cell_type": "code",
      "execution_count": 1960,
      "metadata": {},
      "outputs": [
        {
          "data": {
            "text/plain": [
              "Food Product       object\n",
              "Main Ingredient    object\n",
              "Sweetener          object\n",
              "Fat/Oil            object\n",
              "Seasoning          object\n",
              "Allergens          object\n",
              "Prediction         object\n",
              "dtype: object"
            ]
          },
          "execution_count": 1960,
          "metadata": {},
          "output_type": "execute_result"
        }
      ],
      "source": [
        "aug_food.dtypes"
      ]
    },
    {
      "attachments": {},
      "cell_type": "markdown",
      "metadata": {},
      "source": [
        "After augmenting, we check for the current shape of the dataset. As shown below, the number of entries are back to the initial 400 due to the additional 92 entries."
      ]
    },
    {
      "cell_type": "code",
      "execution_count": 1961,
      "metadata": {},
      "outputs": [
        {
          "data": {
            "text/plain": [
              "(400, 7)"
            ]
          },
          "execution_count": 1961,
          "metadata": {},
          "output_type": "execute_result"
        }
      ],
      "source": [
        "aug_food.shape"
      ]
    },
    {
      "attachments": {},
      "cell_type": "markdown",
      "metadata": {},
      "source": [
        "After cleaning and preprocessing the data, we can now proceed to modeling the data using multi-label classification and Random Forest Classifier."
      ]
    },
    {
      "attachments": {},
      "cell_type": "markdown",
      "metadata": {
        "id": "gK35mmfhCV5J"
      },
      "source": [
        "## **Converting Categorical Features through Categorical Data Encoding**"
      ]
    },
    {
      "attachments": {},
      "cell_type": "markdown",
      "metadata": {
        "id": "60Ttq3SXr0Aa"
      },
      "source": [
        "After augmenting the dataset, we did categorical data encoding. To convert the qualitative values `'Does not contain'` and `'Contains'` into numerical representation, we respectively map the prediction values to 0 and 1 using `.map`. This is necessary for training our multilabel classification model which requires numerical input for making predictions."
      ]
    },
    {
      "cell_type": "code",
      "execution_count": 1962,
      "metadata": {
        "colab": {
          "base_uri": "https://localhost:8080/"
        },
        "id": "14ZEsahp_Pq6",
        "outputId": "7d3d1847-dbb0-4c79-895b-a3fa2f495dae"
      },
      "outputs": [
        {
          "data": {
            "text/plain": [
              "0      1\n",
              "1      1\n",
              "2      1\n",
              "3      1\n",
              "4      1\n",
              "      ..\n",
              "395    1\n",
              "396    1\n",
              "397    1\n",
              "398    1\n",
              "399    1\n",
              "Name: Prediction, Length: 400, dtype: int64"
            ]
          },
          "execution_count": 1962,
          "metadata": {},
          "output_type": "execute_result"
        }
      ],
      "source": [
        "# mapping the prediction values to 0 or 1\n",
        "aug_food['Prediction'] = aug_food['Prediction'].map({'contains': 1, 'does not contain': 0})\n",
        "\n",
        "# showing that the prediction values are now set to 0/1\n",
        "aug_food['Prediction']"
      ]
    },
    {
      "attachments": {},
      "cell_type": "markdown",
      "metadata": {},
      "source": [
        "<!-- We then perform one-hot encoding on the augmented food dataset via `get_dummies`. This transforms categorical variables into binary (0/1) representations, allowing the classification model to understand and work with categorical data. Moreover, it enables the model to learn patterns and relationships between different food attributes which are crucial for accurate multilabel classification predictions. -->"
      ]
    },
    {
      "cell_type": "code",
      "execution_count": null,
      "metadata": {},
      "outputs": [],
      "source": [
        "# # Performing one-hot encoding on categorical columns\n",
        "# aug_food = pd.get_dummies(aug_food, drop_first=True)\n",
        "\n",
        "# # Moving the 'Prediction' column to the last position\n",
        "# aug_food.insert(len(aug_food), 'Prediction', aug_food.pop('Prediction'))\n",
        "\n",
        "# # Showing the dataset\n",
        "# aug_food.head()"
      ]
    },
    {
      "attachments": {},
      "cell_type": "markdown",
      "metadata": {},
      "source": [
        "We separately obtain the dummies for the `Seasoning` and `Allergens` features to allow for appropriate handling of the non-atomic values. By splitting the multivalued cells into separate values via `get_dummies()`, we create individual binary columns for each seasoning and allergen. This ensures that the resulting dummy variables correctly represent the presence or absence of each specific seasoning or allergen in the dataset, rather than incorrectly representing concatenated strings. "
      ]
    },
    {
      "attachments": {},
      "cell_type": "markdown",
      "metadata": {},
      "source": [
        "We first obtain dummy variables for the `Allergens` column which results in binary columns representing the presence or absence of each unique allergen."
      ]
    },
    {
      "cell_type": "code",
      "execution_count": 1963,
      "metadata": {},
      "outputs": [
        {
          "data": {
            "text/html": [
              "<div>\n",
              "<style scoped>\n",
              "    .dataframe tbody tr th:only-of-type {\n",
              "        vertical-align: middle;\n",
              "    }\n",
              "\n",
              "    .dataframe tbody tr th {\n",
              "        vertical-align: top;\n",
              "    }\n",
              "\n",
              "    .dataframe thead th {\n",
              "        text-align: right;\n",
              "    }\n",
              "</style>\n",
              "<table border=\"1\" class=\"dataframe\">\n",
              "  <thead>\n",
              "    <tr style=\"text-align: right;\">\n",
              "      <th></th>\n",
              "      <th>Allergens_alcohol</th>\n",
              "      <th>Allergens_almonds</th>\n",
              "      <th>Allergens_anchovies</th>\n",
              "      <th>Allergens_beef</th>\n",
              "      <th>Allergens_calamari</th>\n",
              "      <th>Allergens_celery</th>\n",
              "      <th>Allergens_chicken</th>\n",
              "      <th>Allergens_cocoa</th>\n",
              "      <th>Allergens_coconut</th>\n",
              "      <th>Allergens_crab</th>\n",
              "      <th>...</th>\n",
              "      <th>Allergens_oats</th>\n",
              "      <th>Allergens_peanuts</th>\n",
              "      <th>Allergens_pinenuts</th>\n",
              "      <th>Allergens_pork</th>\n",
              "      <th>Allergens_rice</th>\n",
              "      <th>Allergens_shellfish</th>\n",
              "      <th>Allergens_shrimp</th>\n",
              "      <th>Allergens_soybeans</th>\n",
              "      <th>Allergens_strawberries</th>\n",
              "      <th>Allergens_wheat</th>\n",
              "    </tr>\n",
              "  </thead>\n",
              "  <tbody>\n",
              "    <tr>\n",
              "      <th>0</th>\n",
              "      <td>0</td>\n",
              "      <td>1</td>\n",
              "      <td>0</td>\n",
              "      <td>0</td>\n",
              "      <td>0</td>\n",
              "      <td>0</td>\n",
              "      <td>0</td>\n",
              "      <td>0</td>\n",
              "      <td>0</td>\n",
              "      <td>0</td>\n",
              "      <td>...</td>\n",
              "      <td>0</td>\n",
              "      <td>0</td>\n",
              "      <td>0</td>\n",
              "      <td>0</td>\n",
              "      <td>0</td>\n",
              "      <td>0</td>\n",
              "      <td>0</td>\n",
              "      <td>0</td>\n",
              "      <td>0</td>\n",
              "      <td>1</td>\n",
              "    </tr>\n",
              "    <tr>\n",
              "      <th>1</th>\n",
              "      <td>0</td>\n",
              "      <td>0</td>\n",
              "      <td>0</td>\n",
              "      <td>0</td>\n",
              "      <td>0</td>\n",
              "      <td>1</td>\n",
              "      <td>1</td>\n",
              "      <td>0</td>\n",
              "      <td>0</td>\n",
              "      <td>0</td>\n",
              "      <td>...</td>\n",
              "      <td>0</td>\n",
              "      <td>0</td>\n",
              "      <td>0</td>\n",
              "      <td>0</td>\n",
              "      <td>0</td>\n",
              "      <td>0</td>\n",
              "      <td>0</td>\n",
              "      <td>0</td>\n",
              "      <td>0</td>\n",
              "      <td>1</td>\n",
              "    </tr>\n",
              "    <tr>\n",
              "      <th>2</th>\n",
              "      <td>0</td>\n",
              "      <td>0</td>\n",
              "      <td>0</td>\n",
              "      <td>0</td>\n",
              "      <td>0</td>\n",
              "      <td>0</td>\n",
              "      <td>0</td>\n",
              "      <td>0</td>\n",
              "      <td>0</td>\n",
              "      <td>0</td>\n",
              "      <td>...</td>\n",
              "      <td>0</td>\n",
              "      <td>0</td>\n",
              "      <td>0</td>\n",
              "      <td>0</td>\n",
              "      <td>0</td>\n",
              "      <td>0</td>\n",
              "      <td>0</td>\n",
              "      <td>0</td>\n",
              "      <td>0</td>\n",
              "      <td>0</td>\n",
              "    </tr>\n",
              "    <tr>\n",
              "      <th>3</th>\n",
              "      <td>0</td>\n",
              "      <td>0</td>\n",
              "      <td>0</td>\n",
              "      <td>0</td>\n",
              "      <td>0</td>\n",
              "      <td>0</td>\n",
              "      <td>0</td>\n",
              "      <td>0</td>\n",
              "      <td>0</td>\n",
              "      <td>0</td>\n",
              "      <td>...</td>\n",
              "      <td>0</td>\n",
              "      <td>0</td>\n",
              "      <td>0</td>\n",
              "      <td>0</td>\n",
              "      <td>0</td>\n",
              "      <td>0</td>\n",
              "      <td>0</td>\n",
              "      <td>0</td>\n",
              "      <td>0</td>\n",
              "      <td>0</td>\n",
              "    </tr>\n",
              "    <tr>\n",
              "      <th>4</th>\n",
              "      <td>0</td>\n",
              "      <td>0</td>\n",
              "      <td>0</td>\n",
              "      <td>0</td>\n",
              "      <td>0</td>\n",
              "      <td>0</td>\n",
              "      <td>0</td>\n",
              "      <td>0</td>\n",
              "      <td>0</td>\n",
              "      <td>0</td>\n",
              "      <td>...</td>\n",
              "      <td>0</td>\n",
              "      <td>0</td>\n",
              "      <td>0</td>\n",
              "      <td>0</td>\n",
              "      <td>0</td>\n",
              "      <td>0</td>\n",
              "      <td>0</td>\n",
              "      <td>0</td>\n",
              "      <td>0</td>\n",
              "      <td>0</td>\n",
              "    </tr>\n",
              "  </tbody>\n",
              "</table>\n",
              "<p>5 rows × 29 columns</p>\n",
              "</div>"
            ],
            "text/plain": [
              "   Allergens_alcohol  Allergens_almonds  Allergens_anchovies  Allergens_beef  \\\n",
              "0                  0                  1                    0               0   \n",
              "1                  0                  0                    0               0   \n",
              "2                  0                  0                    0               0   \n",
              "3                  0                  0                    0               0   \n",
              "4                  0                  0                    0               0   \n",
              "\n",
              "   Allergens_calamari  Allergens_celery  Allergens_chicken  Allergens_cocoa  \\\n",
              "0                   0                 0                  0                0   \n",
              "1                   0                 1                  1                0   \n",
              "2                   0                 0                  0                0   \n",
              "3                   0                 0                  0                0   \n",
              "4                   0                 0                  0                0   \n",
              "\n",
              "   Allergens_coconut  Allergens_crab  ...  Allergens_oats  Allergens_peanuts  \\\n",
              "0                  0               0  ...               0                  0   \n",
              "1                  0               0  ...               0                  0   \n",
              "2                  0               0  ...               0                  0   \n",
              "3                  0               0  ...               0                  0   \n",
              "4                  0               0  ...               0                  0   \n",
              "\n",
              "   Allergens_pinenuts  Allergens_pork  Allergens_rice  Allergens_shellfish  \\\n",
              "0                   0               0               0                    0   \n",
              "1                   0               0               0                    0   \n",
              "2                   0               0               0                    0   \n",
              "3                   0               0               0                    0   \n",
              "4                   0               0               0                    0   \n",
              "\n",
              "   Allergens_shrimp  Allergens_soybeans  Allergens_strawberries  \\\n",
              "0                 0                   0                       0   \n",
              "1                 0                   0                       0   \n",
              "2                 0                   0                       0   \n",
              "3                 0                   0                       0   \n",
              "4                 0                   0                       0   \n",
              "\n",
              "   Allergens_wheat  \n",
              "0                1  \n",
              "1                1  \n",
              "2                0  \n",
              "3                0  \n",
              "4                0  \n",
              "\n",
              "[5 rows x 29 columns]"
            ]
          },
          "execution_count": 1963,
          "metadata": {},
          "output_type": "execute_result"
        }
      ],
      "source": [
        "aug_allerg = aug_food['Allergens'].str.replace(' ', '').str.get_dummies(',')\n",
        "aug_allerg = aug_allerg.add_prefix('Allergens_')\n",
        "aug_allerg.head()"
      ]
    },
    {
      "attachments": {},
      "cell_type": "markdown",
      "metadata": {},
      "source": [
        "Secondly, we obtain dummy variables separately for the `Seasoning` column which results in binary columns representing the presence or absence of each unique allergen."
      ]
    },
    {
      "cell_type": "code",
      "execution_count": 1964,
      "metadata": {},
      "outputs": [
        {
          "data": {
            "text/html": [
              "<div>\n",
              "<style scoped>\n",
              "    .dataframe tbody tr th:only-of-type {\n",
              "        vertical-align: middle;\n",
              "    }\n",
              "\n",
              "    .dataframe tbody tr th {\n",
              "        vertical-align: top;\n",
              "    }\n",
              "\n",
              "    .dataframe thead th {\n",
              "        text-align: right;\n",
              "    }\n",
              "</style>\n",
              "<table border=\"1\" class=\"dataframe\">\n",
              "  <thead>\n",
              "    <tr style=\"text-align: right;\">\n",
              "      <th></th>\n",
              "      <th>Seasoning_alfredosauce</th>\n",
              "      <th>Seasoning_almondmilk</th>\n",
              "      <th>Seasoning_almonds</th>\n",
              "      <th>Seasoning_apple</th>\n",
              "      <th>Seasoning_applecider</th>\n",
              "      <th>Seasoning_applejuice</th>\n",
              "      <th>Seasoning_arboriorice</th>\n",
              "      <th>Seasoning_avocado</th>\n",
              "      <th>Seasoning_bacon</th>\n",
              "      <th>Seasoning_bakingpowder</th>\n",
              "      <th>...</th>\n",
              "      <th>Seasoning_vegetablebroth</th>\n",
              "      <th>Seasoning_vegetableoil</th>\n",
              "      <th>Seasoning_vegetables</th>\n",
              "      <th>Seasoning_vinaigrette</th>\n",
              "      <th>Seasoning_vinegar</th>\n",
              "      <th>Seasoning_walnuts</th>\n",
              "      <th>Seasoning_wheatflour</th>\n",
              "      <th>Seasoning_yeast</th>\n",
              "      <th>Seasoning_yogurt</th>\n",
              "      <th>Seasoning_zucchini</th>\n",
              "    </tr>\n",
              "  </thead>\n",
              "  <tbody>\n",
              "    <tr>\n",
              "      <th>0</th>\n",
              "      <td>0</td>\n",
              "      <td>0</td>\n",
              "      <td>0</td>\n",
              "      <td>0</td>\n",
              "      <td>0</td>\n",
              "      <td>0</td>\n",
              "      <td>0</td>\n",
              "      <td>0</td>\n",
              "      <td>0</td>\n",
              "      <td>0</td>\n",
              "      <td>...</td>\n",
              "      <td>0</td>\n",
              "      <td>0</td>\n",
              "      <td>0</td>\n",
              "      <td>0</td>\n",
              "      <td>0</td>\n",
              "      <td>0</td>\n",
              "      <td>0</td>\n",
              "      <td>0</td>\n",
              "      <td>0</td>\n",
              "      <td>0</td>\n",
              "    </tr>\n",
              "    <tr>\n",
              "      <th>1</th>\n",
              "      <td>0</td>\n",
              "      <td>0</td>\n",
              "      <td>0</td>\n",
              "      <td>0</td>\n",
              "      <td>0</td>\n",
              "      <td>0</td>\n",
              "      <td>0</td>\n",
              "      <td>0</td>\n",
              "      <td>0</td>\n",
              "      <td>0</td>\n",
              "      <td>...</td>\n",
              "      <td>0</td>\n",
              "      <td>0</td>\n",
              "      <td>0</td>\n",
              "      <td>0</td>\n",
              "      <td>0</td>\n",
              "      <td>0</td>\n",
              "      <td>0</td>\n",
              "      <td>0</td>\n",
              "      <td>0</td>\n",
              "      <td>0</td>\n",
              "    </tr>\n",
              "    <tr>\n",
              "      <th>2</th>\n",
              "      <td>0</td>\n",
              "      <td>0</td>\n",
              "      <td>0</td>\n",
              "      <td>0</td>\n",
              "      <td>0</td>\n",
              "      <td>0</td>\n",
              "      <td>0</td>\n",
              "      <td>0</td>\n",
              "      <td>0</td>\n",
              "      <td>0</td>\n",
              "      <td>...</td>\n",
              "      <td>0</td>\n",
              "      <td>0</td>\n",
              "      <td>0</td>\n",
              "      <td>0</td>\n",
              "      <td>0</td>\n",
              "      <td>0</td>\n",
              "      <td>0</td>\n",
              "      <td>0</td>\n",
              "      <td>0</td>\n",
              "      <td>0</td>\n",
              "    </tr>\n",
              "    <tr>\n",
              "      <th>3</th>\n",
              "      <td>0</td>\n",
              "      <td>0</td>\n",
              "      <td>0</td>\n",
              "      <td>0</td>\n",
              "      <td>0</td>\n",
              "      <td>0</td>\n",
              "      <td>0</td>\n",
              "      <td>0</td>\n",
              "      <td>0</td>\n",
              "      <td>0</td>\n",
              "      <td>...</td>\n",
              "      <td>0</td>\n",
              "      <td>0</td>\n",
              "      <td>0</td>\n",
              "      <td>0</td>\n",
              "      <td>0</td>\n",
              "      <td>0</td>\n",
              "      <td>0</td>\n",
              "      <td>0</td>\n",
              "      <td>0</td>\n",
              "      <td>0</td>\n",
              "    </tr>\n",
              "    <tr>\n",
              "      <th>4</th>\n",
              "      <td>0</td>\n",
              "      <td>0</td>\n",
              "      <td>0</td>\n",
              "      <td>0</td>\n",
              "      <td>0</td>\n",
              "      <td>0</td>\n",
              "      <td>0</td>\n",
              "      <td>0</td>\n",
              "      <td>0</td>\n",
              "      <td>0</td>\n",
              "      <td>...</td>\n",
              "      <td>0</td>\n",
              "      <td>0</td>\n",
              "      <td>0</td>\n",
              "      <td>0</td>\n",
              "      <td>0</td>\n",
              "      <td>0</td>\n",
              "      <td>0</td>\n",
              "      <td>0</td>\n",
              "      <td>0</td>\n",
              "      <td>0</td>\n",
              "    </tr>\n",
              "  </tbody>\n",
              "</table>\n",
              "<p>5 rows × 216 columns</p>\n",
              "</div>"
            ],
            "text/plain": [
              "   Seasoning_alfredosauce  Seasoning_almondmilk  Seasoning_almonds  \\\n",
              "0                       0                     0                  0   \n",
              "1                       0                     0                  0   \n",
              "2                       0                     0                  0   \n",
              "3                       0                     0                  0   \n",
              "4                       0                     0                  0   \n",
              "\n",
              "   Seasoning_apple  Seasoning_applecider  Seasoning_applejuice  \\\n",
              "0                0                     0                     0   \n",
              "1                0                     0                     0   \n",
              "2                0                     0                     0   \n",
              "3                0                     0                     0   \n",
              "4                0                     0                     0   \n",
              "\n",
              "   Seasoning_arboriorice  Seasoning_avocado  Seasoning_bacon  \\\n",
              "0                      0                  0                0   \n",
              "1                      0                  0                0   \n",
              "2                      0                  0                0   \n",
              "3                      0                  0                0   \n",
              "4                      0                  0                0   \n",
              "\n",
              "   Seasoning_bakingpowder  ...  Seasoning_vegetablebroth  \\\n",
              "0                       0  ...                         0   \n",
              "1                       0  ...                         0   \n",
              "2                       0  ...                         0   \n",
              "3                       0  ...                         0   \n",
              "4                       0  ...                         0   \n",
              "\n",
              "   Seasoning_vegetableoil  Seasoning_vegetables  Seasoning_vinaigrette  \\\n",
              "0                       0                     0                      0   \n",
              "1                       0                     0                      0   \n",
              "2                       0                     0                      0   \n",
              "3                       0                     0                      0   \n",
              "4                       0                     0                      0   \n",
              "\n",
              "   Seasoning_vinegar  Seasoning_walnuts  Seasoning_wheatflour  \\\n",
              "0                  0                  0                     0   \n",
              "1                  0                  0                     0   \n",
              "2                  0                  0                     0   \n",
              "3                  0                  0                     0   \n",
              "4                  0                  0                     0   \n",
              "\n",
              "   Seasoning_yeast  Seasoning_yogurt  Seasoning_zucchini  \n",
              "0                0                 0                   0  \n",
              "1                0                 0                   0  \n",
              "2                0                 0                   0  \n",
              "3                0                 0                   0  \n",
              "4                0                 0                   0  \n",
              "\n",
              "[5 rows x 216 columns]"
            ]
          },
          "execution_count": 1964,
          "metadata": {},
          "output_type": "execute_result"
        }
      ],
      "source": [
        "aug_season = aug_food['Seasoning'].str.replace(' ', '').str.get_dummies(',')\n",
        "aug_season = aug_season.add_prefix('Seasoning_')\n",
        "aug_season.head()"
      ]
    },
    {
      "attachments": {},
      "cell_type": "markdown",
      "metadata": {},
      "source": [
        "The remaining columns of the food allergen dataframe, excluding `Allergens` and `Seasoning`, are transformed into dummy variables."
      ]
    },
    {
      "cell_type": "code",
      "execution_count": 1965,
      "metadata": {},
      "outputs": [
        {
          "data": {
            "text/html": [
              "<div>\n",
              "<style scoped>\n",
              "    .dataframe tbody tr th:only-of-type {\n",
              "        vertical-align: middle;\n",
              "    }\n",
              "\n",
              "    .dataframe tbody tr th {\n",
              "        vertical-align: top;\n",
              "    }\n",
              "\n",
              "    .dataframe thead th {\n",
              "        text-align: right;\n",
              "    }\n",
              "</style>\n",
              "<table border=\"1\" class=\"dataframe\">\n",
              "  <thead>\n",
              "    <tr style=\"text-align: right;\">\n",
              "      <th></th>\n",
              "      <th>Prediction</th>\n",
              "      <th>Food Product_aloo gobi</th>\n",
              "      <th>Food Product_aloo paratha</th>\n",
              "      <th>Food Product_apple</th>\n",
              "      <th>Food Product_apple cider</th>\n",
              "      <th>Food Product_apple crisp</th>\n",
              "      <th>Food Product_apple pie</th>\n",
              "      <th>Food Product_apple sauce</th>\n",
              "      <th>Food Product_apple tart</th>\n",
              "      <th>Food Product_arabic fattoush</th>\n",
              "      <th>...</th>\n",
              "      <th>Fat/Oil_peanut oil</th>\n",
              "      <th>Fat/Oil_pesto sauce</th>\n",
              "      <th>Fat/Oil_sesame oil</th>\n",
              "      <th>Fat/Oil_sour cream</th>\n",
              "      <th>Fat/Oil_soy sauce</th>\n",
              "      <th>Fat/Oil_vegetable oil</th>\n",
              "      <th>Fat/Oil_water</th>\n",
              "      <th>Fat/Oil_whipped cream</th>\n",
              "      <th>Fat/Oil_yogurt</th>\n",
              "      <th>Fat/Oil_yogurt (milk, cultures)</th>\n",
              "    </tr>\n",
              "  </thead>\n",
              "  <tbody>\n",
              "    <tr>\n",
              "      <th>0</th>\n",
              "      <td>1</td>\n",
              "      <td>0</td>\n",
              "      <td>0</td>\n",
              "      <td>0</td>\n",
              "      <td>0</td>\n",
              "      <td>0</td>\n",
              "      <td>0</td>\n",
              "      <td>0</td>\n",
              "      <td>0</td>\n",
              "      <td>0</td>\n",
              "      <td>...</td>\n",
              "      <td>0</td>\n",
              "      <td>0</td>\n",
              "      <td>0</td>\n",
              "      <td>0</td>\n",
              "      <td>0</td>\n",
              "      <td>0</td>\n",
              "      <td>0</td>\n",
              "      <td>0</td>\n",
              "      <td>0</td>\n",
              "      <td>0</td>\n",
              "    </tr>\n",
              "    <tr>\n",
              "      <th>1</th>\n",
              "      <td>1</td>\n",
              "      <td>0</td>\n",
              "      <td>0</td>\n",
              "      <td>0</td>\n",
              "      <td>0</td>\n",
              "      <td>0</td>\n",
              "      <td>0</td>\n",
              "      <td>0</td>\n",
              "      <td>0</td>\n",
              "      <td>0</td>\n",
              "      <td>...</td>\n",
              "      <td>0</td>\n",
              "      <td>0</td>\n",
              "      <td>0</td>\n",
              "      <td>0</td>\n",
              "      <td>0</td>\n",
              "      <td>0</td>\n",
              "      <td>0</td>\n",
              "      <td>0</td>\n",
              "      <td>0</td>\n",
              "      <td>0</td>\n",
              "    </tr>\n",
              "    <tr>\n",
              "      <th>2</th>\n",
              "      <td>1</td>\n",
              "      <td>0</td>\n",
              "      <td>0</td>\n",
              "      <td>0</td>\n",
              "      <td>0</td>\n",
              "      <td>0</td>\n",
              "      <td>0</td>\n",
              "      <td>0</td>\n",
              "      <td>0</td>\n",
              "      <td>0</td>\n",
              "      <td>...</td>\n",
              "      <td>0</td>\n",
              "      <td>0</td>\n",
              "      <td>0</td>\n",
              "      <td>0</td>\n",
              "      <td>0</td>\n",
              "      <td>0</td>\n",
              "      <td>0</td>\n",
              "      <td>0</td>\n",
              "      <td>0</td>\n",
              "      <td>0</td>\n",
              "    </tr>\n",
              "    <tr>\n",
              "      <th>3</th>\n",
              "      <td>1</td>\n",
              "      <td>0</td>\n",
              "      <td>0</td>\n",
              "      <td>0</td>\n",
              "      <td>0</td>\n",
              "      <td>0</td>\n",
              "      <td>0</td>\n",
              "      <td>0</td>\n",
              "      <td>0</td>\n",
              "      <td>0</td>\n",
              "      <td>...</td>\n",
              "      <td>0</td>\n",
              "      <td>0</td>\n",
              "      <td>0</td>\n",
              "      <td>0</td>\n",
              "      <td>0</td>\n",
              "      <td>1</td>\n",
              "      <td>0</td>\n",
              "      <td>0</td>\n",
              "      <td>0</td>\n",
              "      <td>0</td>\n",
              "    </tr>\n",
              "    <tr>\n",
              "      <th>4</th>\n",
              "      <td>1</td>\n",
              "      <td>0</td>\n",
              "      <td>0</td>\n",
              "      <td>0</td>\n",
              "      <td>0</td>\n",
              "      <td>0</td>\n",
              "      <td>0</td>\n",
              "      <td>0</td>\n",
              "      <td>0</td>\n",
              "      <td>0</td>\n",
              "      <td>...</td>\n",
              "      <td>0</td>\n",
              "      <td>0</td>\n",
              "      <td>0</td>\n",
              "      <td>0</td>\n",
              "      <td>0</td>\n",
              "      <td>0</td>\n",
              "      <td>0</td>\n",
              "      <td>0</td>\n",
              "      <td>0</td>\n",
              "      <td>0</td>\n",
              "    </tr>\n",
              "  </tbody>\n",
              "</table>\n",
              "<p>5 rows × 519 columns</p>\n",
              "</div>"
            ],
            "text/plain": [
              "   Prediction  Food Product_aloo gobi  Food Product_aloo paratha  \\\n",
              "0           1                       0                          0   \n",
              "1           1                       0                          0   \n",
              "2           1                       0                          0   \n",
              "3           1                       0                          0   \n",
              "4           1                       0                          0   \n",
              "\n",
              "   Food Product_apple  Food Product_apple cider  Food Product_apple crisp  \\\n",
              "0                   0                         0                         0   \n",
              "1                   0                         0                         0   \n",
              "2                   0                         0                         0   \n",
              "3                   0                         0                         0   \n",
              "4                   0                         0                         0   \n",
              "\n",
              "   Food Product_apple pie  Food Product_apple sauce  Food Product_apple tart  \\\n",
              "0                       0                         0                        0   \n",
              "1                       0                         0                        0   \n",
              "2                       0                         0                        0   \n",
              "3                       0                         0                        0   \n",
              "4                       0                         0                        0   \n",
              "\n",
              "   Food Product_arabic fattoush  ...  Fat/Oil_peanut oil  Fat/Oil_pesto sauce  \\\n",
              "0                             0  ...                   0                    0   \n",
              "1                             0  ...                   0                    0   \n",
              "2                             0  ...                   0                    0   \n",
              "3                             0  ...                   0                    0   \n",
              "4                             0  ...                   0                    0   \n",
              "\n",
              "   Fat/Oil_sesame oil  Fat/Oil_sour cream  Fat/Oil_soy sauce  \\\n",
              "0                   0                   0                  0   \n",
              "1                   0                   0                  0   \n",
              "2                   0                   0                  0   \n",
              "3                   0                   0                  0   \n",
              "4                   0                   0                  0   \n",
              "\n",
              "   Fat/Oil_vegetable oil  Fat/Oil_water  Fat/Oil_whipped cream  \\\n",
              "0                      0              0                      0   \n",
              "1                      0              0                      0   \n",
              "2                      0              0                      0   \n",
              "3                      1              0                      0   \n",
              "4                      0              0                      0   \n",
              "\n",
              "   Fat/Oil_yogurt  Fat/Oil_yogurt (milk, cultures)  \n",
              "0               0                                0  \n",
              "1               0                                0  \n",
              "2               0                                0  \n",
              "3               0                                0  \n",
              "4               0                                0  \n",
              "\n",
              "[5 rows x 519 columns]"
            ]
          },
          "execution_count": 1965,
          "metadata": {},
          "output_type": "execute_result"
        }
      ],
      "source": [
        "aug_food.drop(['Seasoning','Allergens'], axis=1, inplace=True)\n",
        "# Performing one-hot encoding on categorical columns\n",
        "aug_food = pd.get_dummies(aug_food, drop_first=True)\n",
        "\n",
        "# Showing the dataset\n",
        "aug_food.head()"
      ]
    },
    {
      "attachments": {},
      "cell_type": "markdown",
      "metadata": {},
      "source": [
        "Finally, we combine the three dataframes together into the desired single encoded dataframe using the `.join()` method. This consolidated dataframe can then be used for subsequent modeling."
      ]
    },
    {
      "cell_type": "code",
      "execution_count": 1966,
      "metadata": {},
      "outputs": [
        {
          "data": {
            "text/html": [
              "<div>\n",
              "<style scoped>\n",
              "    .dataframe tbody tr th:only-of-type {\n",
              "        vertical-align: middle;\n",
              "    }\n",
              "\n",
              "    .dataframe tbody tr th {\n",
              "        vertical-align: top;\n",
              "    }\n",
              "\n",
              "    .dataframe thead th {\n",
              "        text-align: right;\n",
              "    }\n",
              "</style>\n",
              "<table border=\"1\" class=\"dataframe\">\n",
              "  <thead>\n",
              "    <tr style=\"text-align: right;\">\n",
              "      <th></th>\n",
              "      <th>Food Product_aloo gobi</th>\n",
              "      <th>Food Product_aloo paratha</th>\n",
              "      <th>Food Product_apple</th>\n",
              "      <th>Food Product_apple cider</th>\n",
              "      <th>Food Product_apple crisp</th>\n",
              "      <th>Food Product_apple pie</th>\n",
              "      <th>Food Product_apple sauce</th>\n",
              "      <th>Food Product_apple tart</th>\n",
              "      <th>Food Product_arabic fattoush</th>\n",
              "      <th>Food Product_arancini</th>\n",
              "      <th>...</th>\n",
              "      <th>Allergens_peanuts</th>\n",
              "      <th>Allergens_pinenuts</th>\n",
              "      <th>Allergens_pork</th>\n",
              "      <th>Allergens_rice</th>\n",
              "      <th>Allergens_shellfish</th>\n",
              "      <th>Allergens_shrimp</th>\n",
              "      <th>Allergens_soybeans</th>\n",
              "      <th>Allergens_strawberries</th>\n",
              "      <th>Allergens_wheat</th>\n",
              "      <th>Prediction</th>\n",
              "    </tr>\n",
              "  </thead>\n",
              "  <tbody>\n",
              "    <tr>\n",
              "      <th>0</th>\n",
              "      <td>0</td>\n",
              "      <td>0</td>\n",
              "      <td>0</td>\n",
              "      <td>0</td>\n",
              "      <td>0</td>\n",
              "      <td>0</td>\n",
              "      <td>0</td>\n",
              "      <td>0</td>\n",
              "      <td>0</td>\n",
              "      <td>0</td>\n",
              "      <td>...</td>\n",
              "      <td>0</td>\n",
              "      <td>0</td>\n",
              "      <td>0</td>\n",
              "      <td>0</td>\n",
              "      <td>0</td>\n",
              "      <td>0</td>\n",
              "      <td>0</td>\n",
              "      <td>0</td>\n",
              "      <td>1</td>\n",
              "      <td>1</td>\n",
              "    </tr>\n",
              "    <tr>\n",
              "      <th>1</th>\n",
              "      <td>0</td>\n",
              "      <td>0</td>\n",
              "      <td>0</td>\n",
              "      <td>0</td>\n",
              "      <td>0</td>\n",
              "      <td>0</td>\n",
              "      <td>0</td>\n",
              "      <td>0</td>\n",
              "      <td>0</td>\n",
              "      <td>0</td>\n",
              "      <td>...</td>\n",
              "      <td>0</td>\n",
              "      <td>0</td>\n",
              "      <td>0</td>\n",
              "      <td>0</td>\n",
              "      <td>0</td>\n",
              "      <td>0</td>\n",
              "      <td>0</td>\n",
              "      <td>0</td>\n",
              "      <td>1</td>\n",
              "      <td>1</td>\n",
              "    </tr>\n",
              "    <tr>\n",
              "      <th>2</th>\n",
              "      <td>0</td>\n",
              "      <td>0</td>\n",
              "      <td>0</td>\n",
              "      <td>0</td>\n",
              "      <td>0</td>\n",
              "      <td>0</td>\n",
              "      <td>0</td>\n",
              "      <td>0</td>\n",
              "      <td>0</td>\n",
              "      <td>0</td>\n",
              "      <td>...</td>\n",
              "      <td>0</td>\n",
              "      <td>0</td>\n",
              "      <td>0</td>\n",
              "      <td>0</td>\n",
              "      <td>0</td>\n",
              "      <td>0</td>\n",
              "      <td>0</td>\n",
              "      <td>0</td>\n",
              "      <td>0</td>\n",
              "      <td>1</td>\n",
              "    </tr>\n",
              "    <tr>\n",
              "      <th>3</th>\n",
              "      <td>0</td>\n",
              "      <td>0</td>\n",
              "      <td>0</td>\n",
              "      <td>0</td>\n",
              "      <td>0</td>\n",
              "      <td>0</td>\n",
              "      <td>0</td>\n",
              "      <td>0</td>\n",
              "      <td>0</td>\n",
              "      <td>0</td>\n",
              "      <td>...</td>\n",
              "      <td>0</td>\n",
              "      <td>0</td>\n",
              "      <td>0</td>\n",
              "      <td>0</td>\n",
              "      <td>0</td>\n",
              "      <td>0</td>\n",
              "      <td>0</td>\n",
              "      <td>0</td>\n",
              "      <td>0</td>\n",
              "      <td>1</td>\n",
              "    </tr>\n",
              "    <tr>\n",
              "      <th>4</th>\n",
              "      <td>0</td>\n",
              "      <td>0</td>\n",
              "      <td>0</td>\n",
              "      <td>0</td>\n",
              "      <td>0</td>\n",
              "      <td>0</td>\n",
              "      <td>0</td>\n",
              "      <td>0</td>\n",
              "      <td>0</td>\n",
              "      <td>0</td>\n",
              "      <td>...</td>\n",
              "      <td>0</td>\n",
              "      <td>0</td>\n",
              "      <td>0</td>\n",
              "      <td>0</td>\n",
              "      <td>0</td>\n",
              "      <td>0</td>\n",
              "      <td>0</td>\n",
              "      <td>0</td>\n",
              "      <td>0</td>\n",
              "      <td>1</td>\n",
              "    </tr>\n",
              "    <tr>\n",
              "      <th>...</th>\n",
              "      <td>...</td>\n",
              "      <td>...</td>\n",
              "      <td>...</td>\n",
              "      <td>...</td>\n",
              "      <td>...</td>\n",
              "      <td>...</td>\n",
              "      <td>...</td>\n",
              "      <td>...</td>\n",
              "      <td>...</td>\n",
              "      <td>...</td>\n",
              "      <td>...</td>\n",
              "      <td>...</td>\n",
              "      <td>...</td>\n",
              "      <td>...</td>\n",
              "      <td>...</td>\n",
              "      <td>...</td>\n",
              "      <td>...</td>\n",
              "      <td>...</td>\n",
              "      <td>...</td>\n",
              "      <td>...</td>\n",
              "      <td>...</td>\n",
              "    </tr>\n",
              "    <tr>\n",
              "      <th>395</th>\n",
              "      <td>0</td>\n",
              "      <td>0</td>\n",
              "      <td>0</td>\n",
              "      <td>0</td>\n",
              "      <td>0</td>\n",
              "      <td>0</td>\n",
              "      <td>0</td>\n",
              "      <td>0</td>\n",
              "      <td>0</td>\n",
              "      <td>0</td>\n",
              "      <td>...</td>\n",
              "      <td>0</td>\n",
              "      <td>0</td>\n",
              "      <td>0</td>\n",
              "      <td>0</td>\n",
              "      <td>0</td>\n",
              "      <td>0</td>\n",
              "      <td>0</td>\n",
              "      <td>0</td>\n",
              "      <td>1</td>\n",
              "      <td>1</td>\n",
              "    </tr>\n",
              "    <tr>\n",
              "      <th>396</th>\n",
              "      <td>0</td>\n",
              "      <td>0</td>\n",
              "      <td>0</td>\n",
              "      <td>0</td>\n",
              "      <td>0</td>\n",
              "      <td>0</td>\n",
              "      <td>0</td>\n",
              "      <td>0</td>\n",
              "      <td>0</td>\n",
              "      <td>0</td>\n",
              "      <td>...</td>\n",
              "      <td>0</td>\n",
              "      <td>0</td>\n",
              "      <td>0</td>\n",
              "      <td>0</td>\n",
              "      <td>0</td>\n",
              "      <td>0</td>\n",
              "      <td>0</td>\n",
              "      <td>0</td>\n",
              "      <td>0</td>\n",
              "      <td>1</td>\n",
              "    </tr>\n",
              "    <tr>\n",
              "      <th>397</th>\n",
              "      <td>0</td>\n",
              "      <td>0</td>\n",
              "      <td>0</td>\n",
              "      <td>0</td>\n",
              "      <td>0</td>\n",
              "      <td>0</td>\n",
              "      <td>0</td>\n",
              "      <td>0</td>\n",
              "      <td>0</td>\n",
              "      <td>0</td>\n",
              "      <td>...</td>\n",
              "      <td>0</td>\n",
              "      <td>0</td>\n",
              "      <td>0</td>\n",
              "      <td>0</td>\n",
              "      <td>0</td>\n",
              "      <td>0</td>\n",
              "      <td>0</td>\n",
              "      <td>0</td>\n",
              "      <td>1</td>\n",
              "      <td>1</td>\n",
              "    </tr>\n",
              "    <tr>\n",
              "      <th>398</th>\n",
              "      <td>0</td>\n",
              "      <td>0</td>\n",
              "      <td>0</td>\n",
              "      <td>0</td>\n",
              "      <td>0</td>\n",
              "      <td>0</td>\n",
              "      <td>0</td>\n",
              "      <td>0</td>\n",
              "      <td>0</td>\n",
              "      <td>0</td>\n",
              "      <td>...</td>\n",
              "      <td>0</td>\n",
              "      <td>0</td>\n",
              "      <td>0</td>\n",
              "      <td>0</td>\n",
              "      <td>0</td>\n",
              "      <td>1</td>\n",
              "      <td>0</td>\n",
              "      <td>0</td>\n",
              "      <td>1</td>\n",
              "      <td>1</td>\n",
              "    </tr>\n",
              "    <tr>\n",
              "      <th>399</th>\n",
              "      <td>0</td>\n",
              "      <td>0</td>\n",
              "      <td>0</td>\n",
              "      <td>0</td>\n",
              "      <td>0</td>\n",
              "      <td>0</td>\n",
              "      <td>0</td>\n",
              "      <td>0</td>\n",
              "      <td>0</td>\n",
              "      <td>0</td>\n",
              "      <td>...</td>\n",
              "      <td>0</td>\n",
              "      <td>0</td>\n",
              "      <td>0</td>\n",
              "      <td>0</td>\n",
              "      <td>0</td>\n",
              "      <td>0</td>\n",
              "      <td>0</td>\n",
              "      <td>0</td>\n",
              "      <td>1</td>\n",
              "      <td>1</td>\n",
              "    </tr>\n",
              "  </tbody>\n",
              "</table>\n",
              "<p>400 rows × 764 columns</p>\n",
              "</div>"
            ],
            "text/plain": [
              "     Food Product_aloo gobi  Food Product_aloo paratha  Food Product_apple  \\\n",
              "0                         0                          0                   0   \n",
              "1                         0                          0                   0   \n",
              "2                         0                          0                   0   \n",
              "3                         0                          0                   0   \n",
              "4                         0                          0                   0   \n",
              "..                      ...                        ...                 ...   \n",
              "395                       0                          0                   0   \n",
              "396                       0                          0                   0   \n",
              "397                       0                          0                   0   \n",
              "398                       0                          0                   0   \n",
              "399                       0                          0                   0   \n",
              "\n",
              "     Food Product_apple cider  Food Product_apple crisp  \\\n",
              "0                           0                         0   \n",
              "1                           0                         0   \n",
              "2                           0                         0   \n",
              "3                           0                         0   \n",
              "4                           0                         0   \n",
              "..                        ...                       ...   \n",
              "395                         0                         0   \n",
              "396                         0                         0   \n",
              "397                         0                         0   \n",
              "398                         0                         0   \n",
              "399                         0                         0   \n",
              "\n",
              "     Food Product_apple pie  Food Product_apple sauce  \\\n",
              "0                         0                         0   \n",
              "1                         0                         0   \n",
              "2                         0                         0   \n",
              "3                         0                         0   \n",
              "4                         0                         0   \n",
              "..                      ...                       ...   \n",
              "395                       0                         0   \n",
              "396                       0                         0   \n",
              "397                       0                         0   \n",
              "398                       0                         0   \n",
              "399                       0                         0   \n",
              "\n",
              "     Food Product_apple tart  Food Product_arabic fattoush  \\\n",
              "0                          0                             0   \n",
              "1                          0                             0   \n",
              "2                          0                             0   \n",
              "3                          0                             0   \n",
              "4                          0                             0   \n",
              "..                       ...                           ...   \n",
              "395                        0                             0   \n",
              "396                        0                             0   \n",
              "397                        0                             0   \n",
              "398                        0                             0   \n",
              "399                        0                             0   \n",
              "\n",
              "     Food Product_arancini  ...  Allergens_peanuts  Allergens_pinenuts  \\\n",
              "0                        0  ...                  0                   0   \n",
              "1                        0  ...                  0                   0   \n",
              "2                        0  ...                  0                   0   \n",
              "3                        0  ...                  0                   0   \n",
              "4                        0  ...                  0                   0   \n",
              "..                     ...  ...                ...                 ...   \n",
              "395                      0  ...                  0                   0   \n",
              "396                      0  ...                  0                   0   \n",
              "397                      0  ...                  0                   0   \n",
              "398                      0  ...                  0                   0   \n",
              "399                      0  ...                  0                   0   \n",
              "\n",
              "     Allergens_pork  Allergens_rice  Allergens_shellfish  Allergens_shrimp  \\\n",
              "0                 0               0                    0                 0   \n",
              "1                 0               0                    0                 0   \n",
              "2                 0               0                    0                 0   \n",
              "3                 0               0                    0                 0   \n",
              "4                 0               0                    0                 0   \n",
              "..              ...             ...                  ...               ...   \n",
              "395               0               0                    0                 0   \n",
              "396               0               0                    0                 0   \n",
              "397               0               0                    0                 0   \n",
              "398               0               0                    0                 1   \n",
              "399               0               0                    0                 0   \n",
              "\n",
              "     Allergens_soybeans  Allergens_strawberries  Allergens_wheat  Prediction  \n",
              "0                     0                       0                1           1  \n",
              "1                     0                       0                1           1  \n",
              "2                     0                       0                0           1  \n",
              "3                     0                       0                0           1  \n",
              "4                     0                       0                0           1  \n",
              "..                  ...                     ...              ...         ...  \n",
              "395                   0                       0                1           1  \n",
              "396                   0                       0                0           1  \n",
              "397                   0                       0                1           1  \n",
              "398                   0                       0                1           1  \n",
              "399                   0                       0                1           1  \n",
              "\n",
              "[400 rows x 764 columns]"
            ]
          },
          "execution_count": 1966,
          "metadata": {},
          "output_type": "execute_result"
        }
      ],
      "source": [
        "aug_food = aug_food.join(aug_season).join(aug_allerg)\n",
        "\n",
        "# Moving the 'Prediction' column to the last position\n",
        "aug_food.insert(len(aug_food.columns) - 1, 'Prediction', aug_food.pop('Prediction'))\n",
        "aug_food.head()"
      ]
    },
    {
      "attachments": {},
      "cell_type": "markdown",
      "metadata": {
        "id": "M6QlKYbJs6Ng"
      },
      "source": [
        "# **Data Modeling**"
      ]
    },
    {
      "attachments": {},
      "cell_type": "markdown",
      "metadata": {},
      "source": [
        "To begin our data modeling, we instantiate a **random forest classifier**, an ensemble-based machine learning algorithm commonly used for classification tasks. The classifier is configured as follows:\n",
        "- **100** decision trees\n",
        "- maximum depth of **10**\n",
        "- random seed of **42**"
      ]
    },
    {
      "cell_type": "code",
      "execution_count": 1967,
      "metadata": {
        "id": "U_jkwrXxRBhD"
      },
      "outputs": [],
      "source": [
        "from sklearn.ensemble import RandomForestClassifier\n",
        "classifier = RandomForestClassifier(n_estimators=100, max_depth=10, random_state=42)"
      ]
    },
    {
      "attachments": {},
      "cell_type": "markdown",
      "metadata": {},
      "source": [
        "We assign the variable `X` to the `aug_food` dataframe with the `Prediction` column dropped, representing the input features. Similarly, the variable `y` is assigned to the `Prediction` column, representing the target variable."
      ]
    },
    {
      "cell_type": "code",
      "execution_count": 1968,
      "metadata": {
        "id": "BT4jpVp3s-Yz"
      },
      "outputs": [],
      "source": [
        "from sklearn.model_selection import train_test_split\n",
        "\n",
        "X = aug_food.drop('Prediction', axis = 1)\n",
        "y = aug_food['Prediction']"
      ]
    },
    {
      "attachments": {},
      "cell_type": "markdown",
      "metadata": {},
      "source": [
        "The next step is to split the data into training and testing subsets via the `train_test_split` function. The split is performed such that 70% of the data is assigned to the training set, while 30% is assigned to the testing set."
      ]
    },
    {
      "cell_type": "code",
      "execution_count": 1969,
      "metadata": {
        "id": "vOCa_BntQ8BY"
      },
      "outputs": [],
      "source": [
        "X_train,X_test,y_train,y_test = train_test_split(X,y, test_size=0.3)"
      ]
    },
    {
      "cell_type": "code",
      "execution_count": 1970,
      "metadata": {
        "colab": {
          "base_uri": "https://localhost:8080/",
          "height": 74
        },
        "id": "u1dzR8XIRFjE",
        "outputId": "a526c411-107c-414e-f994-3ebffe4d1689"
      },
      "outputs": [
        {
          "data": {
            "text/html": [
              "<style>#sk-container-id-37 {color: black;background-color: white;}#sk-container-id-37 pre{padding: 0;}#sk-container-id-37 div.sk-toggleable {background-color: white;}#sk-container-id-37 label.sk-toggleable__label {cursor: pointer;display: block;width: 100%;margin-bottom: 0;padding: 0.3em;box-sizing: border-box;text-align: center;}#sk-container-id-37 label.sk-toggleable__label-arrow:before {content: \"▸\";float: left;margin-right: 0.25em;color: #696969;}#sk-container-id-37 label.sk-toggleable__label-arrow:hover:before {color: black;}#sk-container-id-37 div.sk-estimator:hover label.sk-toggleable__label-arrow:before {color: black;}#sk-container-id-37 div.sk-toggleable__content {max-height: 0;max-width: 0;overflow: hidden;text-align: left;background-color: #f0f8ff;}#sk-container-id-37 div.sk-toggleable__content pre {margin: 0.2em;color: black;border-radius: 0.25em;background-color: #f0f8ff;}#sk-container-id-37 input.sk-toggleable__control:checked~div.sk-toggleable__content {max-height: 200px;max-width: 100%;overflow: auto;}#sk-container-id-37 input.sk-toggleable__control:checked~label.sk-toggleable__label-arrow:before {content: \"▾\";}#sk-container-id-37 div.sk-estimator input.sk-toggleable__control:checked~label.sk-toggleable__label {background-color: #d4ebff;}#sk-container-id-37 div.sk-label input.sk-toggleable__control:checked~label.sk-toggleable__label {background-color: #d4ebff;}#sk-container-id-37 input.sk-hidden--visually {border: 0;clip: rect(1px 1px 1px 1px);clip: rect(1px, 1px, 1px, 1px);height: 1px;margin: -1px;overflow: hidden;padding: 0;position: absolute;width: 1px;}#sk-container-id-37 div.sk-estimator {font-family: monospace;background-color: #f0f8ff;border: 1px dotted black;border-radius: 0.25em;box-sizing: border-box;margin-bottom: 0.5em;}#sk-container-id-37 div.sk-estimator:hover {background-color: #d4ebff;}#sk-container-id-37 div.sk-parallel-item::after {content: \"\";width: 100%;border-bottom: 1px solid gray;flex-grow: 1;}#sk-container-id-37 div.sk-label:hover label.sk-toggleable__label {background-color: #d4ebff;}#sk-container-id-37 div.sk-serial::before {content: \"\";position: absolute;border-left: 1px solid gray;box-sizing: border-box;top: 0;bottom: 0;left: 50%;z-index: 0;}#sk-container-id-37 div.sk-serial {display: flex;flex-direction: column;align-items: center;background-color: white;padding-right: 0.2em;padding-left: 0.2em;position: relative;}#sk-container-id-37 div.sk-item {position: relative;z-index: 1;}#sk-container-id-37 div.sk-parallel {display: flex;align-items: stretch;justify-content: center;background-color: white;position: relative;}#sk-container-id-37 div.sk-item::before, #sk-container-id-37 div.sk-parallel-item::before {content: \"\";position: absolute;border-left: 1px solid gray;box-sizing: border-box;top: 0;bottom: 0;left: 50%;z-index: -1;}#sk-container-id-37 div.sk-parallel-item {display: flex;flex-direction: column;z-index: 1;position: relative;background-color: white;}#sk-container-id-37 div.sk-parallel-item:first-child::after {align-self: flex-end;width: 50%;}#sk-container-id-37 div.sk-parallel-item:last-child::after {align-self: flex-start;width: 50%;}#sk-container-id-37 div.sk-parallel-item:only-child::after {width: 0;}#sk-container-id-37 div.sk-dashed-wrapped {border: 1px dashed gray;margin: 0 0.4em 0.5em 0.4em;box-sizing: border-box;padding-bottom: 0.4em;background-color: white;}#sk-container-id-37 div.sk-label label {font-family: monospace;font-weight: bold;display: inline-block;line-height: 1.2em;}#sk-container-id-37 div.sk-label-container {text-align: center;}#sk-container-id-37 div.sk-container {/* jupyter's `normalize.less` sets `[hidden] { display: none; }` but bootstrap.min.css set `[hidden] { display: none !important; }` so we also need the `!important` here to be able to override the default hidden behavior on the sphinx rendered scikit-learn.org. See: https://github.com/scikit-learn/scikit-learn/issues/21755 */display: inline-block !important;position: relative;}#sk-container-id-37 div.sk-text-repr-fallback {display: none;}</style><div id=\"sk-container-id-37\" class=\"sk-top-container\"><div class=\"sk-text-repr-fallback\"><pre>RandomForestClassifier(max_depth=10, random_state=42)</pre><b>In a Jupyter environment, please rerun this cell to show the HTML representation or trust the notebook. <br />On GitHub, the HTML representation is unable to render, please try loading this page with nbviewer.org.</b></div><div class=\"sk-container\" hidden><div class=\"sk-item\"><div class=\"sk-estimator sk-toggleable\"><input class=\"sk-toggleable__control sk-hidden--visually\" id=\"sk-estimator-id-37\" type=\"checkbox\" checked><label for=\"sk-estimator-id-37\" class=\"sk-toggleable__label sk-toggleable__label-arrow\">RandomForestClassifier</label><div class=\"sk-toggleable__content\"><pre>RandomForestClassifier(max_depth=10, random_state=42)</pre></div></div></div></div></div>"
            ],
            "text/plain": [
              "RandomForestClassifier(max_depth=10, random_state=42)"
            ]
          },
          "execution_count": 1970,
          "metadata": {},
          "output_type": "execute_result"
        }
      ],
      "source": [
        "classifier.fit(X_train,y_train)"
      ]
    },
    {
      "cell_type": "code",
      "execution_count": 1971,
      "metadata": {
        "colab": {
          "base_uri": "https://localhost:8080/"
        },
        "id": "gG_bIStqRKX6",
        "outputId": "cf3e685e-d073-4e4b-cc33-661322f74898"
      },
      "outputs": [
        {
          "data": {
            "text/plain": [
              "0.9916666666666667"
            ]
          },
          "execution_count": 1971,
          "metadata": {},
          "output_type": "execute_result"
        }
      ],
      "source": [
        "classifier.score(X_test, y_test)"
      ]
    },
    {
      "cell_type": "code",
      "execution_count": 1972,
      "metadata": {
        "colab": {
          "base_uri": "https://localhost:8080/"
        },
        "id": "S54N94o5WIBO",
        "outputId": "9dd19733-4c1a-4d90-ea59-956cb9c3700f"
      },
      "outputs": [
        {
          "name": "stdout",
          "output_type": "stream",
          "text": [
            "Confusion Matrix: \n",
            " [[34  0]\n",
            " [ 1 85]]\n"
          ]
        }
      ],
      "source": [
        "from sklearn.metrics import classification_report, confusion_matrix\n",
        "pred = classifier.predict(X_test)\n",
        "print('Confusion Matrix: \\n', confusion_matrix(y_test,pred))"
      ]
    },
    {
      "cell_type": "code",
      "execution_count": 1973,
      "metadata": {
        "colab": {
          "base_uri": "https://localhost:8080/"
        },
        "id": "_NGDh71GYSPG",
        "outputId": "346ea2ae-3e6a-4745-c1b2-ba5be02e662d"
      },
      "outputs": [
        {
          "name": "stdout",
          "output_type": "stream",
          "text": [
            "Classification Report: \n",
            "               precision    recall  f1-score   support\n",
            "\n",
            "           0       0.97      1.00      0.99        34\n",
            "           1       1.00      0.99      0.99        86\n",
            "\n",
            "    accuracy                           0.99       120\n",
            "   macro avg       0.99      0.99      0.99       120\n",
            "weighted avg       0.99      0.99      0.99       120\n",
            "\n"
          ]
        }
      ],
      "source": [
        "print('Classification Report: \\n', classification_report(y_test,pred))"
      ]
    },
    {
      "cell_type": "code",
      "execution_count": 1974,
      "metadata": {
        "colab": {
          "base_uri": "https://localhost:8080/"
        },
        "id": "oGFuTWQQZUG5",
        "outputId": "b855a283-bd6a-4050-8d87-8d2ba3f35341"
      },
      "outputs": [
        {
          "name": "stdout",
          "output_type": "stream",
          "text": [
            "Training Accuracy: 0.9857142857142858\n",
            "Testing Accuracy: 0.9916666666666667\n"
          ]
        }
      ],
      "source": [
        "from sklearn.metrics import accuracy_score\n",
        "# Evaluate performance on the training set\n",
        "train_predictions = classifier.predict(X_train)\n",
        "train_accuracy = accuracy_score(y_train, train_predictions)\n",
        "print(\"Training Accuracy:\", train_accuracy)\n",
        "\n",
        "# Evaluate performance on the validation set\n",
        "test_predictions = classifier.predict(X_test)\n",
        "test_accuracy = accuracy_score(y_test, test_predictions)\n",
        "print(\"Testing Accuracy:\", test_accuracy)"
      ]
    },
    {
      "attachments": {},
      "cell_type": "markdown",
      "metadata": {
        "id": "dBJJEFAIu8DJ"
      },
      "source": [
        "## **Saving the Model**\n",
        "\n"
      ]
    },
    {
      "cell_type": "code",
      "execution_count": 1926,
      "metadata": {
        "id": "S7Q3iR15vCYc"
      },
      "outputs": [],
      "source": [
        "import pickle\n",
        "\n",
        "filename = \"model.pkl\"\n",
        "\n",
        "# save model\n",
        "# pickle.dump(classifier, open(filename, \"wb\"))"
      ]
    }
  ],
  "metadata": {
    "colab": {
      "include_colab_link": true,
      "provenance": [],
      "toc_visible": true
    },
    "kernelspec": {
      "display_name": "Python 3",
      "name": "python3"
    },
    "language_info": {
      "name": "python"
    }
  },
  "nbformat": 4,
  "nbformat_minor": 0
}
