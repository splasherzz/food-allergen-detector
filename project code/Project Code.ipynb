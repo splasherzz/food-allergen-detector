{
  "cells": [
    {
      "cell_type": "markdown",
      "metadata": {
        "id": "view-in-github",
        "colab_type": "text"
      },
      "source": [
        "<a href=\"https://colab.research.google.com/github/splasherzz/food-allergen-detector/blob/main/project%20code/Project%20Code.ipynb\" target=\"_parent\"><img src=\"https://colab.research.google.com/assets/colab-badge.svg\" alt=\"Open In Colab\"/></a>"
      ]
    },
    {
      "cell_type": "markdown",
      "metadata": {
        "id": "TKkeGOg8Gzqu"
      },
      "source": [
        "# **AI for AI: Utilizing Artificial Intelligence for Allergen Identification in Food**"
      ]
    },
    {
      "cell_type": "markdown",
      "source": [
        "# **GitHub Repository**\n",
        "For our project, we uploaded the dataset, project code in Jupyter Notebook, and web app codes (both frontend and backend) in our public Github repository named [food-allergen-detector](https://github.com/splasherzz/food-allergen-detector). With this, anyone can see for themselves the code and how we approached this problem, as well as run our web app locally on their devices. We also have our notebook publicly on [Google Colab](https://colab.research.google.com/drive/1fRyfwq4_TmldYD-slHBYG9k1nw0lXXr4?usp=sharing)."
      ],
      "metadata": {
        "id": "CiO5LxUzwWGK"
      }
    },
    {
      "cell_type": "markdown",
      "metadata": {
        "id": "aO2hOEX-89Gd"
      },
      "source": [
        "# **Project Summary**\n",
        "\n",
        "This project aims to develop an AI model for allergen detection in food products using a multi-label classification approach. It will utilize separate Random Forest classifiers for each allergen class, treating them as independent binary classification tasks. This project addresses the limitations of traditional allergen detection methods, ensuring consumer safety and improving food allergen detection accuracy and food quality control processes. Using the \"Food Ingredients and Allergens\" dataset from Kaggle, the model will be trained to predict the presence of allergenic ingredients in different food products. The model will learn how to recognize patterns and associations between ingredients and allergens. The developed model will then be integrated into a web application for user-friendly allergen detection, where people with allergies can make informed decisions about the food they buy and consume. This project has the potential to benefit food manufacturers, the food service industry, regulatory bodies, and people with allergies, ultimately improving food safety and promoting informed food choices."
      ]
    },
    {
      "cell_type": "markdown",
      "metadata": {
        "id": "kxLBFRlD-Ld4"
      },
      "source": [
        "# **Data Collection**\n",
        "\n",
        "We obtained the 2023 Kaggle dataset titled [\"Food Ingredients & Allergens\"](https://kaggle.com/datasets/uom190346a/food-ingredients-and-allergens) by Laksika Tharmalingam. We augmented data by manually adding 92 entries to the dataset, adding various food products and their allergen labels that we got from Google. The augmented dataset will then be used to train and test our AI model for food allergen detection."
      ]
    },
    {
      "cell_type": "markdown",
      "metadata": {
        "id": "BNekqzYhtqPc"
      },
      "source": [
        "## **Importing the Original Dataset**\n",
        "\n",
        "The \"Food Ingredients & Allergens\" dataset is uploaded as a .csv file in our [GitHub repository](https://github.com/splasherzz/food-allergen-detector). This is imported and initialized in our notebook as `og_food`.\n",
        "We set the content of `data` to the link of the raw dataset file, and then utilize pandas' `.read_csv()` to store the dataframe into `og_food`. Lastly, `.head()` displays the first five rows to visualize the dataframe."
      ]
    },
    {
      "cell_type": "code",
      "execution_count": null,
      "metadata": {
        "colab": {
          "base_uri": "https://localhost:8080/",
          "height": 206
        },
        "id": "a5UXGR-FrbEm",
        "outputId": "fa2d0743-a2b1-4170-c698-238f4bbe3ca2"
      },
      "outputs": [
        {
          "output_type": "execute_result",
          "data": {
            "text/plain": [
              "          Food Product Main Ingredient Sweetener Fat/Oil Seasoning  \\\n",
              "0       Almond Cookies         Almonds     Sugar  Butter     Flour   \n",
              "1       Almond Cookies         Almonds     Sugar  Butter     Flour   \n",
              "2  Chicken Noodle Soup   Chicken broth      None    None      Salt   \n",
              "3  Chicken Noodle Soup   Chicken broth      None    None      Salt   \n",
              "4       Cheddar Cheese          Cheese      None    None      Salt   \n",
              "\n",
              "                Allergens Prediction  \n",
              "0   Almonds, Wheat, Dairy   Contains  \n",
              "1   Almonds, Wheat, Dairy   Contains  \n",
              "2  Chicken, Wheat, Celery   Contains  \n",
              "3  Chicken, Wheat, Celery   Contains  \n",
              "4                   Dairy   Contains  "
            ],
            "text/html": [
              "\n",
              "  <div id=\"df-ddc226d6-17c9-4ca4-a76e-2204a0670c58\">\n",
              "    <div class=\"colab-df-container\">\n",
              "      <div>\n",
              "<style scoped>\n",
              "    .dataframe tbody tr th:only-of-type {\n",
              "        vertical-align: middle;\n",
              "    }\n",
              "\n",
              "    .dataframe tbody tr th {\n",
              "        vertical-align: top;\n",
              "    }\n",
              "\n",
              "    .dataframe thead th {\n",
              "        text-align: right;\n",
              "    }\n",
              "</style>\n",
              "<table border=\"1\" class=\"dataframe\">\n",
              "  <thead>\n",
              "    <tr style=\"text-align: right;\">\n",
              "      <th></th>\n",
              "      <th>Food Product</th>\n",
              "      <th>Main Ingredient</th>\n",
              "      <th>Sweetener</th>\n",
              "      <th>Fat/Oil</th>\n",
              "      <th>Seasoning</th>\n",
              "      <th>Allergens</th>\n",
              "      <th>Prediction</th>\n",
              "    </tr>\n",
              "  </thead>\n",
              "  <tbody>\n",
              "    <tr>\n",
              "      <th>0</th>\n",
              "      <td>Almond Cookies</td>\n",
              "      <td>Almonds</td>\n",
              "      <td>Sugar</td>\n",
              "      <td>Butter</td>\n",
              "      <td>Flour</td>\n",
              "      <td>Almonds, Wheat, Dairy</td>\n",
              "      <td>Contains</td>\n",
              "    </tr>\n",
              "    <tr>\n",
              "      <th>1</th>\n",
              "      <td>Almond Cookies</td>\n",
              "      <td>Almonds</td>\n",
              "      <td>Sugar</td>\n",
              "      <td>Butter</td>\n",
              "      <td>Flour</td>\n",
              "      <td>Almonds, Wheat, Dairy</td>\n",
              "      <td>Contains</td>\n",
              "    </tr>\n",
              "    <tr>\n",
              "      <th>2</th>\n",
              "      <td>Chicken Noodle Soup</td>\n",
              "      <td>Chicken broth</td>\n",
              "      <td>None</td>\n",
              "      <td>None</td>\n",
              "      <td>Salt</td>\n",
              "      <td>Chicken, Wheat, Celery</td>\n",
              "      <td>Contains</td>\n",
              "    </tr>\n",
              "    <tr>\n",
              "      <th>3</th>\n",
              "      <td>Chicken Noodle Soup</td>\n",
              "      <td>Chicken broth</td>\n",
              "      <td>None</td>\n",
              "      <td>None</td>\n",
              "      <td>Salt</td>\n",
              "      <td>Chicken, Wheat, Celery</td>\n",
              "      <td>Contains</td>\n",
              "    </tr>\n",
              "    <tr>\n",
              "      <th>4</th>\n",
              "      <td>Cheddar Cheese</td>\n",
              "      <td>Cheese</td>\n",
              "      <td>None</td>\n",
              "      <td>None</td>\n",
              "      <td>Salt</td>\n",
              "      <td>Dairy</td>\n",
              "      <td>Contains</td>\n",
              "    </tr>\n",
              "  </tbody>\n",
              "</table>\n",
              "</div>\n",
              "      <button class=\"colab-df-convert\" onclick=\"convertToInteractive('df-ddc226d6-17c9-4ca4-a76e-2204a0670c58')\"\n",
              "              title=\"Convert this dataframe to an interactive table.\"\n",
              "              style=\"display:none;\">\n",
              "        \n",
              "  <svg xmlns=\"http://www.w3.org/2000/svg\" height=\"24px\"viewBox=\"0 0 24 24\"\n",
              "       width=\"24px\">\n",
              "    <path d=\"M0 0h24v24H0V0z\" fill=\"none\"/>\n",
              "    <path d=\"M18.56 5.44l.94 2.06.94-2.06 2.06-.94-2.06-.94-.94-2.06-.94 2.06-2.06.94zm-11 1L8.5 8.5l.94-2.06 2.06-.94-2.06-.94L8.5 2.5l-.94 2.06-2.06.94zm10 10l.94 2.06.94-2.06 2.06-.94-2.06-.94-.94-2.06-.94 2.06-2.06.94z\"/><path d=\"M17.41 7.96l-1.37-1.37c-.4-.4-.92-.59-1.43-.59-.52 0-1.04.2-1.43.59L10.3 9.45l-7.72 7.72c-.78.78-.78 2.05 0 2.83L4 21.41c.39.39.9.59 1.41.59.51 0 1.02-.2 1.41-.59l7.78-7.78 2.81-2.81c.8-.78.8-2.07 0-2.86zM5.41 20L4 18.59l7.72-7.72 1.47 1.35L5.41 20z\"/>\n",
              "  </svg>\n",
              "      </button>\n",
              "      \n",
              "  <style>\n",
              "    .colab-df-container {\n",
              "      display:flex;\n",
              "      flex-wrap:wrap;\n",
              "      gap: 12px;\n",
              "    }\n",
              "\n",
              "    .colab-df-convert {\n",
              "      background-color: #E8F0FE;\n",
              "      border: none;\n",
              "      border-radius: 50%;\n",
              "      cursor: pointer;\n",
              "      display: none;\n",
              "      fill: #1967D2;\n",
              "      height: 32px;\n",
              "      padding: 0 0 0 0;\n",
              "      width: 32px;\n",
              "    }\n",
              "\n",
              "    .colab-df-convert:hover {\n",
              "      background-color: #E2EBFA;\n",
              "      box-shadow: 0px 1px 2px rgba(60, 64, 67, 0.3), 0px 1px 3px 1px rgba(60, 64, 67, 0.15);\n",
              "      fill: #174EA6;\n",
              "    }\n",
              "\n",
              "    [theme=dark] .colab-df-convert {\n",
              "      background-color: #3B4455;\n",
              "      fill: #D2E3FC;\n",
              "    }\n",
              "\n",
              "    [theme=dark] .colab-df-convert:hover {\n",
              "      background-color: #434B5C;\n",
              "      box-shadow: 0px 1px 3px 1px rgba(0, 0, 0, 0.15);\n",
              "      filter: drop-shadow(0px 1px 2px rgba(0, 0, 0, 0.3));\n",
              "      fill: #FFFFFF;\n",
              "    }\n",
              "  </style>\n",
              "\n",
              "      <script>\n",
              "        const buttonEl =\n",
              "          document.querySelector('#df-ddc226d6-17c9-4ca4-a76e-2204a0670c58 button.colab-df-convert');\n",
              "        buttonEl.style.display =\n",
              "          google.colab.kernel.accessAllowed ? 'block' : 'none';\n",
              "\n",
              "        async function convertToInteractive(key) {\n",
              "          const element = document.querySelector('#df-ddc226d6-17c9-4ca4-a76e-2204a0670c58');\n",
              "          const dataTable =\n",
              "            await google.colab.kernel.invokeFunction('convertToInteractive',\n",
              "                                                     [key], {});\n",
              "          if (!dataTable) return;\n",
              "\n",
              "          const docLinkHtml = 'Like what you see? Visit the ' +\n",
              "            '<a target=\"_blank\" href=https://colab.research.google.com/notebooks/data_table.ipynb>data table notebook</a>'\n",
              "            + ' to learn more about interactive tables.';\n",
              "          element.innerHTML = '';\n",
              "          dataTable['output_type'] = 'display_data';\n",
              "          await google.colab.output.renderOutput(dataTable, element);\n",
              "          const docLink = document.createElement('div');\n",
              "          docLink.innerHTML = docLinkHtml;\n",
              "          element.appendChild(docLink);\n",
              "        }\n",
              "      </script>\n",
              "    </div>\n",
              "  </div>\n",
              "  "
            ]
          },
          "metadata": {},
          "execution_count": 3004
        }
      ],
      "source": [
        "import io\n",
        "import pandas as pd\n",
        "\n",
        "# initializing the dataset\n",
        "data = 'https://raw.githubusercontent.com/splasherzz/food-allergen-detector/main/datasets/%5BOriginal%5D%20Food%20Ingredients%20and%20Allergens.csv'\n",
        "og_food = pd.read_csv(data)\n",
        "og_food.head()"
      ]
    },
    {
      "cell_type": "markdown",
      "metadata": {
        "id": "Pvon3PDn02pj"
      },
      "source": [
        "## **Dataset Features**\n",
        "\n",
        "Below is a table of the dataset features and their respective descriptions.\n",
        "\n",
        "<table>\n",
        "  <tr>\n",
        "    <th>Column Name<th/>\n",
        "    <th>Description<th/>\n",
        "  <tr/>\n",
        "\n",
        "  <tr>\n",
        "    <td>Food Product<td/>\n",
        "    <td>Name of the food product<td/>\n",
        "  <tr/>\n",
        "  <tr>\n",
        "    <td>Main Ingredient<td/>\n",
        "    <td>Defining or distinctive ingredient of the food product<td/>\n",
        "  <tr/>\n",
        "  <tr>\n",
        "    <td>Sweetener<td/>\n",
        "    <td>Substance added to food or drink to impart the flavor of sweetness<td/>\n",
        "  <tr/>\n",
        "  <tr>\n",
        "    <td>Fat/Oil<td/>\n",
        "    <td>Lipids made from plants, animals, or synthetic compounds used when frying, baking, and preparing foods<td/>\n",
        "  <tr/>\n",
        "  <tr>\n",
        "    <td>Seasoning<td/>\n",
        "    <td>Salt, herbs, or spices added to food to enhance the flavour<td/>\n",
        "  <tr/>\n",
        "  <tr>\n",
        "    <td>Allergens<td/>\n",
        "    <td>Any normally harmless substance that causes an immediate allergic reaction in a susceptible person<td/>\n",
        "  <tr/>\n",
        "  <tr>\n",
        "    <td>Prediction<td/>\n",
        "    <td>Anticipated outcome of the model<td/>\n",
        "  <tr/>\n",
        "<table/>"
      ]
    },
    {
      "cell_type": "markdown",
      "metadata": {
        "id": "cWf2QdIcrI3y"
      },
      "source": [
        "# **Data Preprocessing**\n",
        "\n",
        "Before augmenting the dataset, we clean the original dataset by doing type formatting and handling null values and duplicate entries."
      ]
    },
    {
      "cell_type": "markdown",
      "metadata": {
        "id": "DLURrramJkCF"
      },
      "source": [
        "## **Type Formatting (Original Dataset)**\n",
        "\n",
        "The table provided below summarizes the possible data types that we may encounter when using Pandas."
      ]
    },
    {
      "cell_type": "markdown",
      "metadata": {
        "id": "jRgplQ3D9aTJ"
      },
      "source": [
        "<table>\n",
        "  <tr>\n",
        "    <th>Data type<th/>\n",
        "    <th>Description<th/>\n",
        "  <tr/>\n",
        "\n",
        "  <tr>\n",
        "    <td>object<td/>\n",
        "    <td>Text or mixed numeric and non-numeric values<td/>\n",
        "  <tr/>\n",
        "  <tr>\n",
        "    <td>int64<td/>\n",
        "    <td>Integer numbers<td/>\n",
        "  <tr/>\n",
        "  <tr>\n",
        "    <td>float64<td/>\n",
        "    <td>Floating point numbers<td/>\n",
        "  <tr/>\n",
        "  <tr>\n",
        "    <td>bool<td/>\n",
        "    <td>True/False values<td/>\n",
        "  <tr/>\n",
        "  <tr>\n",
        "    <td>datetime64<td/>\n",
        "    <td>Date and time values<td/>\n",
        "  <tr/>\n",
        "  <tr>\n",
        "    <td>timedelta[ns]<td/>\n",
        "    <td>Differences between two datetimes<td/>\n",
        "  <tr/>\n",
        "  <tr>\n",
        "    <td>category<td/>\n",
        "    <td>Finite list of text values<td/>\n",
        "  <tr/>\n",
        "<table/>"
      ]
    },
    {
      "cell_type": "markdown",
      "metadata": {
        "id": "9P_4_FAVKntk"
      },
      "source": [
        "Using `dtypes` on the dataset, we observed that all columns had the data type `object`, which is described as \"text or mixed numeric and non-numeric values.\" We then perform type formatting to ensure all our columns have the type `category`, as it fits the description of a \"finite list of text values.\" It is also appropriate for our dataset since our columns are different categories of the food product. A loop that goes through the values of each column, in combination with `.astype('category')`, is utilized to convert the datatype."
      ]
    },
    {
      "cell_type": "code",
      "execution_count": null,
      "metadata": {
        "colab": {
          "base_uri": "https://localhost:8080/"
        },
        "id": "1QoAsU9e1Km5",
        "outputId": "47cfaca6-702e-44a0-be68-858ca7d20aae"
      },
      "outputs": [
        {
          "output_type": "execute_result",
          "data": {
            "text/plain": [
              "Food Product       category\n",
              "Main Ingredient    category\n",
              "Sweetener          category\n",
              "Fat/Oil            category\n",
              "Seasoning          category\n",
              "Allergens          category\n",
              "Prediction         category\n",
              "dtype: object"
            ]
          },
          "metadata": {},
          "execution_count": 3005
        }
      ],
      "source": [
        "# performing type formatting to change all columns data types into \"category\"\n",
        "for item in og_food:\n",
        "  if og_food[item].dtype == object:\n",
        "    og_food[item] = og_food[item].astype('category')\n",
        "\n",
        "og_food.dtypes"
      ]
    },
    {
      "cell_type": "markdown",
      "metadata": {
        "id": "EDAteYoXxYf-"
      },
      "source": [
        "## **Handling Duplicates & Null Values**\n",
        "\n",
        "Before dropping duplicates, we first check if there are null values in the dataset.\n",
        "\n",
        "We print the number of missing values using `.isna()`, which returns a boolean same-sized object indicating if the values are `NaN`. These values get mapped to `True` values, while everything else gets mapped to `False` values. Thereafter, `.sum()` is used to get the total number of null values per column.\n",
        "\n",
        "To find all rows that contain null values, we use the syntax `og_food[og_food.isna().any(axis=1)]`. Only one column had a null value and it was in the `Prediction` column."
      ]
    },
    {
      "cell_type": "code",
      "execution_count": null,
      "metadata": {
        "colab": {
          "base_uri": "https://localhost:8080/"
        },
        "id": "zvVkKb0HvXcA",
        "outputId": "2d5e054c-0101-4f90-8283-0bbeed33a7f7"
      },
      "outputs": [
        {
          "output_type": "stream",
          "name": "stdout",
          "text": [
            "Total number of missing values in whole dataset: 1\n",
            "\n",
            "\n",
            "Breakdown of which columns have missing values:\n",
            " Food Product       0\n",
            "Main Ingredient    0\n",
            "Sweetener          0\n",
            "Fat/Oil            0\n",
            "Seasoning          0\n",
            "Allergens          0\n",
            "Prediction         1\n",
            "dtype: int64\n",
            "\n",
            "\n",
            "Entry with null values:\n",
            "     Food Product Main Ingredient Sweetener Fat/Oil     Seasoning  \\\n",
            "338   Baked Ziti           Pasta      None  Cheese  Tomato sauce   \n",
            "\n",
            "        Allergens Prediction  \n",
            "338  Wheat, Dairy        NaN  \n"
          ]
        }
      ],
      "source": [
        "# handling null values\n",
        "print(\"Total number of missing values in whole dataset:\", og_food.isna().sum().sum())\n",
        "print(\"\\n\")\n",
        "print(\"Breakdown of which columns have missing values:\\n\", og_food.isna().sum())\n",
        "print(\"\\n\")\n",
        "print(\"Entry with null values:\\n\", og_food[og_food.isna().any(axis=1)])"
      ]
    },
    {
      "cell_type": "markdown",
      "metadata": {
        "id": "8oZQmdus0lSE"
      },
      "source": [
        "Upon manually checking the dataset for the row with null value (entry 338), it was a duplicate for the same entry with `Prediction` correctly filled up. Thus, we just drop this single row with null entry. This can be done using `.dropna()`, which drops missing values. By setting its `inplace` parameter to `True`, we specify that this is done on the current dataframe `og_food`.\n",
        "\n",
        "\n",
        "We also drop the duplicates in the dataset, keeping only the first occurrence. `.drop_duplicates()` returns a dataframe with duplicate rows already removed. Setting the parameter `keep` to `'first'` makes the dataframe keep only the first occurence of the duplicate rows."
      ]
    },
    {
      "cell_type": "code",
      "execution_count": null,
      "metadata": {
        "colab": {
          "base_uri": "https://localhost:8080/",
          "height": 206
        },
        "id": "LMMzJUgtxwDv",
        "outputId": "0c202546-fc0f-4b35-bb60-4a3b222bf815"
      },
      "outputs": [
        {
          "output_type": "execute_result",
          "data": {
            "text/plain": [
              "          Food Product Main Ingredient Sweetener        Fat/Oil  \\\n",
              "0       Almond Cookies         Almonds     Sugar         Butter   \n",
              "2  Chicken Noodle Soup   Chicken broth      None           None   \n",
              "4       Cheddar Cheese          Cheese      None           None   \n",
              "5       Ranch Dressing      Buttermilk     Sugar  Vegetable oil   \n",
              "6      Caramel Popcorn         Popcorn     Sugar         Butter   \n",
              "\n",
              "       Seasoning               Allergens Prediction  \n",
              "0          Flour   Almonds, Wheat, Dairy   Contains  \n",
              "2           Salt  Chicken, Wheat, Celery   Contains  \n",
              "4           Salt                   Dairy   Contains  \n",
              "5  Garlic, herbs                   Dairy   Contains  \n",
              "6           Salt                   Dairy   Contains  "
            ],
            "text/html": [
              "\n",
              "  <div id=\"df-0e1601fe-5bb8-4e51-b01a-79ffbf42e76a\">\n",
              "    <div class=\"colab-df-container\">\n",
              "      <div>\n",
              "<style scoped>\n",
              "    .dataframe tbody tr th:only-of-type {\n",
              "        vertical-align: middle;\n",
              "    }\n",
              "\n",
              "    .dataframe tbody tr th {\n",
              "        vertical-align: top;\n",
              "    }\n",
              "\n",
              "    .dataframe thead th {\n",
              "        text-align: right;\n",
              "    }\n",
              "</style>\n",
              "<table border=\"1\" class=\"dataframe\">\n",
              "  <thead>\n",
              "    <tr style=\"text-align: right;\">\n",
              "      <th></th>\n",
              "      <th>Food Product</th>\n",
              "      <th>Main Ingredient</th>\n",
              "      <th>Sweetener</th>\n",
              "      <th>Fat/Oil</th>\n",
              "      <th>Seasoning</th>\n",
              "      <th>Allergens</th>\n",
              "      <th>Prediction</th>\n",
              "    </tr>\n",
              "  </thead>\n",
              "  <tbody>\n",
              "    <tr>\n",
              "      <th>0</th>\n",
              "      <td>Almond Cookies</td>\n",
              "      <td>Almonds</td>\n",
              "      <td>Sugar</td>\n",
              "      <td>Butter</td>\n",
              "      <td>Flour</td>\n",
              "      <td>Almonds, Wheat, Dairy</td>\n",
              "      <td>Contains</td>\n",
              "    </tr>\n",
              "    <tr>\n",
              "      <th>2</th>\n",
              "      <td>Chicken Noodle Soup</td>\n",
              "      <td>Chicken broth</td>\n",
              "      <td>None</td>\n",
              "      <td>None</td>\n",
              "      <td>Salt</td>\n",
              "      <td>Chicken, Wheat, Celery</td>\n",
              "      <td>Contains</td>\n",
              "    </tr>\n",
              "    <tr>\n",
              "      <th>4</th>\n",
              "      <td>Cheddar Cheese</td>\n",
              "      <td>Cheese</td>\n",
              "      <td>None</td>\n",
              "      <td>None</td>\n",
              "      <td>Salt</td>\n",
              "      <td>Dairy</td>\n",
              "      <td>Contains</td>\n",
              "    </tr>\n",
              "    <tr>\n",
              "      <th>5</th>\n",
              "      <td>Ranch Dressing</td>\n",
              "      <td>Buttermilk</td>\n",
              "      <td>Sugar</td>\n",
              "      <td>Vegetable oil</td>\n",
              "      <td>Garlic, herbs</td>\n",
              "      <td>Dairy</td>\n",
              "      <td>Contains</td>\n",
              "    </tr>\n",
              "    <tr>\n",
              "      <th>6</th>\n",
              "      <td>Caramel Popcorn</td>\n",
              "      <td>Popcorn</td>\n",
              "      <td>Sugar</td>\n",
              "      <td>Butter</td>\n",
              "      <td>Salt</td>\n",
              "      <td>Dairy</td>\n",
              "      <td>Contains</td>\n",
              "    </tr>\n",
              "  </tbody>\n",
              "</table>\n",
              "</div>\n",
              "      <button class=\"colab-df-convert\" onclick=\"convertToInteractive('df-0e1601fe-5bb8-4e51-b01a-79ffbf42e76a')\"\n",
              "              title=\"Convert this dataframe to an interactive table.\"\n",
              "              style=\"display:none;\">\n",
              "        \n",
              "  <svg xmlns=\"http://www.w3.org/2000/svg\" height=\"24px\"viewBox=\"0 0 24 24\"\n",
              "       width=\"24px\">\n",
              "    <path d=\"M0 0h24v24H0V0z\" fill=\"none\"/>\n",
              "    <path d=\"M18.56 5.44l.94 2.06.94-2.06 2.06-.94-2.06-.94-.94-2.06-.94 2.06-2.06.94zm-11 1L8.5 8.5l.94-2.06 2.06-.94-2.06-.94L8.5 2.5l-.94 2.06-2.06.94zm10 10l.94 2.06.94-2.06 2.06-.94-2.06-.94-.94-2.06-.94 2.06-2.06.94z\"/><path d=\"M17.41 7.96l-1.37-1.37c-.4-.4-.92-.59-1.43-.59-.52 0-1.04.2-1.43.59L10.3 9.45l-7.72 7.72c-.78.78-.78 2.05 0 2.83L4 21.41c.39.39.9.59 1.41.59.51 0 1.02-.2 1.41-.59l7.78-7.78 2.81-2.81c.8-.78.8-2.07 0-2.86zM5.41 20L4 18.59l7.72-7.72 1.47 1.35L5.41 20z\"/>\n",
              "  </svg>\n",
              "      </button>\n",
              "      \n",
              "  <style>\n",
              "    .colab-df-container {\n",
              "      display:flex;\n",
              "      flex-wrap:wrap;\n",
              "      gap: 12px;\n",
              "    }\n",
              "\n",
              "    .colab-df-convert {\n",
              "      background-color: #E8F0FE;\n",
              "      border: none;\n",
              "      border-radius: 50%;\n",
              "      cursor: pointer;\n",
              "      display: none;\n",
              "      fill: #1967D2;\n",
              "      height: 32px;\n",
              "      padding: 0 0 0 0;\n",
              "      width: 32px;\n",
              "    }\n",
              "\n",
              "    .colab-df-convert:hover {\n",
              "      background-color: #E2EBFA;\n",
              "      box-shadow: 0px 1px 2px rgba(60, 64, 67, 0.3), 0px 1px 3px 1px rgba(60, 64, 67, 0.15);\n",
              "      fill: #174EA6;\n",
              "    }\n",
              "\n",
              "    [theme=dark] .colab-df-convert {\n",
              "      background-color: #3B4455;\n",
              "      fill: #D2E3FC;\n",
              "    }\n",
              "\n",
              "    [theme=dark] .colab-df-convert:hover {\n",
              "      background-color: #434B5C;\n",
              "      box-shadow: 0px 1px 3px 1px rgba(0, 0, 0, 0.15);\n",
              "      filter: drop-shadow(0px 1px 2px rgba(0, 0, 0, 0.3));\n",
              "      fill: #FFFFFF;\n",
              "    }\n",
              "  </style>\n",
              "\n",
              "      <script>\n",
              "        const buttonEl =\n",
              "          document.querySelector('#df-0e1601fe-5bb8-4e51-b01a-79ffbf42e76a button.colab-df-convert');\n",
              "        buttonEl.style.display =\n",
              "          google.colab.kernel.accessAllowed ? 'block' : 'none';\n",
              "\n",
              "        async function convertToInteractive(key) {\n",
              "          const element = document.querySelector('#df-0e1601fe-5bb8-4e51-b01a-79ffbf42e76a');\n",
              "          const dataTable =\n",
              "            await google.colab.kernel.invokeFunction('convertToInteractive',\n",
              "                                                     [key], {});\n",
              "          if (!dataTable) return;\n",
              "\n",
              "          const docLinkHtml = 'Like what you see? Visit the ' +\n",
              "            '<a target=\"_blank\" href=https://colab.research.google.com/notebooks/data_table.ipynb>data table notebook</a>'\n",
              "            + ' to learn more about interactive tables.';\n",
              "          element.innerHTML = '';\n",
              "          dataTable['output_type'] = 'display_data';\n",
              "          await google.colab.output.renderOutput(dataTable, element);\n",
              "          const docLink = document.createElement('div');\n",
              "          docLink.innerHTML = docLinkHtml;\n",
              "          element.appendChild(docLink);\n",
              "        }\n",
              "      </script>\n",
              "    </div>\n",
              "  </div>\n",
              "  "
            ]
          },
          "metadata": {},
          "execution_count": 3007
        }
      ],
      "source": [
        "# dropping entry with null value\n",
        "og_food.dropna(inplace=True)\n",
        "\n",
        "# handling & dropping duplicates\n",
        "og_food.drop_duplicates(keep='first', inplace=True)\n",
        "og_food.head()"
      ]
    },
    {
      "cell_type": "markdown",
      "metadata": {
        "id": "8SKwPA9gj1kK"
      },
      "source": [
        "After dropping the duplicates and a row with a null value, we check for the current shape of the dataset. As shown below, there are only 308 entries left out of the initial 400. The attribute `.shape` returns a tuple containing the dataframe's number of rows and columns `(rows, columns)`."
      ]
    },
    {
      "cell_type": "code",
      "execution_count": null,
      "metadata": {
        "colab": {
          "base_uri": "https://localhost:8080/"
        },
        "id": "eIMTDcCxdmxr",
        "outputId": "3828ecba-444d-46c1-a322-3bef2d0684aa"
      },
      "outputs": [
        {
          "output_type": "execute_result",
          "data": {
            "text/plain": [
              "(308, 7)"
            ]
          },
          "metadata": {},
          "execution_count": 3008
        }
      ],
      "source": [
        "og_food.shape"
      ]
    },
    {
      "cell_type": "markdown",
      "metadata": {
        "id": "yCrhLQ-2wzkD"
      },
      "source": [
        "## **Augmenting the Dataset**\n",
        "We augment the dataset by downloading the cleaned/preprocessed .csv file and manually adding 92 more entries to reach the same number of rows as prior to the deletion. To procure the data, we looked for random food products, their ingredients, and their allergen labels on Google.\n",
        "We first made sure that there were no duplicates by searching the food product in the dataset before adding it. The commented lines below are used to save the cleaned dataset's CSV file."
      ]
    },
    {
      "cell_type": "code",
      "execution_count": null,
      "metadata": {
        "id": "t3mt3Ul1xJT9"
      },
      "outputs": [],
      "source": [
        "# # saving it as a CSV file\n",
        "# df = pd.DataFrame(og_food)\n",
        "# df.to_csv(\"[Augmented] Food Ingredients and Allergens.csv\", index=False)"
      ]
    },
    {
      "cell_type": "markdown",
      "metadata": {
        "id": "FMZPVmPqk-2z"
      },
      "source": [
        "## **Importing the Augmented Dataset**\n",
        "\n",
        "Then, we import the augmented dataset as `aug_food`, and verify if the dimensions are correct. The dataset is uploaded as a CSV file in our [GitHub repository](https://github.com/splasherzz/food-allergen-detector). We do the same process that we did when we imported the original dataset."
      ]
    },
    {
      "cell_type": "code",
      "execution_count": null,
      "metadata": {
        "colab": {
          "base_uri": "https://localhost:8080/",
          "height": 206
        },
        "id": "SLqUqiq6g8en",
        "outputId": "40c502b7-9560-4d0f-d52a-ed91caa9d3f2"
      },
      "outputs": [
        {
          "output_type": "execute_result",
          "data": {
            "text/plain": [
              "          Food Product Main Ingredient Sweetener        Fat/Oil  \\\n",
              "0       Almond Cookies         Almonds     Sugar         Butter   \n",
              "1  Chicken Noodle Soup   Chicken broth      None           None   \n",
              "2       Cheddar Cheese          Cheese      None           None   \n",
              "3       Ranch Dressing      Buttermilk     Sugar  Vegetable oil   \n",
              "4      Caramel Popcorn         Popcorn     Sugar         Butter   \n",
              "\n",
              "       Seasoning               Allergens Prediction  \n",
              "0          Flour   Almonds, Wheat, Dairy   Contains  \n",
              "1           Salt  Chicken, Wheat, Celery   Contains  \n",
              "2           Salt                   Dairy   Contains  \n",
              "3  Garlic, herbs                   Dairy   Contains  \n",
              "4           Salt                   Dairy   Contains  "
            ],
            "text/html": [
              "\n",
              "  <div id=\"df-8904c5f3-6b2b-4ebc-9422-159980029374\">\n",
              "    <div class=\"colab-df-container\">\n",
              "      <div>\n",
              "<style scoped>\n",
              "    .dataframe tbody tr th:only-of-type {\n",
              "        vertical-align: middle;\n",
              "    }\n",
              "\n",
              "    .dataframe tbody tr th {\n",
              "        vertical-align: top;\n",
              "    }\n",
              "\n",
              "    .dataframe thead th {\n",
              "        text-align: right;\n",
              "    }\n",
              "</style>\n",
              "<table border=\"1\" class=\"dataframe\">\n",
              "  <thead>\n",
              "    <tr style=\"text-align: right;\">\n",
              "      <th></th>\n",
              "      <th>Food Product</th>\n",
              "      <th>Main Ingredient</th>\n",
              "      <th>Sweetener</th>\n",
              "      <th>Fat/Oil</th>\n",
              "      <th>Seasoning</th>\n",
              "      <th>Allergens</th>\n",
              "      <th>Prediction</th>\n",
              "    </tr>\n",
              "  </thead>\n",
              "  <tbody>\n",
              "    <tr>\n",
              "      <th>0</th>\n",
              "      <td>Almond Cookies</td>\n",
              "      <td>Almonds</td>\n",
              "      <td>Sugar</td>\n",
              "      <td>Butter</td>\n",
              "      <td>Flour</td>\n",
              "      <td>Almonds, Wheat, Dairy</td>\n",
              "      <td>Contains</td>\n",
              "    </tr>\n",
              "    <tr>\n",
              "      <th>1</th>\n",
              "      <td>Chicken Noodle Soup</td>\n",
              "      <td>Chicken broth</td>\n",
              "      <td>None</td>\n",
              "      <td>None</td>\n",
              "      <td>Salt</td>\n",
              "      <td>Chicken, Wheat, Celery</td>\n",
              "      <td>Contains</td>\n",
              "    </tr>\n",
              "    <tr>\n",
              "      <th>2</th>\n",
              "      <td>Cheddar Cheese</td>\n",
              "      <td>Cheese</td>\n",
              "      <td>None</td>\n",
              "      <td>None</td>\n",
              "      <td>Salt</td>\n",
              "      <td>Dairy</td>\n",
              "      <td>Contains</td>\n",
              "    </tr>\n",
              "    <tr>\n",
              "      <th>3</th>\n",
              "      <td>Ranch Dressing</td>\n",
              "      <td>Buttermilk</td>\n",
              "      <td>Sugar</td>\n",
              "      <td>Vegetable oil</td>\n",
              "      <td>Garlic, herbs</td>\n",
              "      <td>Dairy</td>\n",
              "      <td>Contains</td>\n",
              "    </tr>\n",
              "    <tr>\n",
              "      <th>4</th>\n",
              "      <td>Caramel Popcorn</td>\n",
              "      <td>Popcorn</td>\n",
              "      <td>Sugar</td>\n",
              "      <td>Butter</td>\n",
              "      <td>Salt</td>\n",
              "      <td>Dairy</td>\n",
              "      <td>Contains</td>\n",
              "    </tr>\n",
              "  </tbody>\n",
              "</table>\n",
              "</div>\n",
              "      <button class=\"colab-df-convert\" onclick=\"convertToInteractive('df-8904c5f3-6b2b-4ebc-9422-159980029374')\"\n",
              "              title=\"Convert this dataframe to an interactive table.\"\n",
              "              style=\"display:none;\">\n",
              "        \n",
              "  <svg xmlns=\"http://www.w3.org/2000/svg\" height=\"24px\"viewBox=\"0 0 24 24\"\n",
              "       width=\"24px\">\n",
              "    <path d=\"M0 0h24v24H0V0z\" fill=\"none\"/>\n",
              "    <path d=\"M18.56 5.44l.94 2.06.94-2.06 2.06-.94-2.06-.94-.94-2.06-.94 2.06-2.06.94zm-11 1L8.5 8.5l.94-2.06 2.06-.94-2.06-.94L8.5 2.5l-.94 2.06-2.06.94zm10 10l.94 2.06.94-2.06 2.06-.94-2.06-.94-.94-2.06-.94 2.06-2.06.94z\"/><path d=\"M17.41 7.96l-1.37-1.37c-.4-.4-.92-.59-1.43-.59-.52 0-1.04.2-1.43.59L10.3 9.45l-7.72 7.72c-.78.78-.78 2.05 0 2.83L4 21.41c.39.39.9.59 1.41.59.51 0 1.02-.2 1.41-.59l7.78-7.78 2.81-2.81c.8-.78.8-2.07 0-2.86zM5.41 20L4 18.59l7.72-7.72 1.47 1.35L5.41 20z\"/>\n",
              "  </svg>\n",
              "      </button>\n",
              "      \n",
              "  <style>\n",
              "    .colab-df-container {\n",
              "      display:flex;\n",
              "      flex-wrap:wrap;\n",
              "      gap: 12px;\n",
              "    }\n",
              "\n",
              "    .colab-df-convert {\n",
              "      background-color: #E8F0FE;\n",
              "      border: none;\n",
              "      border-radius: 50%;\n",
              "      cursor: pointer;\n",
              "      display: none;\n",
              "      fill: #1967D2;\n",
              "      height: 32px;\n",
              "      padding: 0 0 0 0;\n",
              "      width: 32px;\n",
              "    }\n",
              "\n",
              "    .colab-df-convert:hover {\n",
              "      background-color: #E2EBFA;\n",
              "      box-shadow: 0px 1px 2px rgba(60, 64, 67, 0.3), 0px 1px 3px 1px rgba(60, 64, 67, 0.15);\n",
              "      fill: #174EA6;\n",
              "    }\n",
              "\n",
              "    [theme=dark] .colab-df-convert {\n",
              "      background-color: #3B4455;\n",
              "      fill: #D2E3FC;\n",
              "    }\n",
              "\n",
              "    [theme=dark] .colab-df-convert:hover {\n",
              "      background-color: #434B5C;\n",
              "      box-shadow: 0px 1px 3px 1px rgba(0, 0, 0, 0.15);\n",
              "      filter: drop-shadow(0px 1px 2px rgba(0, 0, 0, 0.3));\n",
              "      fill: #FFFFFF;\n",
              "    }\n",
              "  </style>\n",
              "\n",
              "      <script>\n",
              "        const buttonEl =\n",
              "          document.querySelector('#df-8904c5f3-6b2b-4ebc-9422-159980029374 button.colab-df-convert');\n",
              "        buttonEl.style.display =\n",
              "          google.colab.kernel.accessAllowed ? 'block' : 'none';\n",
              "\n",
              "        async function convertToInteractive(key) {\n",
              "          const element = document.querySelector('#df-8904c5f3-6b2b-4ebc-9422-159980029374');\n",
              "          const dataTable =\n",
              "            await google.colab.kernel.invokeFunction('convertToInteractive',\n",
              "                                                     [key], {});\n",
              "          if (!dataTable) return;\n",
              "\n",
              "          const docLinkHtml = 'Like what you see? Visit the ' +\n",
              "            '<a target=\"_blank\" href=https://colab.research.google.com/notebooks/data_table.ipynb>data table notebook</a>'\n",
              "            + ' to learn more about interactive tables.';\n",
              "          element.innerHTML = '';\n",
              "          dataTable['output_type'] = 'display_data';\n",
              "          await google.colab.output.renderOutput(dataTable, element);\n",
              "          const docLink = document.createElement('div');\n",
              "          docLink.innerHTML = docLinkHtml;\n",
              "          element.appendChild(docLink);\n",
              "        }\n",
              "      </script>\n",
              "    </div>\n",
              "  </div>\n",
              "  "
            ]
          },
          "metadata": {},
          "execution_count": 3010
        }
      ],
      "source": [
        "data1 = 'https://raw.githubusercontent.com/splasherzz/food-allergen-detector/main/datasets/%5BAugmented%5D%20Food%20Ingredients%20and%20Allergens.csv'\n",
        "aug_food = pd.read_csv(data1)\n",
        "\n",
        "aug_food.head()"
      ]
    },
    {
      "cell_type": "markdown",
      "metadata": {
        "id": "4o99s5p9kMnK"
      },
      "source": [
        "After augmenting, we check for the current shape of the dataset. As shown below, the number of entries are back to the initial 400 due to the additional 92 entries."
      ]
    },
    {
      "cell_type": "code",
      "execution_count": null,
      "metadata": {
        "colab": {
          "base_uri": "https://localhost:8080/"
        },
        "id": "tiHm4Gr_kMnK",
        "outputId": "e5dcecb8-1e0e-4f2a-993d-d940069bde6a"
      },
      "outputs": [
        {
          "output_type": "execute_result",
          "data": {
            "text/plain": [
              "(400, 7)"
            ]
          },
          "metadata": {},
          "execution_count": 3011
        }
      ],
      "source": [
        "aug_food.shape"
      ]
    },
    {
      "cell_type": "markdown",
      "source": [
        "## **Type Formatting (Augmented Dataset)**\n",
        "\n",
        "We perform the same process that we did before to ensure all our columns have the type `category`, as it fits the description of a \"finite list of text values.\" It is also appropriate for our dataset since our columns are different categories of the food product."
      ],
      "metadata": {
        "id": "36TKKMoe8d8s"
      }
    },
    {
      "cell_type": "code",
      "execution_count": null,
      "metadata": {
        "colab": {
          "base_uri": "https://localhost:8080/"
        },
        "outputId": "e812a034-61d2-42e4-c275-c5b4452f6a02",
        "id": "1hxApvxP6_x9"
      },
      "outputs": [
        {
          "output_type": "execute_result",
          "data": {
            "text/plain": [
              "Food Product       category\n",
              "Main Ingredient    category\n",
              "Sweetener          category\n",
              "Fat/Oil            category\n",
              "Seasoning          category\n",
              "Allergens          category\n",
              "Prediction         category\n",
              "dtype: object"
            ]
          },
          "metadata": {},
          "execution_count": 3012
        }
      ],
      "source": [
        "# performing type formatting to change all columns data types into \"category\"\n",
        "for item in aug_food:\n",
        "  if aug_food[item].dtype == object:\n",
        "    aug_food[item] = aug_food[item].astype('category')\n",
        "\n",
        "aug_food.dtypes"
      ]
    },
    {
      "cell_type": "markdown",
      "metadata": {
        "id": "GmrThw-4kMnJ"
      },
      "source": [
        "## **Lowercase Conversion**\n",
        "Converting the values of the whole dataframe to lowercase is important for consistency and standardization. By doing this, we ensure that the data is consistent throughout, helping to avoid duplicate or mismatched entries.\n",
        "\n",
        "`.applymap()` takes in a function as its parameter and applies it to the dataframe elementwise. In this case, we use a function that sets the value of `s` to lowercase using `.lower()` if it is a string; else, we do no changes to the value."
      ]
    },
    {
      "cell_type": "code",
      "execution_count": null,
      "metadata": {
        "colab": {
          "base_uri": "https://localhost:8080/",
          "height": 206
        },
        "id": "2AVnDEnhkMnJ",
        "outputId": "3ca4202d-4100-4572-dc49-50ad7abc41b7"
      },
      "outputs": [
        {
          "output_type": "execute_result",
          "data": {
            "text/plain": [
              "          Food Product Main Ingredient Sweetener        Fat/Oil  \\\n",
              "0       almond cookies         almonds     sugar         butter   \n",
              "1  chicken noodle soup   chicken broth      none           none   \n",
              "2       cheddar cheese          cheese      none           none   \n",
              "3       ranch dressing      buttermilk     sugar  vegetable oil   \n",
              "4      caramel popcorn         popcorn     sugar         butter   \n",
              "\n",
              "       Seasoning               Allergens Prediction  \n",
              "0          flour   almonds, wheat, dairy   contains  \n",
              "1           salt  chicken, wheat, celery   contains  \n",
              "2           salt                   dairy   contains  \n",
              "3  garlic, herbs                   dairy   contains  \n",
              "4           salt                   dairy   contains  "
            ],
            "text/html": [
              "\n",
              "  <div id=\"df-9d419ef3-17fc-4d11-867a-29cace362c2a\">\n",
              "    <div class=\"colab-df-container\">\n",
              "      <div>\n",
              "<style scoped>\n",
              "    .dataframe tbody tr th:only-of-type {\n",
              "        vertical-align: middle;\n",
              "    }\n",
              "\n",
              "    .dataframe tbody tr th {\n",
              "        vertical-align: top;\n",
              "    }\n",
              "\n",
              "    .dataframe thead th {\n",
              "        text-align: right;\n",
              "    }\n",
              "</style>\n",
              "<table border=\"1\" class=\"dataframe\">\n",
              "  <thead>\n",
              "    <tr style=\"text-align: right;\">\n",
              "      <th></th>\n",
              "      <th>Food Product</th>\n",
              "      <th>Main Ingredient</th>\n",
              "      <th>Sweetener</th>\n",
              "      <th>Fat/Oil</th>\n",
              "      <th>Seasoning</th>\n",
              "      <th>Allergens</th>\n",
              "      <th>Prediction</th>\n",
              "    </tr>\n",
              "  </thead>\n",
              "  <tbody>\n",
              "    <tr>\n",
              "      <th>0</th>\n",
              "      <td>almond cookies</td>\n",
              "      <td>almonds</td>\n",
              "      <td>sugar</td>\n",
              "      <td>butter</td>\n",
              "      <td>flour</td>\n",
              "      <td>almonds, wheat, dairy</td>\n",
              "      <td>contains</td>\n",
              "    </tr>\n",
              "    <tr>\n",
              "      <th>1</th>\n",
              "      <td>chicken noodle soup</td>\n",
              "      <td>chicken broth</td>\n",
              "      <td>none</td>\n",
              "      <td>none</td>\n",
              "      <td>salt</td>\n",
              "      <td>chicken, wheat, celery</td>\n",
              "      <td>contains</td>\n",
              "    </tr>\n",
              "    <tr>\n",
              "      <th>2</th>\n",
              "      <td>cheddar cheese</td>\n",
              "      <td>cheese</td>\n",
              "      <td>none</td>\n",
              "      <td>none</td>\n",
              "      <td>salt</td>\n",
              "      <td>dairy</td>\n",
              "      <td>contains</td>\n",
              "    </tr>\n",
              "    <tr>\n",
              "      <th>3</th>\n",
              "      <td>ranch dressing</td>\n",
              "      <td>buttermilk</td>\n",
              "      <td>sugar</td>\n",
              "      <td>vegetable oil</td>\n",
              "      <td>garlic, herbs</td>\n",
              "      <td>dairy</td>\n",
              "      <td>contains</td>\n",
              "    </tr>\n",
              "    <tr>\n",
              "      <th>4</th>\n",
              "      <td>caramel popcorn</td>\n",
              "      <td>popcorn</td>\n",
              "      <td>sugar</td>\n",
              "      <td>butter</td>\n",
              "      <td>salt</td>\n",
              "      <td>dairy</td>\n",
              "      <td>contains</td>\n",
              "    </tr>\n",
              "  </tbody>\n",
              "</table>\n",
              "</div>\n",
              "      <button class=\"colab-df-convert\" onclick=\"convertToInteractive('df-9d419ef3-17fc-4d11-867a-29cace362c2a')\"\n",
              "              title=\"Convert this dataframe to an interactive table.\"\n",
              "              style=\"display:none;\">\n",
              "        \n",
              "  <svg xmlns=\"http://www.w3.org/2000/svg\" height=\"24px\"viewBox=\"0 0 24 24\"\n",
              "       width=\"24px\">\n",
              "    <path d=\"M0 0h24v24H0V0z\" fill=\"none\"/>\n",
              "    <path d=\"M18.56 5.44l.94 2.06.94-2.06 2.06-.94-2.06-.94-.94-2.06-.94 2.06-2.06.94zm-11 1L8.5 8.5l.94-2.06 2.06-.94-2.06-.94L8.5 2.5l-.94 2.06-2.06.94zm10 10l.94 2.06.94-2.06 2.06-.94-2.06-.94-.94-2.06-.94 2.06-2.06.94z\"/><path d=\"M17.41 7.96l-1.37-1.37c-.4-.4-.92-.59-1.43-.59-.52 0-1.04.2-1.43.59L10.3 9.45l-7.72 7.72c-.78.78-.78 2.05 0 2.83L4 21.41c.39.39.9.59 1.41.59.51 0 1.02-.2 1.41-.59l7.78-7.78 2.81-2.81c.8-.78.8-2.07 0-2.86zM5.41 20L4 18.59l7.72-7.72 1.47 1.35L5.41 20z\"/>\n",
              "  </svg>\n",
              "      </button>\n",
              "      \n",
              "  <style>\n",
              "    .colab-df-container {\n",
              "      display:flex;\n",
              "      flex-wrap:wrap;\n",
              "      gap: 12px;\n",
              "    }\n",
              "\n",
              "    .colab-df-convert {\n",
              "      background-color: #E8F0FE;\n",
              "      border: none;\n",
              "      border-radius: 50%;\n",
              "      cursor: pointer;\n",
              "      display: none;\n",
              "      fill: #1967D2;\n",
              "      height: 32px;\n",
              "      padding: 0 0 0 0;\n",
              "      width: 32px;\n",
              "    }\n",
              "\n",
              "    .colab-df-convert:hover {\n",
              "      background-color: #E2EBFA;\n",
              "      box-shadow: 0px 1px 2px rgba(60, 64, 67, 0.3), 0px 1px 3px 1px rgba(60, 64, 67, 0.15);\n",
              "      fill: #174EA6;\n",
              "    }\n",
              "\n",
              "    [theme=dark] .colab-df-convert {\n",
              "      background-color: #3B4455;\n",
              "      fill: #D2E3FC;\n",
              "    }\n",
              "\n",
              "    [theme=dark] .colab-df-convert:hover {\n",
              "      background-color: #434B5C;\n",
              "      box-shadow: 0px 1px 3px 1px rgba(0, 0, 0, 0.15);\n",
              "      filter: drop-shadow(0px 1px 2px rgba(0, 0, 0, 0.3));\n",
              "      fill: #FFFFFF;\n",
              "    }\n",
              "  </style>\n",
              "\n",
              "      <script>\n",
              "        const buttonEl =\n",
              "          document.querySelector('#df-9d419ef3-17fc-4d11-867a-29cace362c2a button.colab-df-convert');\n",
              "        buttonEl.style.display =\n",
              "          google.colab.kernel.accessAllowed ? 'block' : 'none';\n",
              "\n",
              "        async function convertToInteractive(key) {\n",
              "          const element = document.querySelector('#df-9d419ef3-17fc-4d11-867a-29cace362c2a');\n",
              "          const dataTable =\n",
              "            await google.colab.kernel.invokeFunction('convertToInteractive',\n",
              "                                                     [key], {});\n",
              "          if (!dataTable) return;\n",
              "\n",
              "          const docLinkHtml = 'Like what you see? Visit the ' +\n",
              "            '<a target=\"_blank\" href=https://colab.research.google.com/notebooks/data_table.ipynb>data table notebook</a>'\n",
              "            + ' to learn more about interactive tables.';\n",
              "          element.innerHTML = '';\n",
              "          dataTable['output_type'] = 'display_data';\n",
              "          await google.colab.output.renderOutput(dataTable, element);\n",
              "          const docLink = document.createElement('div');\n",
              "          docLink.innerHTML = docLinkHtml;\n",
              "          element.appendChild(docLink);\n",
              "        }\n",
              "      </script>\n",
              "    </div>\n",
              "  </div>\n",
              "  "
            ]
          },
          "metadata": {},
          "execution_count": 3013
        }
      ],
      "source": [
        "aug_food = aug_food.applymap(lambda s: s.lower() if type(s) == str else s)\n",
        "aug_food.head()"
      ]
    },
    {
      "cell_type": "markdown",
      "metadata": {
        "id": "gK35mmfhCV5J"
      },
      "source": [
        "## **Converting Categorical Features through Categorical Data Encoding**"
      ]
    },
    {
      "cell_type": "markdown",
      "metadata": {
        "id": "60Ttq3SXr0Aa"
      },
      "source": [
        "After augmenting the dataset, we do categorical data encoding. To convert the qualitative values `'Does not contain'` and `'Contains'` into numerical representation, we respectively map the prediction values to 0 and 1 using `.map()`. This is necessary for training our multilabel classification model, which requires numerical input for making predictions. To optimize the memory allocation of the dataform, we convert the datatype of the values from `int64` to `uint8` via `.astype('uint8')`."
      ]
    },
    {
      "cell_type": "code",
      "execution_count": null,
      "metadata": {
        "colab": {
          "base_uri": "https://localhost:8080/"
        },
        "id": "14ZEsahp_Pq6",
        "outputId": "cc825dd6-1fa0-41a8-fe9b-c1f7411fc66d"
      },
      "outputs": [
        {
          "output_type": "execute_result",
          "data": {
            "text/plain": [
              "0      1\n",
              "1      1\n",
              "2      1\n",
              "3      1\n",
              "4      1\n",
              "      ..\n",
              "395    1\n",
              "396    1\n",
              "397    1\n",
              "398    1\n",
              "399    1\n",
              "Name: Prediction, Length: 400, dtype: uint8"
            ]
          },
          "metadata": {},
          "execution_count": 3014
        }
      ],
      "source": [
        "# mapping the prediction values to 0 or 1\n",
        "aug_food['Prediction'] = aug_food['Prediction'].map({'contains': 1, 'does not contain': 0})\n",
        "\n",
        "# changing the datatype from int64 to uint8\n",
        "aug_food['Prediction'] = aug_food['Prediction'].astype('uint8')\n",
        "\n",
        "# showing that the prediction values are now set to 0/1\n",
        "aug_food['Prediction']"
      ]
    },
    {
      "cell_type": "markdown",
      "metadata": {
        "id": "L3RiR4etkMnL"
      },
      "source": [
        "We separately obtain the dummies for the `Seasoning` and `Allergens` features to allow for appropriate handling of the non-atomic values. By splitting the multivalued cells into separate values via `get_dummies()`, we create individual binary columns for each seasoning and allergen. This ensures that the resulting dummy variables correctly represent the presence or absence of each specific seasoning or allergen in the dataset, rather than incorrectly representing concatenated strings.\n",
        "\n",
        "To optimize the memory allocation of the dataform, we do the same process that we did when we mapped the `Prediction` values to 0s and 1s. The datatype is converted from `int64` to `uint8` with the help of a loop that goes through each value in each column."
      ]
    },
    {
      "cell_type": "markdown",
      "metadata": {
        "id": "qRcadXmOkMnL"
      },
      "source": [
        "We first obtain dummy variables for the `Allergens` column which results in binary columns representing the presence or absence of each unique allergen. We then put a prefix **Allergens_** for better readability."
      ]
    },
    {
      "cell_type": "code",
      "execution_count": null,
      "metadata": {
        "colab": {
          "base_uri": "https://localhost:8080/",
          "height": 299
        },
        "id": "y3UXu1OikMnL",
        "outputId": "7714e6d1-fcd4-44ab-fa97-f9f122ce4bb9"
      },
      "outputs": [
        {
          "output_type": "execute_result",
          "data": {
            "text/plain": [
              "   Allergens_alcohol  Allergens_almonds  Allergens_anchovies  Allergens_beef  \\\n",
              "0                  0                  1                    0               0   \n",
              "1                  0                  0                    0               0   \n",
              "2                  0                  0                    0               0   \n",
              "3                  0                  0                    0               0   \n",
              "4                  0                  0                    0               0   \n",
              "\n",
              "   Allergens_calamari  Allergens_celery  Allergens_chicken  Allergens_cocoa  \\\n",
              "0                   0                 0                  0                0   \n",
              "1                   0                 1                  1                0   \n",
              "2                   0                 0                  0                0   \n",
              "3                   0                 0                  0                0   \n",
              "4                   0                 0                  0                0   \n",
              "\n",
              "   Allergens_coconut  Allergens_crab  ...  Allergens_oats  Allergens_peanuts  \\\n",
              "0                  0               0  ...               0                  0   \n",
              "1                  0               0  ...               0                  0   \n",
              "2                  0               0  ...               0                  0   \n",
              "3                  0               0  ...               0                  0   \n",
              "4                  0               0  ...               0                  0   \n",
              "\n",
              "   Allergens_pinenuts  Allergens_pork  Allergens_rice  Allergens_shellfish  \\\n",
              "0                   0               0               0                    0   \n",
              "1                   0               0               0                    0   \n",
              "2                   0               0               0                    0   \n",
              "3                   0               0               0                    0   \n",
              "4                   0               0               0                    0   \n",
              "\n",
              "   Allergens_shrimp  Allergens_soybeans  Allergens_strawberries  \\\n",
              "0                 0                   0                       0   \n",
              "1                 0                   0                       0   \n",
              "2                 0                   0                       0   \n",
              "3                 0                   0                       0   \n",
              "4                 0                   0                       0   \n",
              "\n",
              "   Allergens_wheat  \n",
              "0                1  \n",
              "1                1  \n",
              "2                0  \n",
              "3                0  \n",
              "4                0  \n",
              "\n",
              "[5 rows x 29 columns]"
            ],
            "text/html": [
              "\n",
              "  <div id=\"df-83eba5dd-ffbe-4c57-af15-b421aae586ec\">\n",
              "    <div class=\"colab-df-container\">\n",
              "      <div>\n",
              "<style scoped>\n",
              "    .dataframe tbody tr th:only-of-type {\n",
              "        vertical-align: middle;\n",
              "    }\n",
              "\n",
              "    .dataframe tbody tr th {\n",
              "        vertical-align: top;\n",
              "    }\n",
              "\n",
              "    .dataframe thead th {\n",
              "        text-align: right;\n",
              "    }\n",
              "</style>\n",
              "<table border=\"1\" class=\"dataframe\">\n",
              "  <thead>\n",
              "    <tr style=\"text-align: right;\">\n",
              "      <th></th>\n",
              "      <th>Allergens_alcohol</th>\n",
              "      <th>Allergens_almonds</th>\n",
              "      <th>Allergens_anchovies</th>\n",
              "      <th>Allergens_beef</th>\n",
              "      <th>Allergens_calamari</th>\n",
              "      <th>Allergens_celery</th>\n",
              "      <th>Allergens_chicken</th>\n",
              "      <th>Allergens_cocoa</th>\n",
              "      <th>Allergens_coconut</th>\n",
              "      <th>Allergens_crab</th>\n",
              "      <th>...</th>\n",
              "      <th>Allergens_oats</th>\n",
              "      <th>Allergens_peanuts</th>\n",
              "      <th>Allergens_pinenuts</th>\n",
              "      <th>Allergens_pork</th>\n",
              "      <th>Allergens_rice</th>\n",
              "      <th>Allergens_shellfish</th>\n",
              "      <th>Allergens_shrimp</th>\n",
              "      <th>Allergens_soybeans</th>\n",
              "      <th>Allergens_strawberries</th>\n",
              "      <th>Allergens_wheat</th>\n",
              "    </tr>\n",
              "  </thead>\n",
              "  <tbody>\n",
              "    <tr>\n",
              "      <th>0</th>\n",
              "      <td>0</td>\n",
              "      <td>1</td>\n",
              "      <td>0</td>\n",
              "      <td>0</td>\n",
              "      <td>0</td>\n",
              "      <td>0</td>\n",
              "      <td>0</td>\n",
              "      <td>0</td>\n",
              "      <td>0</td>\n",
              "      <td>0</td>\n",
              "      <td>...</td>\n",
              "      <td>0</td>\n",
              "      <td>0</td>\n",
              "      <td>0</td>\n",
              "      <td>0</td>\n",
              "      <td>0</td>\n",
              "      <td>0</td>\n",
              "      <td>0</td>\n",
              "      <td>0</td>\n",
              "      <td>0</td>\n",
              "      <td>1</td>\n",
              "    </tr>\n",
              "    <tr>\n",
              "      <th>1</th>\n",
              "      <td>0</td>\n",
              "      <td>0</td>\n",
              "      <td>0</td>\n",
              "      <td>0</td>\n",
              "      <td>0</td>\n",
              "      <td>1</td>\n",
              "      <td>1</td>\n",
              "      <td>0</td>\n",
              "      <td>0</td>\n",
              "      <td>0</td>\n",
              "      <td>...</td>\n",
              "      <td>0</td>\n",
              "      <td>0</td>\n",
              "      <td>0</td>\n",
              "      <td>0</td>\n",
              "      <td>0</td>\n",
              "      <td>0</td>\n",
              "      <td>0</td>\n",
              "      <td>0</td>\n",
              "      <td>0</td>\n",
              "      <td>1</td>\n",
              "    </tr>\n",
              "    <tr>\n",
              "      <th>2</th>\n",
              "      <td>0</td>\n",
              "      <td>0</td>\n",
              "      <td>0</td>\n",
              "      <td>0</td>\n",
              "      <td>0</td>\n",
              "      <td>0</td>\n",
              "      <td>0</td>\n",
              "      <td>0</td>\n",
              "      <td>0</td>\n",
              "      <td>0</td>\n",
              "      <td>...</td>\n",
              "      <td>0</td>\n",
              "      <td>0</td>\n",
              "      <td>0</td>\n",
              "      <td>0</td>\n",
              "      <td>0</td>\n",
              "      <td>0</td>\n",
              "      <td>0</td>\n",
              "      <td>0</td>\n",
              "      <td>0</td>\n",
              "      <td>0</td>\n",
              "    </tr>\n",
              "    <tr>\n",
              "      <th>3</th>\n",
              "      <td>0</td>\n",
              "      <td>0</td>\n",
              "      <td>0</td>\n",
              "      <td>0</td>\n",
              "      <td>0</td>\n",
              "      <td>0</td>\n",
              "      <td>0</td>\n",
              "      <td>0</td>\n",
              "      <td>0</td>\n",
              "      <td>0</td>\n",
              "      <td>...</td>\n",
              "      <td>0</td>\n",
              "      <td>0</td>\n",
              "      <td>0</td>\n",
              "      <td>0</td>\n",
              "      <td>0</td>\n",
              "      <td>0</td>\n",
              "      <td>0</td>\n",
              "      <td>0</td>\n",
              "      <td>0</td>\n",
              "      <td>0</td>\n",
              "    </tr>\n",
              "    <tr>\n",
              "      <th>4</th>\n",
              "      <td>0</td>\n",
              "      <td>0</td>\n",
              "      <td>0</td>\n",
              "      <td>0</td>\n",
              "      <td>0</td>\n",
              "      <td>0</td>\n",
              "      <td>0</td>\n",
              "      <td>0</td>\n",
              "      <td>0</td>\n",
              "      <td>0</td>\n",
              "      <td>...</td>\n",
              "      <td>0</td>\n",
              "      <td>0</td>\n",
              "      <td>0</td>\n",
              "      <td>0</td>\n",
              "      <td>0</td>\n",
              "      <td>0</td>\n",
              "      <td>0</td>\n",
              "      <td>0</td>\n",
              "      <td>0</td>\n",
              "      <td>0</td>\n",
              "    </tr>\n",
              "  </tbody>\n",
              "</table>\n",
              "<p>5 rows × 29 columns</p>\n",
              "</div>\n",
              "      <button class=\"colab-df-convert\" onclick=\"convertToInteractive('df-83eba5dd-ffbe-4c57-af15-b421aae586ec')\"\n",
              "              title=\"Convert this dataframe to an interactive table.\"\n",
              "              style=\"display:none;\">\n",
              "        \n",
              "  <svg xmlns=\"http://www.w3.org/2000/svg\" height=\"24px\"viewBox=\"0 0 24 24\"\n",
              "       width=\"24px\">\n",
              "    <path d=\"M0 0h24v24H0V0z\" fill=\"none\"/>\n",
              "    <path d=\"M18.56 5.44l.94 2.06.94-2.06 2.06-.94-2.06-.94-.94-2.06-.94 2.06-2.06.94zm-11 1L8.5 8.5l.94-2.06 2.06-.94-2.06-.94L8.5 2.5l-.94 2.06-2.06.94zm10 10l.94 2.06.94-2.06 2.06-.94-2.06-.94-.94-2.06-.94 2.06-2.06.94z\"/><path d=\"M17.41 7.96l-1.37-1.37c-.4-.4-.92-.59-1.43-.59-.52 0-1.04.2-1.43.59L10.3 9.45l-7.72 7.72c-.78.78-.78 2.05 0 2.83L4 21.41c.39.39.9.59 1.41.59.51 0 1.02-.2 1.41-.59l7.78-7.78 2.81-2.81c.8-.78.8-2.07 0-2.86zM5.41 20L4 18.59l7.72-7.72 1.47 1.35L5.41 20z\"/>\n",
              "  </svg>\n",
              "      </button>\n",
              "      \n",
              "  <style>\n",
              "    .colab-df-container {\n",
              "      display:flex;\n",
              "      flex-wrap:wrap;\n",
              "      gap: 12px;\n",
              "    }\n",
              "\n",
              "    .colab-df-convert {\n",
              "      background-color: #E8F0FE;\n",
              "      border: none;\n",
              "      border-radius: 50%;\n",
              "      cursor: pointer;\n",
              "      display: none;\n",
              "      fill: #1967D2;\n",
              "      height: 32px;\n",
              "      padding: 0 0 0 0;\n",
              "      width: 32px;\n",
              "    }\n",
              "\n",
              "    .colab-df-convert:hover {\n",
              "      background-color: #E2EBFA;\n",
              "      box-shadow: 0px 1px 2px rgba(60, 64, 67, 0.3), 0px 1px 3px 1px rgba(60, 64, 67, 0.15);\n",
              "      fill: #174EA6;\n",
              "    }\n",
              "\n",
              "    [theme=dark] .colab-df-convert {\n",
              "      background-color: #3B4455;\n",
              "      fill: #D2E3FC;\n",
              "    }\n",
              "\n",
              "    [theme=dark] .colab-df-convert:hover {\n",
              "      background-color: #434B5C;\n",
              "      box-shadow: 0px 1px 3px 1px rgba(0, 0, 0, 0.15);\n",
              "      filter: drop-shadow(0px 1px 2px rgba(0, 0, 0, 0.3));\n",
              "      fill: #FFFFFF;\n",
              "    }\n",
              "  </style>\n",
              "\n",
              "      <script>\n",
              "        const buttonEl =\n",
              "          document.querySelector('#df-83eba5dd-ffbe-4c57-af15-b421aae586ec button.colab-df-convert');\n",
              "        buttonEl.style.display =\n",
              "          google.colab.kernel.accessAllowed ? 'block' : 'none';\n",
              "\n",
              "        async function convertToInteractive(key) {\n",
              "          const element = document.querySelector('#df-83eba5dd-ffbe-4c57-af15-b421aae586ec');\n",
              "          const dataTable =\n",
              "            await google.colab.kernel.invokeFunction('convertToInteractive',\n",
              "                                                     [key], {});\n",
              "          if (!dataTable) return;\n",
              "\n",
              "          const docLinkHtml = 'Like what you see? Visit the ' +\n",
              "            '<a target=\"_blank\" href=https://colab.research.google.com/notebooks/data_table.ipynb>data table notebook</a>'\n",
              "            + ' to learn more about interactive tables.';\n",
              "          element.innerHTML = '';\n",
              "          dataTable['output_type'] = 'display_data';\n",
              "          await google.colab.output.renderOutput(dataTable, element);\n",
              "          const docLink = document.createElement('div');\n",
              "          docLink.innerHTML = docLinkHtml;\n",
              "          element.appendChild(docLink);\n",
              "        }\n",
              "      </script>\n",
              "    </div>\n",
              "  </div>\n",
              "  "
            ]
          },
          "metadata": {},
          "execution_count": 3015
        }
      ],
      "source": [
        "aug_allerg = aug_food['Allergens'].str.replace(' ', '').str.get_dummies(',')\n",
        "aug_allerg = aug_allerg.add_prefix('Allergens_')\n",
        "\n",
        "# changing the datatype from int64 to uint8\n",
        "for c in aug_allerg.columns:\n",
        "  if aug_allerg[c].dtype == 'int64':\n",
        "    aug_allerg[c] = aug_allerg[c].astype('uint8')\n",
        "\n",
        "aug_allerg.head()"
      ]
    },
    {
      "cell_type": "markdown",
      "metadata": {
        "id": "wC2J2aPBkMnL"
      },
      "source": [
        "Secondly, we obtain dummy variables separately for the `Seasoning` column which results in binary columns representing the presence or absence of each unique allergen. We also put a prefix **Seasoning_** for better readability."
      ]
    },
    {
      "cell_type": "code",
      "execution_count": null,
      "metadata": {
        "colab": {
          "base_uri": "https://localhost:8080/",
          "height": 299
        },
        "id": "DyotmL_BkMnL",
        "outputId": "06eadeeb-aff1-47f5-aeec-eb4a0e0c9a76"
      },
      "outputs": [
        {
          "output_type": "execute_result",
          "data": {
            "text/plain": [
              "   Seasoning_alfredosauce  Seasoning_almondmilk  Seasoning_almonds  \\\n",
              "0                       0                     0                  0   \n",
              "1                       0                     0                  0   \n",
              "2                       0                     0                  0   \n",
              "3                       0                     0                  0   \n",
              "4                       0                     0                  0   \n",
              "\n",
              "   Seasoning_apple  Seasoning_applecider  Seasoning_applejuice  \\\n",
              "0                0                     0                     0   \n",
              "1                0                     0                     0   \n",
              "2                0                     0                     0   \n",
              "3                0                     0                     0   \n",
              "4                0                     0                     0   \n",
              "\n",
              "   Seasoning_arboriorice  Seasoning_avocado  Seasoning_bacon  \\\n",
              "0                      0                  0                0   \n",
              "1                      0                  0                0   \n",
              "2                      0                  0                0   \n",
              "3                      0                  0                0   \n",
              "4                      0                  0                0   \n",
              "\n",
              "   Seasoning_bakingpowder  ...  Seasoning_vegetablebroth  \\\n",
              "0                       0  ...                         0   \n",
              "1                       0  ...                         0   \n",
              "2                       0  ...                         0   \n",
              "3                       0  ...                         0   \n",
              "4                       0  ...                         0   \n",
              "\n",
              "   Seasoning_vegetableoil  Seasoning_vegetables  Seasoning_vinaigrette  \\\n",
              "0                       0                     0                      0   \n",
              "1                       0                     0                      0   \n",
              "2                       0                     0                      0   \n",
              "3                       0                     0                      0   \n",
              "4                       0                     0                      0   \n",
              "\n",
              "   Seasoning_vinegar  Seasoning_walnuts  Seasoning_wheatflour  \\\n",
              "0                  0                  0                     0   \n",
              "1                  0                  0                     0   \n",
              "2                  0                  0                     0   \n",
              "3                  0                  0                     0   \n",
              "4                  0                  0                     0   \n",
              "\n",
              "   Seasoning_yeast  Seasoning_yogurt  Seasoning_zucchini  \n",
              "0                0                 0                   0  \n",
              "1                0                 0                   0  \n",
              "2                0                 0                   0  \n",
              "3                0                 0                   0  \n",
              "4                0                 0                   0  \n",
              "\n",
              "[5 rows x 216 columns]"
            ],
            "text/html": [
              "\n",
              "  <div id=\"df-389250fb-35a7-4e87-abd3-519196b8758e\">\n",
              "    <div class=\"colab-df-container\">\n",
              "      <div>\n",
              "<style scoped>\n",
              "    .dataframe tbody tr th:only-of-type {\n",
              "        vertical-align: middle;\n",
              "    }\n",
              "\n",
              "    .dataframe tbody tr th {\n",
              "        vertical-align: top;\n",
              "    }\n",
              "\n",
              "    .dataframe thead th {\n",
              "        text-align: right;\n",
              "    }\n",
              "</style>\n",
              "<table border=\"1\" class=\"dataframe\">\n",
              "  <thead>\n",
              "    <tr style=\"text-align: right;\">\n",
              "      <th></th>\n",
              "      <th>Seasoning_alfredosauce</th>\n",
              "      <th>Seasoning_almondmilk</th>\n",
              "      <th>Seasoning_almonds</th>\n",
              "      <th>Seasoning_apple</th>\n",
              "      <th>Seasoning_applecider</th>\n",
              "      <th>Seasoning_applejuice</th>\n",
              "      <th>Seasoning_arboriorice</th>\n",
              "      <th>Seasoning_avocado</th>\n",
              "      <th>Seasoning_bacon</th>\n",
              "      <th>Seasoning_bakingpowder</th>\n",
              "      <th>...</th>\n",
              "      <th>Seasoning_vegetablebroth</th>\n",
              "      <th>Seasoning_vegetableoil</th>\n",
              "      <th>Seasoning_vegetables</th>\n",
              "      <th>Seasoning_vinaigrette</th>\n",
              "      <th>Seasoning_vinegar</th>\n",
              "      <th>Seasoning_walnuts</th>\n",
              "      <th>Seasoning_wheatflour</th>\n",
              "      <th>Seasoning_yeast</th>\n",
              "      <th>Seasoning_yogurt</th>\n",
              "      <th>Seasoning_zucchini</th>\n",
              "    </tr>\n",
              "  </thead>\n",
              "  <tbody>\n",
              "    <tr>\n",
              "      <th>0</th>\n",
              "      <td>0</td>\n",
              "      <td>0</td>\n",
              "      <td>0</td>\n",
              "      <td>0</td>\n",
              "      <td>0</td>\n",
              "      <td>0</td>\n",
              "      <td>0</td>\n",
              "      <td>0</td>\n",
              "      <td>0</td>\n",
              "      <td>0</td>\n",
              "      <td>...</td>\n",
              "      <td>0</td>\n",
              "      <td>0</td>\n",
              "      <td>0</td>\n",
              "      <td>0</td>\n",
              "      <td>0</td>\n",
              "      <td>0</td>\n",
              "      <td>0</td>\n",
              "      <td>0</td>\n",
              "      <td>0</td>\n",
              "      <td>0</td>\n",
              "    </tr>\n",
              "    <tr>\n",
              "      <th>1</th>\n",
              "      <td>0</td>\n",
              "      <td>0</td>\n",
              "      <td>0</td>\n",
              "      <td>0</td>\n",
              "      <td>0</td>\n",
              "      <td>0</td>\n",
              "      <td>0</td>\n",
              "      <td>0</td>\n",
              "      <td>0</td>\n",
              "      <td>0</td>\n",
              "      <td>...</td>\n",
              "      <td>0</td>\n",
              "      <td>0</td>\n",
              "      <td>0</td>\n",
              "      <td>0</td>\n",
              "      <td>0</td>\n",
              "      <td>0</td>\n",
              "      <td>0</td>\n",
              "      <td>0</td>\n",
              "      <td>0</td>\n",
              "      <td>0</td>\n",
              "    </tr>\n",
              "    <tr>\n",
              "      <th>2</th>\n",
              "      <td>0</td>\n",
              "      <td>0</td>\n",
              "      <td>0</td>\n",
              "      <td>0</td>\n",
              "      <td>0</td>\n",
              "      <td>0</td>\n",
              "      <td>0</td>\n",
              "      <td>0</td>\n",
              "      <td>0</td>\n",
              "      <td>0</td>\n",
              "      <td>...</td>\n",
              "      <td>0</td>\n",
              "      <td>0</td>\n",
              "      <td>0</td>\n",
              "      <td>0</td>\n",
              "      <td>0</td>\n",
              "      <td>0</td>\n",
              "      <td>0</td>\n",
              "      <td>0</td>\n",
              "      <td>0</td>\n",
              "      <td>0</td>\n",
              "    </tr>\n",
              "    <tr>\n",
              "      <th>3</th>\n",
              "      <td>0</td>\n",
              "      <td>0</td>\n",
              "      <td>0</td>\n",
              "      <td>0</td>\n",
              "      <td>0</td>\n",
              "      <td>0</td>\n",
              "      <td>0</td>\n",
              "      <td>0</td>\n",
              "      <td>0</td>\n",
              "      <td>0</td>\n",
              "      <td>...</td>\n",
              "      <td>0</td>\n",
              "      <td>0</td>\n",
              "      <td>0</td>\n",
              "      <td>0</td>\n",
              "      <td>0</td>\n",
              "      <td>0</td>\n",
              "      <td>0</td>\n",
              "      <td>0</td>\n",
              "      <td>0</td>\n",
              "      <td>0</td>\n",
              "    </tr>\n",
              "    <tr>\n",
              "      <th>4</th>\n",
              "      <td>0</td>\n",
              "      <td>0</td>\n",
              "      <td>0</td>\n",
              "      <td>0</td>\n",
              "      <td>0</td>\n",
              "      <td>0</td>\n",
              "      <td>0</td>\n",
              "      <td>0</td>\n",
              "      <td>0</td>\n",
              "      <td>0</td>\n",
              "      <td>...</td>\n",
              "      <td>0</td>\n",
              "      <td>0</td>\n",
              "      <td>0</td>\n",
              "      <td>0</td>\n",
              "      <td>0</td>\n",
              "      <td>0</td>\n",
              "      <td>0</td>\n",
              "      <td>0</td>\n",
              "      <td>0</td>\n",
              "      <td>0</td>\n",
              "    </tr>\n",
              "  </tbody>\n",
              "</table>\n",
              "<p>5 rows × 216 columns</p>\n",
              "</div>\n",
              "      <button class=\"colab-df-convert\" onclick=\"convertToInteractive('df-389250fb-35a7-4e87-abd3-519196b8758e')\"\n",
              "              title=\"Convert this dataframe to an interactive table.\"\n",
              "              style=\"display:none;\">\n",
              "        \n",
              "  <svg xmlns=\"http://www.w3.org/2000/svg\" height=\"24px\"viewBox=\"0 0 24 24\"\n",
              "       width=\"24px\">\n",
              "    <path d=\"M0 0h24v24H0V0z\" fill=\"none\"/>\n",
              "    <path d=\"M18.56 5.44l.94 2.06.94-2.06 2.06-.94-2.06-.94-.94-2.06-.94 2.06-2.06.94zm-11 1L8.5 8.5l.94-2.06 2.06-.94-2.06-.94L8.5 2.5l-.94 2.06-2.06.94zm10 10l.94 2.06.94-2.06 2.06-.94-2.06-.94-.94-2.06-.94 2.06-2.06.94z\"/><path d=\"M17.41 7.96l-1.37-1.37c-.4-.4-.92-.59-1.43-.59-.52 0-1.04.2-1.43.59L10.3 9.45l-7.72 7.72c-.78.78-.78 2.05 0 2.83L4 21.41c.39.39.9.59 1.41.59.51 0 1.02-.2 1.41-.59l7.78-7.78 2.81-2.81c.8-.78.8-2.07 0-2.86zM5.41 20L4 18.59l7.72-7.72 1.47 1.35L5.41 20z\"/>\n",
              "  </svg>\n",
              "      </button>\n",
              "      \n",
              "  <style>\n",
              "    .colab-df-container {\n",
              "      display:flex;\n",
              "      flex-wrap:wrap;\n",
              "      gap: 12px;\n",
              "    }\n",
              "\n",
              "    .colab-df-convert {\n",
              "      background-color: #E8F0FE;\n",
              "      border: none;\n",
              "      border-radius: 50%;\n",
              "      cursor: pointer;\n",
              "      display: none;\n",
              "      fill: #1967D2;\n",
              "      height: 32px;\n",
              "      padding: 0 0 0 0;\n",
              "      width: 32px;\n",
              "    }\n",
              "\n",
              "    .colab-df-convert:hover {\n",
              "      background-color: #E2EBFA;\n",
              "      box-shadow: 0px 1px 2px rgba(60, 64, 67, 0.3), 0px 1px 3px 1px rgba(60, 64, 67, 0.15);\n",
              "      fill: #174EA6;\n",
              "    }\n",
              "\n",
              "    [theme=dark] .colab-df-convert {\n",
              "      background-color: #3B4455;\n",
              "      fill: #D2E3FC;\n",
              "    }\n",
              "\n",
              "    [theme=dark] .colab-df-convert:hover {\n",
              "      background-color: #434B5C;\n",
              "      box-shadow: 0px 1px 3px 1px rgba(0, 0, 0, 0.15);\n",
              "      filter: drop-shadow(0px 1px 2px rgba(0, 0, 0, 0.3));\n",
              "      fill: #FFFFFF;\n",
              "    }\n",
              "  </style>\n",
              "\n",
              "      <script>\n",
              "        const buttonEl =\n",
              "          document.querySelector('#df-389250fb-35a7-4e87-abd3-519196b8758e button.colab-df-convert');\n",
              "        buttonEl.style.display =\n",
              "          google.colab.kernel.accessAllowed ? 'block' : 'none';\n",
              "\n",
              "        async function convertToInteractive(key) {\n",
              "          const element = document.querySelector('#df-389250fb-35a7-4e87-abd3-519196b8758e');\n",
              "          const dataTable =\n",
              "            await google.colab.kernel.invokeFunction('convertToInteractive',\n",
              "                                                     [key], {});\n",
              "          if (!dataTable) return;\n",
              "\n",
              "          const docLinkHtml = 'Like what you see? Visit the ' +\n",
              "            '<a target=\"_blank\" href=https://colab.research.google.com/notebooks/data_table.ipynb>data table notebook</a>'\n",
              "            + ' to learn more about interactive tables.';\n",
              "          element.innerHTML = '';\n",
              "          dataTable['output_type'] = 'display_data';\n",
              "          await google.colab.output.renderOutput(dataTable, element);\n",
              "          const docLink = document.createElement('div');\n",
              "          docLink.innerHTML = docLinkHtml;\n",
              "          element.appendChild(docLink);\n",
              "        }\n",
              "      </script>\n",
              "    </div>\n",
              "  </div>\n",
              "  "
            ]
          },
          "metadata": {},
          "execution_count": 3016
        }
      ],
      "source": [
        "aug_season = aug_food['Seasoning'].str.replace(' ', '').str.get_dummies(',')\n",
        "aug_season = aug_season.add_prefix('Seasoning_')\n",
        "\n",
        "# changing the datatype from int64 to uint8\n",
        "for c in aug_season.columns:\n",
        "  if aug_season[c].dtype == 'int64':\n",
        "    aug_season[c] = aug_season[c].astype('uint8')\n",
        "\n",
        "aug_season.head()"
      ]
    },
    {
      "cell_type": "markdown",
      "metadata": {
        "id": "Pj5xAaqQkMnP"
      },
      "source": [
        "The remaining columns of the food allergen dataframe, excluding `Allergens` and `Seasoning`, are transformed into dummy variables."
      ]
    },
    {
      "cell_type": "code",
      "execution_count": null,
      "metadata": {
        "colab": {
          "base_uri": "https://localhost:8080/",
          "height": 334
        },
        "id": "VQd6vW_RkMnP",
        "outputId": "9d4dd754-e654-4761-f1ad-fbefcc336a03"
      },
      "outputs": [
        {
          "output_type": "execute_result",
          "data": {
            "text/plain": [
              "   Prediction  Food Product_aloo gobi  Food Product_aloo paratha  \\\n",
              "0           1                       0                          0   \n",
              "1           1                       0                          0   \n",
              "2           1                       0                          0   \n",
              "3           1                       0                          0   \n",
              "4           1                       0                          0   \n",
              "\n",
              "   Food Product_apple  Food Product_apple cider  Food Product_apple crisp  \\\n",
              "0                   0                         0                         0   \n",
              "1                   0                         0                         0   \n",
              "2                   0                         0                         0   \n",
              "3                   0                         0                         0   \n",
              "4                   0                         0                         0   \n",
              "\n",
              "   Food Product_apple pie  Food Product_apple sauce  Food Product_apple tart  \\\n",
              "0                       0                         0                        0   \n",
              "1                       0                         0                        0   \n",
              "2                       0                         0                        0   \n",
              "3                       0                         0                        0   \n",
              "4                       0                         0                        0   \n",
              "\n",
              "   Food Product_arabic fattoush  ...  Fat/Oil_peanut oil  Fat/Oil_pesto sauce  \\\n",
              "0                             0  ...                   0                    0   \n",
              "1                             0  ...                   0                    0   \n",
              "2                             0  ...                   0                    0   \n",
              "3                             0  ...                   0                    0   \n",
              "4                             0  ...                   0                    0   \n",
              "\n",
              "   Fat/Oil_sesame oil  Fat/Oil_sour cream  Fat/Oil_soy sauce  \\\n",
              "0                   0                   0                  0   \n",
              "1                   0                   0                  0   \n",
              "2                   0                   0                  0   \n",
              "3                   0                   0                  0   \n",
              "4                   0                   0                  0   \n",
              "\n",
              "   Fat/Oil_vegetable oil  Fat/Oil_water  Fat/Oil_whipped cream  \\\n",
              "0                      0              0                      0   \n",
              "1                      0              0                      0   \n",
              "2                      0              0                      0   \n",
              "3                      1              0                      0   \n",
              "4                      0              0                      0   \n",
              "\n",
              "   Fat/Oil_yogurt  Fat/Oil_yogurt (milk, cultures)  \n",
              "0               0                                0  \n",
              "1               0                                0  \n",
              "2               0                                0  \n",
              "3               0                                0  \n",
              "4               0                                0  \n",
              "\n",
              "[5 rows x 519 columns]"
            ],
            "text/html": [
              "\n",
              "  <div id=\"df-fbee3be7-c539-4673-bfe0-5ac877f7d3a0\">\n",
              "    <div class=\"colab-df-container\">\n",
              "      <div>\n",
              "<style scoped>\n",
              "    .dataframe tbody tr th:only-of-type {\n",
              "        vertical-align: middle;\n",
              "    }\n",
              "\n",
              "    .dataframe tbody tr th {\n",
              "        vertical-align: top;\n",
              "    }\n",
              "\n",
              "    .dataframe thead th {\n",
              "        text-align: right;\n",
              "    }\n",
              "</style>\n",
              "<table border=\"1\" class=\"dataframe\">\n",
              "  <thead>\n",
              "    <tr style=\"text-align: right;\">\n",
              "      <th></th>\n",
              "      <th>Prediction</th>\n",
              "      <th>Food Product_aloo gobi</th>\n",
              "      <th>Food Product_aloo paratha</th>\n",
              "      <th>Food Product_apple</th>\n",
              "      <th>Food Product_apple cider</th>\n",
              "      <th>Food Product_apple crisp</th>\n",
              "      <th>Food Product_apple pie</th>\n",
              "      <th>Food Product_apple sauce</th>\n",
              "      <th>Food Product_apple tart</th>\n",
              "      <th>Food Product_arabic fattoush</th>\n",
              "      <th>...</th>\n",
              "      <th>Fat/Oil_peanut oil</th>\n",
              "      <th>Fat/Oil_pesto sauce</th>\n",
              "      <th>Fat/Oil_sesame oil</th>\n",
              "      <th>Fat/Oil_sour cream</th>\n",
              "      <th>Fat/Oil_soy sauce</th>\n",
              "      <th>Fat/Oil_vegetable oil</th>\n",
              "      <th>Fat/Oil_water</th>\n",
              "      <th>Fat/Oil_whipped cream</th>\n",
              "      <th>Fat/Oil_yogurt</th>\n",
              "      <th>Fat/Oil_yogurt (milk, cultures)</th>\n",
              "    </tr>\n",
              "  </thead>\n",
              "  <tbody>\n",
              "    <tr>\n",
              "      <th>0</th>\n",
              "      <td>1</td>\n",
              "      <td>0</td>\n",
              "      <td>0</td>\n",
              "      <td>0</td>\n",
              "      <td>0</td>\n",
              "      <td>0</td>\n",
              "      <td>0</td>\n",
              "      <td>0</td>\n",
              "      <td>0</td>\n",
              "      <td>0</td>\n",
              "      <td>...</td>\n",
              "      <td>0</td>\n",
              "      <td>0</td>\n",
              "      <td>0</td>\n",
              "      <td>0</td>\n",
              "      <td>0</td>\n",
              "      <td>0</td>\n",
              "      <td>0</td>\n",
              "      <td>0</td>\n",
              "      <td>0</td>\n",
              "      <td>0</td>\n",
              "    </tr>\n",
              "    <tr>\n",
              "      <th>1</th>\n",
              "      <td>1</td>\n",
              "      <td>0</td>\n",
              "      <td>0</td>\n",
              "      <td>0</td>\n",
              "      <td>0</td>\n",
              "      <td>0</td>\n",
              "      <td>0</td>\n",
              "      <td>0</td>\n",
              "      <td>0</td>\n",
              "      <td>0</td>\n",
              "      <td>...</td>\n",
              "      <td>0</td>\n",
              "      <td>0</td>\n",
              "      <td>0</td>\n",
              "      <td>0</td>\n",
              "      <td>0</td>\n",
              "      <td>0</td>\n",
              "      <td>0</td>\n",
              "      <td>0</td>\n",
              "      <td>0</td>\n",
              "      <td>0</td>\n",
              "    </tr>\n",
              "    <tr>\n",
              "      <th>2</th>\n",
              "      <td>1</td>\n",
              "      <td>0</td>\n",
              "      <td>0</td>\n",
              "      <td>0</td>\n",
              "      <td>0</td>\n",
              "      <td>0</td>\n",
              "      <td>0</td>\n",
              "      <td>0</td>\n",
              "      <td>0</td>\n",
              "      <td>0</td>\n",
              "      <td>...</td>\n",
              "      <td>0</td>\n",
              "      <td>0</td>\n",
              "      <td>0</td>\n",
              "      <td>0</td>\n",
              "      <td>0</td>\n",
              "      <td>0</td>\n",
              "      <td>0</td>\n",
              "      <td>0</td>\n",
              "      <td>0</td>\n",
              "      <td>0</td>\n",
              "    </tr>\n",
              "    <tr>\n",
              "      <th>3</th>\n",
              "      <td>1</td>\n",
              "      <td>0</td>\n",
              "      <td>0</td>\n",
              "      <td>0</td>\n",
              "      <td>0</td>\n",
              "      <td>0</td>\n",
              "      <td>0</td>\n",
              "      <td>0</td>\n",
              "      <td>0</td>\n",
              "      <td>0</td>\n",
              "      <td>...</td>\n",
              "      <td>0</td>\n",
              "      <td>0</td>\n",
              "      <td>0</td>\n",
              "      <td>0</td>\n",
              "      <td>0</td>\n",
              "      <td>1</td>\n",
              "      <td>0</td>\n",
              "      <td>0</td>\n",
              "      <td>0</td>\n",
              "      <td>0</td>\n",
              "    </tr>\n",
              "    <tr>\n",
              "      <th>4</th>\n",
              "      <td>1</td>\n",
              "      <td>0</td>\n",
              "      <td>0</td>\n",
              "      <td>0</td>\n",
              "      <td>0</td>\n",
              "      <td>0</td>\n",
              "      <td>0</td>\n",
              "      <td>0</td>\n",
              "      <td>0</td>\n",
              "      <td>0</td>\n",
              "      <td>...</td>\n",
              "      <td>0</td>\n",
              "      <td>0</td>\n",
              "      <td>0</td>\n",
              "      <td>0</td>\n",
              "      <td>0</td>\n",
              "      <td>0</td>\n",
              "      <td>0</td>\n",
              "      <td>0</td>\n",
              "      <td>0</td>\n",
              "      <td>0</td>\n",
              "    </tr>\n",
              "  </tbody>\n",
              "</table>\n",
              "<p>5 rows × 519 columns</p>\n",
              "</div>\n",
              "      <button class=\"colab-df-convert\" onclick=\"convertToInteractive('df-fbee3be7-c539-4673-bfe0-5ac877f7d3a0')\"\n",
              "              title=\"Convert this dataframe to an interactive table.\"\n",
              "              style=\"display:none;\">\n",
              "        \n",
              "  <svg xmlns=\"http://www.w3.org/2000/svg\" height=\"24px\"viewBox=\"0 0 24 24\"\n",
              "       width=\"24px\">\n",
              "    <path d=\"M0 0h24v24H0V0z\" fill=\"none\"/>\n",
              "    <path d=\"M18.56 5.44l.94 2.06.94-2.06 2.06-.94-2.06-.94-.94-2.06-.94 2.06-2.06.94zm-11 1L8.5 8.5l.94-2.06 2.06-.94-2.06-.94L8.5 2.5l-.94 2.06-2.06.94zm10 10l.94 2.06.94-2.06 2.06-.94-2.06-.94-.94-2.06-.94 2.06-2.06.94z\"/><path d=\"M17.41 7.96l-1.37-1.37c-.4-.4-.92-.59-1.43-.59-.52 0-1.04.2-1.43.59L10.3 9.45l-7.72 7.72c-.78.78-.78 2.05 0 2.83L4 21.41c.39.39.9.59 1.41.59.51 0 1.02-.2 1.41-.59l7.78-7.78 2.81-2.81c.8-.78.8-2.07 0-2.86zM5.41 20L4 18.59l7.72-7.72 1.47 1.35L5.41 20z\"/>\n",
              "  </svg>\n",
              "      </button>\n",
              "      \n",
              "  <style>\n",
              "    .colab-df-container {\n",
              "      display:flex;\n",
              "      flex-wrap:wrap;\n",
              "      gap: 12px;\n",
              "    }\n",
              "\n",
              "    .colab-df-convert {\n",
              "      background-color: #E8F0FE;\n",
              "      border: none;\n",
              "      border-radius: 50%;\n",
              "      cursor: pointer;\n",
              "      display: none;\n",
              "      fill: #1967D2;\n",
              "      height: 32px;\n",
              "      padding: 0 0 0 0;\n",
              "      width: 32px;\n",
              "    }\n",
              "\n",
              "    .colab-df-convert:hover {\n",
              "      background-color: #E2EBFA;\n",
              "      box-shadow: 0px 1px 2px rgba(60, 64, 67, 0.3), 0px 1px 3px 1px rgba(60, 64, 67, 0.15);\n",
              "      fill: #174EA6;\n",
              "    }\n",
              "\n",
              "    [theme=dark] .colab-df-convert {\n",
              "      background-color: #3B4455;\n",
              "      fill: #D2E3FC;\n",
              "    }\n",
              "\n",
              "    [theme=dark] .colab-df-convert:hover {\n",
              "      background-color: #434B5C;\n",
              "      box-shadow: 0px 1px 3px 1px rgba(0, 0, 0, 0.15);\n",
              "      filter: drop-shadow(0px 1px 2px rgba(0, 0, 0, 0.3));\n",
              "      fill: #FFFFFF;\n",
              "    }\n",
              "  </style>\n",
              "\n",
              "      <script>\n",
              "        const buttonEl =\n",
              "          document.querySelector('#df-fbee3be7-c539-4673-bfe0-5ac877f7d3a0 button.colab-df-convert');\n",
              "        buttonEl.style.display =\n",
              "          google.colab.kernel.accessAllowed ? 'block' : 'none';\n",
              "\n",
              "        async function convertToInteractive(key) {\n",
              "          const element = document.querySelector('#df-fbee3be7-c539-4673-bfe0-5ac877f7d3a0');\n",
              "          const dataTable =\n",
              "            await google.colab.kernel.invokeFunction('convertToInteractive',\n",
              "                                                     [key], {});\n",
              "          if (!dataTable) return;\n",
              "\n",
              "          const docLinkHtml = 'Like what you see? Visit the ' +\n",
              "            '<a target=\"_blank\" href=https://colab.research.google.com/notebooks/data_table.ipynb>data table notebook</a>'\n",
              "            + ' to learn more about interactive tables.';\n",
              "          element.innerHTML = '';\n",
              "          dataTable['output_type'] = 'display_data';\n",
              "          await google.colab.output.renderOutput(dataTable, element);\n",
              "          const docLink = document.createElement('div');\n",
              "          docLink.innerHTML = docLinkHtml;\n",
              "          element.appendChild(docLink);\n",
              "        }\n",
              "      </script>\n",
              "    </div>\n",
              "  </div>\n",
              "  "
            ]
          },
          "metadata": {},
          "execution_count": 3017
        }
      ],
      "source": [
        "aug_food.drop(['Seasoning','Allergens'], axis=1, inplace=True)\n",
        "# performing one-hot encoding on categorical columns\n",
        "aug_food = pd.get_dummies(aug_food, drop_first=True)\n",
        "\n",
        "# showing the dataset\n",
        "aug_food.head()"
      ]
    },
    {
      "cell_type": "markdown",
      "metadata": {
        "id": "T1k1bjzBkMnQ"
      },
      "source": [
        "Finally, we combine the three dataframes together into the desired single encoded dataframe using the `pd.concat()` method. This consolidated dataframe can then be used for subsequent modeling. Lastly, we then move the `Prediction` column at the last column."
      ]
    },
    {
      "cell_type": "code",
      "execution_count": null,
      "metadata": {
        "colab": {
          "base_uri": "https://localhost:8080/",
          "height": 334
        },
        "id": "zCO2p9nRkMnQ",
        "outputId": "fd5f970b-812e-4584-c3e9-4afae4ec5bef"
      },
      "outputs": [
        {
          "output_type": "execute_result",
          "data": {
            "text/plain": [
              "   Food Product_aloo gobi  Food Product_aloo paratha  Food Product_apple  \\\n",
              "0                       0                          0                   0   \n",
              "1                       0                          0                   0   \n",
              "2                       0                          0                   0   \n",
              "3                       0                          0                   0   \n",
              "4                       0                          0                   0   \n",
              "\n",
              "   Food Product_apple cider  Food Product_apple crisp  Food Product_apple pie  \\\n",
              "0                         0                         0                       0   \n",
              "1                         0                         0                       0   \n",
              "2                         0                         0                       0   \n",
              "3                         0                         0                       0   \n",
              "4                         0                         0                       0   \n",
              "\n",
              "   Food Product_apple sauce  Food Product_apple tart  \\\n",
              "0                         0                        0   \n",
              "1                         0                        0   \n",
              "2                         0                        0   \n",
              "3                         0                        0   \n",
              "4                         0                        0   \n",
              "\n",
              "   Food Product_arabic fattoush  Food Product_arancini  ...  \\\n",
              "0                             0                      0  ...   \n",
              "1                             0                      0  ...   \n",
              "2                             0                      0  ...   \n",
              "3                             0                      0  ...   \n",
              "4                             0                      0  ...   \n",
              "\n",
              "   Allergens_peanuts  Allergens_pinenuts  Allergens_pork  Allergens_rice  \\\n",
              "0                  0                   0               0               0   \n",
              "1                  0                   0               0               0   \n",
              "2                  0                   0               0               0   \n",
              "3                  0                   0               0               0   \n",
              "4                  0                   0               0               0   \n",
              "\n",
              "   Allergens_shellfish  Allergens_shrimp  Allergens_soybeans  \\\n",
              "0                    0                 0                   0   \n",
              "1                    0                 0                   0   \n",
              "2                    0                 0                   0   \n",
              "3                    0                 0                   0   \n",
              "4                    0                 0                   0   \n",
              "\n",
              "   Allergens_strawberries  Allergens_wheat  Prediction  \n",
              "0                       0                1           1  \n",
              "1                       0                1           1  \n",
              "2                       0                0           1  \n",
              "3                       0                0           1  \n",
              "4                       0                0           1  \n",
              "\n",
              "[5 rows x 764 columns]"
            ],
            "text/html": [
              "\n",
              "  <div id=\"df-543c8b3c-adb2-497a-a80b-748e526168fe\">\n",
              "    <div class=\"colab-df-container\">\n",
              "      <div>\n",
              "<style scoped>\n",
              "    .dataframe tbody tr th:only-of-type {\n",
              "        vertical-align: middle;\n",
              "    }\n",
              "\n",
              "    .dataframe tbody tr th {\n",
              "        vertical-align: top;\n",
              "    }\n",
              "\n",
              "    .dataframe thead th {\n",
              "        text-align: right;\n",
              "    }\n",
              "</style>\n",
              "<table border=\"1\" class=\"dataframe\">\n",
              "  <thead>\n",
              "    <tr style=\"text-align: right;\">\n",
              "      <th></th>\n",
              "      <th>Food Product_aloo gobi</th>\n",
              "      <th>Food Product_aloo paratha</th>\n",
              "      <th>Food Product_apple</th>\n",
              "      <th>Food Product_apple cider</th>\n",
              "      <th>Food Product_apple crisp</th>\n",
              "      <th>Food Product_apple pie</th>\n",
              "      <th>Food Product_apple sauce</th>\n",
              "      <th>Food Product_apple tart</th>\n",
              "      <th>Food Product_arabic fattoush</th>\n",
              "      <th>Food Product_arancini</th>\n",
              "      <th>...</th>\n",
              "      <th>Allergens_peanuts</th>\n",
              "      <th>Allergens_pinenuts</th>\n",
              "      <th>Allergens_pork</th>\n",
              "      <th>Allergens_rice</th>\n",
              "      <th>Allergens_shellfish</th>\n",
              "      <th>Allergens_shrimp</th>\n",
              "      <th>Allergens_soybeans</th>\n",
              "      <th>Allergens_strawberries</th>\n",
              "      <th>Allergens_wheat</th>\n",
              "      <th>Prediction</th>\n",
              "    </tr>\n",
              "  </thead>\n",
              "  <tbody>\n",
              "    <tr>\n",
              "      <th>0</th>\n",
              "      <td>0</td>\n",
              "      <td>0</td>\n",
              "      <td>0</td>\n",
              "      <td>0</td>\n",
              "      <td>0</td>\n",
              "      <td>0</td>\n",
              "      <td>0</td>\n",
              "      <td>0</td>\n",
              "      <td>0</td>\n",
              "      <td>0</td>\n",
              "      <td>...</td>\n",
              "      <td>0</td>\n",
              "      <td>0</td>\n",
              "      <td>0</td>\n",
              "      <td>0</td>\n",
              "      <td>0</td>\n",
              "      <td>0</td>\n",
              "      <td>0</td>\n",
              "      <td>0</td>\n",
              "      <td>1</td>\n",
              "      <td>1</td>\n",
              "    </tr>\n",
              "    <tr>\n",
              "      <th>1</th>\n",
              "      <td>0</td>\n",
              "      <td>0</td>\n",
              "      <td>0</td>\n",
              "      <td>0</td>\n",
              "      <td>0</td>\n",
              "      <td>0</td>\n",
              "      <td>0</td>\n",
              "      <td>0</td>\n",
              "      <td>0</td>\n",
              "      <td>0</td>\n",
              "      <td>...</td>\n",
              "      <td>0</td>\n",
              "      <td>0</td>\n",
              "      <td>0</td>\n",
              "      <td>0</td>\n",
              "      <td>0</td>\n",
              "      <td>0</td>\n",
              "      <td>0</td>\n",
              "      <td>0</td>\n",
              "      <td>1</td>\n",
              "      <td>1</td>\n",
              "    </tr>\n",
              "    <tr>\n",
              "      <th>2</th>\n",
              "      <td>0</td>\n",
              "      <td>0</td>\n",
              "      <td>0</td>\n",
              "      <td>0</td>\n",
              "      <td>0</td>\n",
              "      <td>0</td>\n",
              "      <td>0</td>\n",
              "      <td>0</td>\n",
              "      <td>0</td>\n",
              "      <td>0</td>\n",
              "      <td>...</td>\n",
              "      <td>0</td>\n",
              "      <td>0</td>\n",
              "      <td>0</td>\n",
              "      <td>0</td>\n",
              "      <td>0</td>\n",
              "      <td>0</td>\n",
              "      <td>0</td>\n",
              "      <td>0</td>\n",
              "      <td>0</td>\n",
              "      <td>1</td>\n",
              "    </tr>\n",
              "    <tr>\n",
              "      <th>3</th>\n",
              "      <td>0</td>\n",
              "      <td>0</td>\n",
              "      <td>0</td>\n",
              "      <td>0</td>\n",
              "      <td>0</td>\n",
              "      <td>0</td>\n",
              "      <td>0</td>\n",
              "      <td>0</td>\n",
              "      <td>0</td>\n",
              "      <td>0</td>\n",
              "      <td>...</td>\n",
              "      <td>0</td>\n",
              "      <td>0</td>\n",
              "      <td>0</td>\n",
              "      <td>0</td>\n",
              "      <td>0</td>\n",
              "      <td>0</td>\n",
              "      <td>0</td>\n",
              "      <td>0</td>\n",
              "      <td>0</td>\n",
              "      <td>1</td>\n",
              "    </tr>\n",
              "    <tr>\n",
              "      <th>4</th>\n",
              "      <td>0</td>\n",
              "      <td>0</td>\n",
              "      <td>0</td>\n",
              "      <td>0</td>\n",
              "      <td>0</td>\n",
              "      <td>0</td>\n",
              "      <td>0</td>\n",
              "      <td>0</td>\n",
              "      <td>0</td>\n",
              "      <td>0</td>\n",
              "      <td>...</td>\n",
              "      <td>0</td>\n",
              "      <td>0</td>\n",
              "      <td>0</td>\n",
              "      <td>0</td>\n",
              "      <td>0</td>\n",
              "      <td>0</td>\n",
              "      <td>0</td>\n",
              "      <td>0</td>\n",
              "      <td>0</td>\n",
              "      <td>1</td>\n",
              "    </tr>\n",
              "  </tbody>\n",
              "</table>\n",
              "<p>5 rows × 764 columns</p>\n",
              "</div>\n",
              "      <button class=\"colab-df-convert\" onclick=\"convertToInteractive('df-543c8b3c-adb2-497a-a80b-748e526168fe')\"\n",
              "              title=\"Convert this dataframe to an interactive table.\"\n",
              "              style=\"display:none;\">\n",
              "        \n",
              "  <svg xmlns=\"http://www.w3.org/2000/svg\" height=\"24px\"viewBox=\"0 0 24 24\"\n",
              "       width=\"24px\">\n",
              "    <path d=\"M0 0h24v24H0V0z\" fill=\"none\"/>\n",
              "    <path d=\"M18.56 5.44l.94 2.06.94-2.06 2.06-.94-2.06-.94-.94-2.06-.94 2.06-2.06.94zm-11 1L8.5 8.5l.94-2.06 2.06-.94-2.06-.94L8.5 2.5l-.94 2.06-2.06.94zm10 10l.94 2.06.94-2.06 2.06-.94-2.06-.94-.94-2.06-.94 2.06-2.06.94z\"/><path d=\"M17.41 7.96l-1.37-1.37c-.4-.4-.92-.59-1.43-.59-.52 0-1.04.2-1.43.59L10.3 9.45l-7.72 7.72c-.78.78-.78 2.05 0 2.83L4 21.41c.39.39.9.59 1.41.59.51 0 1.02-.2 1.41-.59l7.78-7.78 2.81-2.81c.8-.78.8-2.07 0-2.86zM5.41 20L4 18.59l7.72-7.72 1.47 1.35L5.41 20z\"/>\n",
              "  </svg>\n",
              "      </button>\n",
              "      \n",
              "  <style>\n",
              "    .colab-df-container {\n",
              "      display:flex;\n",
              "      flex-wrap:wrap;\n",
              "      gap: 12px;\n",
              "    }\n",
              "\n",
              "    .colab-df-convert {\n",
              "      background-color: #E8F0FE;\n",
              "      border: none;\n",
              "      border-radius: 50%;\n",
              "      cursor: pointer;\n",
              "      display: none;\n",
              "      fill: #1967D2;\n",
              "      height: 32px;\n",
              "      padding: 0 0 0 0;\n",
              "      width: 32px;\n",
              "    }\n",
              "\n",
              "    .colab-df-convert:hover {\n",
              "      background-color: #E2EBFA;\n",
              "      box-shadow: 0px 1px 2px rgba(60, 64, 67, 0.3), 0px 1px 3px 1px rgba(60, 64, 67, 0.15);\n",
              "      fill: #174EA6;\n",
              "    }\n",
              "\n",
              "    [theme=dark] .colab-df-convert {\n",
              "      background-color: #3B4455;\n",
              "      fill: #D2E3FC;\n",
              "    }\n",
              "\n",
              "    [theme=dark] .colab-df-convert:hover {\n",
              "      background-color: #434B5C;\n",
              "      box-shadow: 0px 1px 3px 1px rgba(0, 0, 0, 0.15);\n",
              "      filter: drop-shadow(0px 1px 2px rgba(0, 0, 0, 0.3));\n",
              "      fill: #FFFFFF;\n",
              "    }\n",
              "  </style>\n",
              "\n",
              "      <script>\n",
              "        const buttonEl =\n",
              "          document.querySelector('#df-543c8b3c-adb2-497a-a80b-748e526168fe button.colab-df-convert');\n",
              "        buttonEl.style.display =\n",
              "          google.colab.kernel.accessAllowed ? 'block' : 'none';\n",
              "\n",
              "        async function convertToInteractive(key) {\n",
              "          const element = document.querySelector('#df-543c8b3c-adb2-497a-a80b-748e526168fe');\n",
              "          const dataTable =\n",
              "            await google.colab.kernel.invokeFunction('convertToInteractive',\n",
              "                                                     [key], {});\n",
              "          if (!dataTable) return;\n",
              "\n",
              "          const docLinkHtml = 'Like what you see? Visit the ' +\n",
              "            '<a target=\"_blank\" href=https://colab.research.google.com/notebooks/data_table.ipynb>data table notebook</a>'\n",
              "            + ' to learn more about interactive tables.';\n",
              "          element.innerHTML = '';\n",
              "          dataTable['output_type'] = 'display_data';\n",
              "          await google.colab.output.renderOutput(dataTable, element);\n",
              "          const docLink = document.createElement('div');\n",
              "          docLink.innerHTML = docLinkHtml;\n",
              "          element.appendChild(docLink);\n",
              "        }\n",
              "      </script>\n",
              "    </div>\n",
              "  </div>\n",
              "  "
            ]
          },
          "metadata": {},
          "execution_count": 3018
        }
      ],
      "source": [
        "# Join all columns using pd.concat()\n",
        "aug_food = pd.concat([aug_food, aug_season, aug_allerg], axis=1)\n",
        "\n",
        "# Moving the 'Prediction' column to the last position\n",
        "aug_food = aug_food[[col for col in aug_food.columns if col != 'Prediction'] + ['Prediction']]\n",
        "\n",
        "# Display the updated DataFrame\n",
        "aug_food.head()"
      ]
    },
    {
      "cell_type": "markdown",
      "metadata": {
        "id": "mIiuYO5ikMnK"
      },
      "source": [
        "## **Preprocessed Dataset Features**\n",
        "\n",
        "The data features in the preprocessed dataset represent different food products such as \"Aloo Gobi\" and \"Apple Cider.\" These features are stored as unsigned 8-bit integers (`uint8`). We use `uint8` for efficient memory usage as the binary values of the features can be accommodated within this range (decimal values 0-255).\n",
        "\n",
        "We use the attribute `.dtypes` to show the datatype of the values in each column of the dataframe."
      ]
    },
    {
      "cell_type": "code",
      "execution_count": null,
      "metadata": {
        "id": "xQv83UCbkMnK",
        "outputId": "54da41b3-85c2-45ce-b545-be07a11c4d9b",
        "colab": {
          "base_uri": "https://localhost:8080/"
        }
      },
      "outputs": [
        {
          "output_type": "execute_result",
          "data": {
            "text/plain": [
              "Food Product_aloo gobi       uint8\n",
              "Food Product_aloo paratha    uint8\n",
              "Food Product_apple           uint8\n",
              "Food Product_apple cider     uint8\n",
              "Food Product_apple crisp     uint8\n",
              "                             ...  \n",
              "Allergens_shrimp             uint8\n",
              "Allergens_soybeans           uint8\n",
              "Allergens_strawberries       uint8\n",
              "Allergens_wheat              uint8\n",
              "Prediction                   uint8\n",
              "Length: 764, dtype: object"
            ]
          },
          "metadata": {},
          "execution_count": 3019
        }
      ],
      "source": [
        "aug_food.dtypes"
      ]
    },
    {
      "cell_type": "markdown",
      "metadata": {
        "id": "M6QlKYbJs6Ng"
      },
      "source": [
        "# **Data Modeling**\n",
        "\n",
        "After cleaning and preprocessing the data, we can now proceed to modeling the data using multi-label classification and Random Forest Classifier."
      ]
    },
    {
      "cell_type": "markdown",
      "source": [
        "## **Training the Model**"
      ],
      "metadata": {
        "id": "94lZrPDBhLv7"
      }
    },
    {
      "cell_type": "markdown",
      "metadata": {
        "id": "p9tg1euokMnQ"
      },
      "source": [
        "<!-- We used a **Random Forest Classifier** for classifying the dataset due to its ability to handle high-dimensional categorical data and capture complex interactions. Given that our dataset contains a lot of features, using Random Forest as our classifier makes sense especially since it is known for its robustness to noisy or outlier data points.\n",
        "\n",
        "Moreover, RFC is known for its capability to handle non-linear relationships and feature importance estimation. Since predicting allergens based only on allergens can produce complex and non-linear interactions, Random Forest's ensemble approach allows it to capture these non-linearities effectively, making it suitable for our project. -->\n",
        "\n",
        "**Random Forest** is a commonly used machine learning model that is often effective in handling high-dimensional data (Zhang et. al, 2023), which is particularly relevant to our dataset since it encompasses a large number of food products and their allergens. It is a combination of one or more hierarchical predictive models called decision trees, yielding the modal class as the output for the classification task (Pillai & Malhotra, 2020). Recently, the study about oral food challenges demonstrated that the Random Forest Classifier achieved the best performance in terms of the Area Under a Curve metric for each food allergen (Zhang et. al, 2023).\n",
        "\n",
        "Thus, we begin our data modeling by instantiating a **random forest classifier**, an ensemble-based machine learning algorithm commonly used for classification tasks. The classifier is configured as follows:\n",
        "- **20** decision trees\n",
        "- random seed of **42**"
      ]
    },
    {
      "cell_type": "code",
      "execution_count": null,
      "metadata": {
        "id": "U_jkwrXxRBhD"
      },
      "outputs": [],
      "source": [
        "from sklearn.ensemble import RandomForestClassifier\n",
        "classifier = RandomForestClassifier(n_estimators=20, random_state=42)"
      ]
    },
    {
      "cell_type": "markdown",
      "metadata": {
        "id": "yIwnmDcHkMnQ"
      },
      "source": [
        "We assign the variable `X` to the `aug_food` dataframe with the `Prediction` column dropped, representing the input features. Similarly, the variable `y` is assigned to the `Prediction` column, representing the target variable."
      ]
    },
    {
      "cell_type": "code",
      "execution_count": null,
      "metadata": {
        "id": "BT4jpVp3s-Yz"
      },
      "outputs": [],
      "source": [
        "from sklearn.model_selection import train_test_split\n",
        "\n",
        "# assigning the input features and prediction values\n",
        "X = aug_food.drop('Prediction', axis = 1)\n",
        "y = aug_food['Prediction']"
      ]
    },
    {
      "cell_type": "markdown",
      "metadata": {
        "id": "fzw2z5z3kMnR"
      },
      "source": [
        "The next step is to split the data into training and testing subsets via the `train_test_split` function. The split is performed such that 70% of the data is assigned to the training set, while 30% is assigned to the testing set. Subsequently, the X train and Y train subsets are fitted using the Random Forest Classifier."
      ]
    },
    {
      "cell_type": "code",
      "execution_count": null,
      "metadata": {
        "id": "vOCa_BntQ8BY"
      },
      "outputs": [],
      "source": [
        "# splitting the data\n",
        "X_train,X_test,y_train,y_test = train_test_split(X,y, test_size=0.3, random_state=42)"
      ]
    },
    {
      "cell_type": "code",
      "execution_count": null,
      "metadata": {
        "colab": {
          "base_uri": "https://localhost:8080/",
          "height": 74
        },
        "id": "u1dzR8XIRFjE",
        "outputId": "ce65b44f-d754-435b-fc18-3d4d7401da0d"
      },
      "outputs": [
        {
          "output_type": "execute_result",
          "data": {
            "text/plain": [
              "RandomForestClassifier(n_estimators=20, random_state=42)"
            ],
            "text/html": [
              "<style>#sk-container-id-167 {color: black;background-color: white;}#sk-container-id-167 pre{padding: 0;}#sk-container-id-167 div.sk-toggleable {background-color: white;}#sk-container-id-167 label.sk-toggleable__label {cursor: pointer;display: block;width: 100%;margin-bottom: 0;padding: 0.3em;box-sizing: border-box;text-align: center;}#sk-container-id-167 label.sk-toggleable__label-arrow:before {content: \"▸\";float: left;margin-right: 0.25em;color: #696969;}#sk-container-id-167 label.sk-toggleable__label-arrow:hover:before {color: black;}#sk-container-id-167 div.sk-estimator:hover label.sk-toggleable__label-arrow:before {color: black;}#sk-container-id-167 div.sk-toggleable__content {max-height: 0;max-width: 0;overflow: hidden;text-align: left;background-color: #f0f8ff;}#sk-container-id-167 div.sk-toggleable__content pre {margin: 0.2em;color: black;border-radius: 0.25em;background-color: #f0f8ff;}#sk-container-id-167 input.sk-toggleable__control:checked~div.sk-toggleable__content {max-height: 200px;max-width: 100%;overflow: auto;}#sk-container-id-167 input.sk-toggleable__control:checked~label.sk-toggleable__label-arrow:before {content: \"▾\";}#sk-container-id-167 div.sk-estimator input.sk-toggleable__control:checked~label.sk-toggleable__label {background-color: #d4ebff;}#sk-container-id-167 div.sk-label input.sk-toggleable__control:checked~label.sk-toggleable__label {background-color: #d4ebff;}#sk-container-id-167 input.sk-hidden--visually {border: 0;clip: rect(1px 1px 1px 1px);clip: rect(1px, 1px, 1px, 1px);height: 1px;margin: -1px;overflow: hidden;padding: 0;position: absolute;width: 1px;}#sk-container-id-167 div.sk-estimator {font-family: monospace;background-color: #f0f8ff;border: 1px dotted black;border-radius: 0.25em;box-sizing: border-box;margin-bottom: 0.5em;}#sk-container-id-167 div.sk-estimator:hover {background-color: #d4ebff;}#sk-container-id-167 div.sk-parallel-item::after {content: \"\";width: 100%;border-bottom: 1px solid gray;flex-grow: 1;}#sk-container-id-167 div.sk-label:hover label.sk-toggleable__label {background-color: #d4ebff;}#sk-container-id-167 div.sk-serial::before {content: \"\";position: absolute;border-left: 1px solid gray;box-sizing: border-box;top: 0;bottom: 0;left: 50%;z-index: 0;}#sk-container-id-167 div.sk-serial {display: flex;flex-direction: column;align-items: center;background-color: white;padding-right: 0.2em;padding-left: 0.2em;position: relative;}#sk-container-id-167 div.sk-item {position: relative;z-index: 1;}#sk-container-id-167 div.sk-parallel {display: flex;align-items: stretch;justify-content: center;background-color: white;position: relative;}#sk-container-id-167 div.sk-item::before, #sk-container-id-167 div.sk-parallel-item::before {content: \"\";position: absolute;border-left: 1px solid gray;box-sizing: border-box;top: 0;bottom: 0;left: 50%;z-index: -1;}#sk-container-id-167 div.sk-parallel-item {display: flex;flex-direction: column;z-index: 1;position: relative;background-color: white;}#sk-container-id-167 div.sk-parallel-item:first-child::after {align-self: flex-end;width: 50%;}#sk-container-id-167 div.sk-parallel-item:last-child::after {align-self: flex-start;width: 50%;}#sk-container-id-167 div.sk-parallel-item:only-child::after {width: 0;}#sk-container-id-167 div.sk-dashed-wrapped {border: 1px dashed gray;margin: 0 0.4em 0.5em 0.4em;box-sizing: border-box;padding-bottom: 0.4em;background-color: white;}#sk-container-id-167 div.sk-label label {font-family: monospace;font-weight: bold;display: inline-block;line-height: 1.2em;}#sk-container-id-167 div.sk-label-container {text-align: center;}#sk-container-id-167 div.sk-container {/* jupyter's `normalize.less` sets `[hidden] { display: none; }` but bootstrap.min.css set `[hidden] { display: none !important; }` so we also need the `!important` here to be able to override the default hidden behavior on the sphinx rendered scikit-learn.org. See: https://github.com/scikit-learn/scikit-learn/issues/21755 */display: inline-block !important;position: relative;}#sk-container-id-167 div.sk-text-repr-fallback {display: none;}</style><div id=\"sk-container-id-167\" class=\"sk-top-container\"><div class=\"sk-text-repr-fallback\"><pre>RandomForestClassifier(n_estimators=20, random_state=42)</pre><b>In a Jupyter environment, please rerun this cell to show the HTML representation or trust the notebook. <br />On GitHub, the HTML representation is unable to render, please try loading this page with nbviewer.org.</b></div><div class=\"sk-container\" hidden><div class=\"sk-item\"><div class=\"sk-estimator sk-toggleable\"><input class=\"sk-toggleable__control sk-hidden--visually\" id=\"sk-estimator-id-167\" type=\"checkbox\" checked><label for=\"sk-estimator-id-167\" class=\"sk-toggleable__label sk-toggleable__label-arrow\">RandomForestClassifier</label><div class=\"sk-toggleable__content\"><pre>RandomForestClassifier(n_estimators=20, random_state=42)</pre></div></div></div></div></div>"
            ]
          },
          "metadata": {},
          "execution_count": 3023
        }
      ],
      "source": [
        "# fitting the subsets\n",
        "classifier.fit(X_train,y_train)"
      ]
    },
    {
      "cell_type": "markdown",
      "metadata": {
        "id": "dBJJEFAIu8DJ"
      },
      "source": [
        "## **Saving the Model**\n",
        "\n"
      ]
    },
    {
      "cell_type": "markdown",
      "source": [
        "The last step is to save the model pickle file using pickle's `.dump()`. This can then be loaded in the webapp to predict results."
      ],
      "metadata": {
        "id": "ELtlIDf-e4Rz"
      }
    },
    {
      "cell_type": "code",
      "execution_count": null,
      "metadata": {
        "id": "S7Q3iR15vCYc"
      },
      "outputs": [],
      "source": [
        "import pickle\n",
        "\n",
        "filename = \"model.pkl\"\n",
        "\n",
        "# save model\n",
        "# pickle.dump(classifier, open(filename, \"wb\"))"
      ]
    },
    {
      "cell_type": "markdown",
      "source": [
        "# **Results**"
      ],
      "metadata": {
        "id": "Lzv9gh3lg_it"
      }
    },
    {
      "cell_type": "markdown",
      "source": [
        "## **Comparison of Random Forest Classification Models with Original and Augmented Datasets**\n",
        "\n",
        "In this project, we compare the performance of **two Random Forest classification models** using different datasets: the original dataset and an augmented dataset. The goal is to evaluate the impact of data augmentation on the model's predictive accuracy and robustness.\n",
        "\n",
        "The **first model** was trained on the original [**Food Ingredients and Allergens**](https://www.kaggle.com/datasets/uom190346a/food-ingredients-and-allergens) dataset from Kaggle.com, which represents the real-world data collected for the classification task. We will refer to this as **Medley's model**. Upon preprocessing, we discovered that the dataset contained duplicate entries and null values. After cleaning the dataset, the rows decreased from 400 to 308. This can potentially lead to overfitting and suboptimal generalization.\n",
        "\n",
        "The **second model**, however, utilized an augmented dataset generated by applying various data augmentation techniques to the original data. These techniques include the following:\n",
        "\n",
        "*   Type formatting\n",
        "*   Null and duplicate values dropping\n",
        "*   Adding more entries, increasing the number of rows from 308 to 400\n",
        "*   Lowercase conversion\n",
        "*   Categorical data encoding\n",
        "\n",
        "This effectively increases the robustness, diversity and size of the dataset."
      ],
      "metadata": {
        "id": "x8OqQ1YcjCzK"
      }
    },
    {
      "cell_type": "markdown",
      "source": [
        "## **Medley's Random Forests Model Discussion**\n",
        "\n",
        "This model was provided by **DANIELA MEDLEY** in the Code section of `Food Ingredients and Allergens` as [Food Ingredients - Pandas and Random Forests](https://www.kaggle.com/code/danielamedley/food-ingredients-pandas-and-random-forests). It utilized random forests classification to train a prediction model using the original dataset. Below is a brief discussion on how they approached preprocessing and model training."
      ],
      "metadata": {
        "id": "SeQIlazUFkzb"
      }
    },
    {
      "cell_type": "markdown",
      "source": [
        "### **Importing the Original Dataset**\n",
        "First, they imported and read the original dataset as `df`. This is saved as `[Original] Food Ingredients and Allergens.csv` in our reposiitory."
      ],
      "metadata": {
        "id": "-VlakT1QKItZ"
      }
    },
    {
      "cell_type": "code",
      "source": [
        "import pandas as pd\n",
        "import numpy as np\n",
        "import seaborn as sns\n",
        "\n",
        "df = pd.read_csv('https://raw.githubusercontent.com/splasherzz/food-allergen-detector/main/datasets/%5BOriginal%5D%20Food%20Ingredients%20and%20Allergens.csv')"
      ],
      "metadata": {
        "id": "GaIY4_dXJ-lo"
      },
      "execution_count": null,
      "outputs": []
    },
    {
      "cell_type": "markdown",
      "source": [
        "### **Converting Categorical Features**\n",
        "\n",
        "The author did categorical data encoding by converting categorical variable into dummy/indicator variables using `.get_dummies()`. This was run through each column except the `Prediction` column. The variable dummies were saved to their respective variables. Their corresponding columns were then dropped from the dataframe to give way to map the `Prediction` values later."
      ],
      "metadata": {
        "id": "Oiz2dcK8J_yA"
      }
    },
    {
      "cell_type": "code",
      "execution_count": null,
      "metadata": {
        "execution": {
          "iopub.execute_input": "2023-05-28T14:56:53.940970Z",
          "iopub.status.busy": "2023-05-28T14:56:53.940556Z",
          "iopub.status.idle": "2023-05-28T14:56:53.956028Z",
          "shell.execute_reply": "2023-05-28T14:56:53.954677Z"
        },
        "papermill": {
          "duration": 0.055601,
          "end_time": "2023-05-28T14:56:53.959599",
          "exception": false,
          "start_time": "2023-05-28T14:56:53.903998",
          "status": "completed"
        },
        "tags": [],
        "id": "6e6253a6"
      },
      "outputs": [],
      "source": [
        "# getting the dummy variables\n",
        "food = pd.get_dummies(df['Food Product'],drop_first=True)\n",
        "ingr = pd.get_dummies(df['Main Ingredient'],drop_first=True)\n",
        "sweet = pd.get_dummies(df['Sweetener'],drop_first=True)\n",
        "fat = pd.get_dummies(df['Fat/Oil'],drop_first=True)\n",
        "seas = pd.get_dummies(df['Seasoning'],drop_first=True)\n",
        "aller = pd.get_dummies(df['Allergens'],drop_first=True)\n",
        "\n",
        "# dropping the columns\n",
        "df.drop(['Food Product','Main Ingredient','Sweetener','Fat/Oil','Seasoning','Allergens'],axis=1,inplace=True)"
      ]
    },
    {
      "cell_type": "markdown",
      "source": [
        "The code below is used to create a function `transform_pred` that maps the `Prediction` values such that `Contains` and `Does not contain` values are set to 1s and 0s respectively. Then, they used `.apply()`, which contains the function as a parameter, to the `Prediction` values."
      ],
      "metadata": {
        "id": "V_0agncLNCJM"
      }
    },
    {
      "cell_type": "code",
      "execution_count": null,
      "metadata": {
        "execution": {
          "iopub.execute_input": "2023-05-28T14:56:54.108609Z",
          "iopub.status.busy": "2023-05-28T14:56:54.108120Z",
          "iopub.status.idle": "2023-05-28T14:56:54.113628Z",
          "shell.execute_reply": "2023-05-28T14:56:54.112654Z"
        },
        "papermill": {
          "duration": 0.041616,
          "end_time": "2023-05-28T14:56:54.116375",
          "exception": false,
          "start_time": "2023-05-28T14:56:54.074759",
          "status": "completed"
        },
        "tags": [],
        "id": "54e94709",
        "colab": {
          "base_uri": "https://localhost:8080/"
        },
        "outputId": "29638996-a019-42f7-beb3-45fe517687b2"
      },
      "outputs": [
        {
          "output_type": "execute_result",
          "data": {
            "text/plain": [
              "0      1\n",
              "1      1\n",
              "2      1\n",
              "3      1\n",
              "4      1\n",
              "      ..\n",
              "394    1\n",
              "395    1\n",
              "396    1\n",
              "397    1\n",
              "398    1\n",
              "Name: Prediction, Length: 399, dtype: int64"
            ]
          },
          "metadata": {},
          "execution_count": 3027
        }
      ],
      "source": [
        "# creating a mapping function for the prediction values\n",
        "def transform_pred (item):\n",
        "    if item == 'Contains':\n",
        "        return 1\n",
        "    else:\n",
        "        return 0\n",
        "\n",
        "# apply the function to prediction values\n",
        "df['Prediction'] = df['Prediction'].apply(transform_pred)\n",
        "df['Prediction']"
      ]
    },
    {
      "cell_type": "markdown",
      "source": [
        "The author merged the dummy features that were processed earlier, with the new Prediction row using `pd.concat()`."
      ],
      "metadata": {
        "id": "L2LmYVOrOf3k"
      }
    },
    {
      "cell_type": "code",
      "execution_count": null,
      "metadata": {
        "execution": {
          "iopub.execute_input": "2023-05-28T14:56:54.270944Z",
          "iopub.status.busy": "2023-05-28T14:56:54.270519Z",
          "iopub.status.idle": "2023-05-28T14:56:54.277363Z",
          "shell.execute_reply": "2023-05-28T14:56:54.276254Z"
        },
        "papermill": {
          "duration": 0.04694,
          "end_time": "2023-05-28T14:56:54.280270",
          "exception": false,
          "start_time": "2023-05-28T14:56:54.233330",
          "status": "completed"
        },
        "tags": [],
        "id": "373276f8",
        "colab": {
          "base_uri": "https://localhost:8080/",
          "height": 334
        },
        "outputId": "4320b5c1-915e-433b-d60f-26c3bdc7c6e3"
      },
      "outputs": [
        {
          "output_type": "execute_result",
          "data": {
            "text/plain": [
              "   Aloo Gobi  Aloo Paratha  Apple  Apple Cider  Apple Crisp  Apple Pie  \\\n",
              "0          0             0      0            0            0          0   \n",
              "1          0             0      0            0            0          0   \n",
              "2          0             0      0            0            0          0   \n",
              "3          0             0      0            0            0          0   \n",
              "4          0             0      0            0            0          0   \n",
              "\n",
              "   Avocado Toast  BBQ Ribs  Bacon-Wrapped Shrimp  Baked Apple  ...  Soybeans  \\\n",
              "0              0         0                     0            0  ...         0   \n",
              "1              0         0                     0            0  ...         0   \n",
              "2              0         0                     0            0  ...         0   \n",
              "3              0         0                     0            0  ...         0   \n",
              "4              0         0                     0            0  ...         0   \n",
              "\n",
              "   Soybeans, Fish  Wheat  Wheat, Dairy  Wheat, Dairy, Alcohol  \\\n",
              "0               0      0             0                      0   \n",
              "1               0      0             0                      0   \n",
              "2               0      0             0                      0   \n",
              "3               0      0             0                      0   \n",
              "4               0      0             0                      0   \n",
              "\n",
              "   Wheat, Dairy, Cocoa  Wheat, Dairy, Eggs  Wheat, Dairy, Nuts  \\\n",
              "0                    0                   0                   0   \n",
              "1                    0                   0                   0   \n",
              "2                    0                   0                   0   \n",
              "3                    0                   0                   0   \n",
              "4                    0                   0                   0   \n",
              "\n",
              "   Wheat, Pork, Dairy  Prediction  \n",
              "0                   0           1  \n",
              "1                   0           1  \n",
              "2                   0           1  \n",
              "3                   0           1  \n",
              "4                   0           1  \n",
              "\n",
              "[5 rows x 627 columns]"
            ],
            "text/html": [
              "\n",
              "  <div id=\"df-fb5df5b4-ee0f-4c0d-909b-44a7b9185de0\">\n",
              "    <div class=\"colab-df-container\">\n",
              "      <div>\n",
              "<style scoped>\n",
              "    .dataframe tbody tr th:only-of-type {\n",
              "        vertical-align: middle;\n",
              "    }\n",
              "\n",
              "    .dataframe tbody tr th {\n",
              "        vertical-align: top;\n",
              "    }\n",
              "\n",
              "    .dataframe thead th {\n",
              "        text-align: right;\n",
              "    }\n",
              "</style>\n",
              "<table border=\"1\" class=\"dataframe\">\n",
              "  <thead>\n",
              "    <tr style=\"text-align: right;\">\n",
              "      <th></th>\n",
              "      <th>Aloo Gobi</th>\n",
              "      <th>Aloo Paratha</th>\n",
              "      <th>Apple</th>\n",
              "      <th>Apple Cider</th>\n",
              "      <th>Apple Crisp</th>\n",
              "      <th>Apple Pie</th>\n",
              "      <th>Avocado Toast</th>\n",
              "      <th>BBQ Ribs</th>\n",
              "      <th>Bacon-Wrapped Shrimp</th>\n",
              "      <th>Baked Apple</th>\n",
              "      <th>...</th>\n",
              "      <th>Soybeans</th>\n",
              "      <th>Soybeans, Fish</th>\n",
              "      <th>Wheat</th>\n",
              "      <th>Wheat, Dairy</th>\n",
              "      <th>Wheat, Dairy, Alcohol</th>\n",
              "      <th>Wheat, Dairy, Cocoa</th>\n",
              "      <th>Wheat, Dairy, Eggs</th>\n",
              "      <th>Wheat, Dairy, Nuts</th>\n",
              "      <th>Wheat, Pork, Dairy</th>\n",
              "      <th>Prediction</th>\n",
              "    </tr>\n",
              "  </thead>\n",
              "  <tbody>\n",
              "    <tr>\n",
              "      <th>0</th>\n",
              "      <td>0</td>\n",
              "      <td>0</td>\n",
              "      <td>0</td>\n",
              "      <td>0</td>\n",
              "      <td>0</td>\n",
              "      <td>0</td>\n",
              "      <td>0</td>\n",
              "      <td>0</td>\n",
              "      <td>0</td>\n",
              "      <td>0</td>\n",
              "      <td>...</td>\n",
              "      <td>0</td>\n",
              "      <td>0</td>\n",
              "      <td>0</td>\n",
              "      <td>0</td>\n",
              "      <td>0</td>\n",
              "      <td>0</td>\n",
              "      <td>0</td>\n",
              "      <td>0</td>\n",
              "      <td>0</td>\n",
              "      <td>1</td>\n",
              "    </tr>\n",
              "    <tr>\n",
              "      <th>1</th>\n",
              "      <td>0</td>\n",
              "      <td>0</td>\n",
              "      <td>0</td>\n",
              "      <td>0</td>\n",
              "      <td>0</td>\n",
              "      <td>0</td>\n",
              "      <td>0</td>\n",
              "      <td>0</td>\n",
              "      <td>0</td>\n",
              "      <td>0</td>\n",
              "      <td>...</td>\n",
              "      <td>0</td>\n",
              "      <td>0</td>\n",
              "      <td>0</td>\n",
              "      <td>0</td>\n",
              "      <td>0</td>\n",
              "      <td>0</td>\n",
              "      <td>0</td>\n",
              "      <td>0</td>\n",
              "      <td>0</td>\n",
              "      <td>1</td>\n",
              "    </tr>\n",
              "    <tr>\n",
              "      <th>2</th>\n",
              "      <td>0</td>\n",
              "      <td>0</td>\n",
              "      <td>0</td>\n",
              "      <td>0</td>\n",
              "      <td>0</td>\n",
              "      <td>0</td>\n",
              "      <td>0</td>\n",
              "      <td>0</td>\n",
              "      <td>0</td>\n",
              "      <td>0</td>\n",
              "      <td>...</td>\n",
              "      <td>0</td>\n",
              "      <td>0</td>\n",
              "      <td>0</td>\n",
              "      <td>0</td>\n",
              "      <td>0</td>\n",
              "      <td>0</td>\n",
              "      <td>0</td>\n",
              "      <td>0</td>\n",
              "      <td>0</td>\n",
              "      <td>1</td>\n",
              "    </tr>\n",
              "    <tr>\n",
              "      <th>3</th>\n",
              "      <td>0</td>\n",
              "      <td>0</td>\n",
              "      <td>0</td>\n",
              "      <td>0</td>\n",
              "      <td>0</td>\n",
              "      <td>0</td>\n",
              "      <td>0</td>\n",
              "      <td>0</td>\n",
              "      <td>0</td>\n",
              "      <td>0</td>\n",
              "      <td>...</td>\n",
              "      <td>0</td>\n",
              "      <td>0</td>\n",
              "      <td>0</td>\n",
              "      <td>0</td>\n",
              "      <td>0</td>\n",
              "      <td>0</td>\n",
              "      <td>0</td>\n",
              "      <td>0</td>\n",
              "      <td>0</td>\n",
              "      <td>1</td>\n",
              "    </tr>\n",
              "    <tr>\n",
              "      <th>4</th>\n",
              "      <td>0</td>\n",
              "      <td>0</td>\n",
              "      <td>0</td>\n",
              "      <td>0</td>\n",
              "      <td>0</td>\n",
              "      <td>0</td>\n",
              "      <td>0</td>\n",
              "      <td>0</td>\n",
              "      <td>0</td>\n",
              "      <td>0</td>\n",
              "      <td>...</td>\n",
              "      <td>0</td>\n",
              "      <td>0</td>\n",
              "      <td>0</td>\n",
              "      <td>0</td>\n",
              "      <td>0</td>\n",
              "      <td>0</td>\n",
              "      <td>0</td>\n",
              "      <td>0</td>\n",
              "      <td>0</td>\n",
              "      <td>1</td>\n",
              "    </tr>\n",
              "  </tbody>\n",
              "</table>\n",
              "<p>5 rows × 627 columns</p>\n",
              "</div>\n",
              "      <button class=\"colab-df-convert\" onclick=\"convertToInteractive('df-fb5df5b4-ee0f-4c0d-909b-44a7b9185de0')\"\n",
              "              title=\"Convert this dataframe to an interactive table.\"\n",
              "              style=\"display:none;\">\n",
              "        \n",
              "  <svg xmlns=\"http://www.w3.org/2000/svg\" height=\"24px\"viewBox=\"0 0 24 24\"\n",
              "       width=\"24px\">\n",
              "    <path d=\"M0 0h24v24H0V0z\" fill=\"none\"/>\n",
              "    <path d=\"M18.56 5.44l.94 2.06.94-2.06 2.06-.94-2.06-.94-.94-2.06-.94 2.06-2.06.94zm-11 1L8.5 8.5l.94-2.06 2.06-.94-2.06-.94L8.5 2.5l-.94 2.06-2.06.94zm10 10l.94 2.06.94-2.06 2.06-.94-2.06-.94-.94-2.06-.94 2.06-2.06.94z\"/><path d=\"M17.41 7.96l-1.37-1.37c-.4-.4-.92-.59-1.43-.59-.52 0-1.04.2-1.43.59L10.3 9.45l-7.72 7.72c-.78.78-.78 2.05 0 2.83L4 21.41c.39.39.9.59 1.41.59.51 0 1.02-.2 1.41-.59l7.78-7.78 2.81-2.81c.8-.78.8-2.07 0-2.86zM5.41 20L4 18.59l7.72-7.72 1.47 1.35L5.41 20z\"/>\n",
              "  </svg>\n",
              "      </button>\n",
              "      \n",
              "  <style>\n",
              "    .colab-df-container {\n",
              "      display:flex;\n",
              "      flex-wrap:wrap;\n",
              "      gap: 12px;\n",
              "    }\n",
              "\n",
              "    .colab-df-convert {\n",
              "      background-color: #E8F0FE;\n",
              "      border: none;\n",
              "      border-radius: 50%;\n",
              "      cursor: pointer;\n",
              "      display: none;\n",
              "      fill: #1967D2;\n",
              "      height: 32px;\n",
              "      padding: 0 0 0 0;\n",
              "      width: 32px;\n",
              "    }\n",
              "\n",
              "    .colab-df-convert:hover {\n",
              "      background-color: #E2EBFA;\n",
              "      box-shadow: 0px 1px 2px rgba(60, 64, 67, 0.3), 0px 1px 3px 1px rgba(60, 64, 67, 0.15);\n",
              "      fill: #174EA6;\n",
              "    }\n",
              "\n",
              "    [theme=dark] .colab-df-convert {\n",
              "      background-color: #3B4455;\n",
              "      fill: #D2E3FC;\n",
              "    }\n",
              "\n",
              "    [theme=dark] .colab-df-convert:hover {\n",
              "      background-color: #434B5C;\n",
              "      box-shadow: 0px 1px 3px 1px rgba(0, 0, 0, 0.15);\n",
              "      filter: drop-shadow(0px 1px 2px rgba(0, 0, 0, 0.3));\n",
              "      fill: #FFFFFF;\n",
              "    }\n",
              "  </style>\n",
              "\n",
              "      <script>\n",
              "        const buttonEl =\n",
              "          document.querySelector('#df-fb5df5b4-ee0f-4c0d-909b-44a7b9185de0 button.colab-df-convert');\n",
              "        buttonEl.style.display =\n",
              "          google.colab.kernel.accessAllowed ? 'block' : 'none';\n",
              "\n",
              "        async function convertToInteractive(key) {\n",
              "          const element = document.querySelector('#df-fb5df5b4-ee0f-4c0d-909b-44a7b9185de0');\n",
              "          const dataTable =\n",
              "            await google.colab.kernel.invokeFunction('convertToInteractive',\n",
              "                                                     [key], {});\n",
              "          if (!dataTable) return;\n",
              "\n",
              "          const docLinkHtml = 'Like what you see? Visit the ' +\n",
              "            '<a target=\"_blank\" href=https://colab.research.google.com/notebooks/data_table.ipynb>data table notebook</a>'\n",
              "            + ' to learn more about interactive tables.';\n",
              "          element.innerHTML = '';\n",
              "          dataTable['output_type'] = 'display_data';\n",
              "          await google.colab.output.renderOutput(dataTable, element);\n",
              "          const docLink = document.createElement('div');\n",
              "          docLink.innerHTML = docLinkHtml;\n",
              "          element.appendChild(docLink);\n",
              "        }\n",
              "      </script>\n",
              "    </div>\n",
              "  </div>\n",
              "  "
            ]
          },
          "metadata": {},
          "execution_count": 3028
        }
      ],
      "source": [
        "df = pd.concat([food,ingr,sweet,fat,seas,aller,df],axis=1)\n",
        "df.head()"
      ]
    },
    {
      "cell_type": "markdown",
      "metadata": {
        "papermill": {
          "duration": 0.035234,
          "end_time": "2023-05-28T14:56:55.958286",
          "exception": false,
          "start_time": "2023-05-28T14:56:55.923052",
          "status": "completed"
        },
        "tags": [],
        "id": "683429d6"
      },
      "source": [
        "### **Training the Model**\n",
        "\n",
        "After preprocessing the dataset, the model was trained using a Random Forest Classifier. This classifier was saved as `rfc`."
      ]
    },
    {
      "cell_type": "code",
      "execution_count": null,
      "metadata": {
        "execution": {
          "iopub.execute_input": "2023-05-28T14:56:56.032123Z",
          "iopub.status.busy": "2023-05-28T14:56:56.031694Z",
          "iopub.status.idle": "2023-05-28T14:56:56.854537Z",
          "shell.execute_reply": "2023-05-28T14:56:56.852993Z"
        },
        "papermill": {
          "duration": 0.864352,
          "end_time": "2023-05-28T14:56:56.857509",
          "exception": false,
          "start_time": "2023-05-28T14:56:55.993157",
          "status": "completed"
        },
        "tags": [],
        "id": "42a56eee"
      },
      "outputs": [],
      "source": [
        "from sklearn.ensemble import RandomForestClassifier\n",
        "\n",
        "rfc=RandomForestClassifier(n_estimators = 200, random_state=10)"
      ]
    },
    {
      "cell_type": "markdown",
      "source": [
        "They assigned the variable `X` to the `aug_food` dataframe with the `Prediction` column dropped, representing the input features. Similarly, the variable `y` is assigned to the `Prediction` column, representing the target variable.\n",
        "The data was split into training and testing subsets via the `train_test_split` function. The split was performed such that 70% of the data is assigned to the training set, while 30% is assigned to the testing set. Subsequently, the X train and Y train subsets were fitted using the Random Forest Classifier."
      ],
      "metadata": {
        "id": "jOJ0wAh3UuMi"
      }
    },
    {
      "cell_type": "code",
      "execution_count": null,
      "metadata": {
        "execution": {
          "iopub.execute_input": "2023-05-28T14:56:56.999508Z",
          "iopub.status.busy": "2023-05-28T14:56:56.999112Z",
          "iopub.status.idle": "2023-05-28T14:56:57.009738Z",
          "shell.execute_reply": "2023-05-28T14:56:57.008015Z"
        },
        "papermill": {
          "duration": 0.047021,
          "end_time": "2023-05-28T14:56:57.012603",
          "exception": false,
          "start_time": "2023-05-28T14:56:56.965582",
          "status": "completed"
        },
        "tags": [],
        "id": "450c11ea",
        "colab": {
          "base_uri": "https://localhost:8080/",
          "height": 74
        },
        "outputId": "d346d076-fa48-4718-c79c-65726828808a"
      },
      "outputs": [
        {
          "output_type": "execute_result",
          "data": {
            "text/plain": [
              "RandomForestClassifier(n_estimators=200, random_state=10)"
            ],
            "text/html": [
              "<style>#sk-container-id-168 {color: black;background-color: white;}#sk-container-id-168 pre{padding: 0;}#sk-container-id-168 div.sk-toggleable {background-color: white;}#sk-container-id-168 label.sk-toggleable__label {cursor: pointer;display: block;width: 100%;margin-bottom: 0;padding: 0.3em;box-sizing: border-box;text-align: center;}#sk-container-id-168 label.sk-toggleable__label-arrow:before {content: \"▸\";float: left;margin-right: 0.25em;color: #696969;}#sk-container-id-168 label.sk-toggleable__label-arrow:hover:before {color: black;}#sk-container-id-168 div.sk-estimator:hover label.sk-toggleable__label-arrow:before {color: black;}#sk-container-id-168 div.sk-toggleable__content {max-height: 0;max-width: 0;overflow: hidden;text-align: left;background-color: #f0f8ff;}#sk-container-id-168 div.sk-toggleable__content pre {margin: 0.2em;color: black;border-radius: 0.25em;background-color: #f0f8ff;}#sk-container-id-168 input.sk-toggleable__control:checked~div.sk-toggleable__content {max-height: 200px;max-width: 100%;overflow: auto;}#sk-container-id-168 input.sk-toggleable__control:checked~label.sk-toggleable__label-arrow:before {content: \"▾\";}#sk-container-id-168 div.sk-estimator input.sk-toggleable__control:checked~label.sk-toggleable__label {background-color: #d4ebff;}#sk-container-id-168 div.sk-label input.sk-toggleable__control:checked~label.sk-toggleable__label {background-color: #d4ebff;}#sk-container-id-168 input.sk-hidden--visually {border: 0;clip: rect(1px 1px 1px 1px);clip: rect(1px, 1px, 1px, 1px);height: 1px;margin: -1px;overflow: hidden;padding: 0;position: absolute;width: 1px;}#sk-container-id-168 div.sk-estimator {font-family: monospace;background-color: #f0f8ff;border: 1px dotted black;border-radius: 0.25em;box-sizing: border-box;margin-bottom: 0.5em;}#sk-container-id-168 div.sk-estimator:hover {background-color: #d4ebff;}#sk-container-id-168 div.sk-parallel-item::after {content: \"\";width: 100%;border-bottom: 1px solid gray;flex-grow: 1;}#sk-container-id-168 div.sk-label:hover label.sk-toggleable__label {background-color: #d4ebff;}#sk-container-id-168 div.sk-serial::before {content: \"\";position: absolute;border-left: 1px solid gray;box-sizing: border-box;top: 0;bottom: 0;left: 50%;z-index: 0;}#sk-container-id-168 div.sk-serial {display: flex;flex-direction: column;align-items: center;background-color: white;padding-right: 0.2em;padding-left: 0.2em;position: relative;}#sk-container-id-168 div.sk-item {position: relative;z-index: 1;}#sk-container-id-168 div.sk-parallel {display: flex;align-items: stretch;justify-content: center;background-color: white;position: relative;}#sk-container-id-168 div.sk-item::before, #sk-container-id-168 div.sk-parallel-item::before {content: \"\";position: absolute;border-left: 1px solid gray;box-sizing: border-box;top: 0;bottom: 0;left: 50%;z-index: -1;}#sk-container-id-168 div.sk-parallel-item {display: flex;flex-direction: column;z-index: 1;position: relative;background-color: white;}#sk-container-id-168 div.sk-parallel-item:first-child::after {align-self: flex-end;width: 50%;}#sk-container-id-168 div.sk-parallel-item:last-child::after {align-self: flex-start;width: 50%;}#sk-container-id-168 div.sk-parallel-item:only-child::after {width: 0;}#sk-container-id-168 div.sk-dashed-wrapped {border: 1px dashed gray;margin: 0 0.4em 0.5em 0.4em;box-sizing: border-box;padding-bottom: 0.4em;background-color: white;}#sk-container-id-168 div.sk-label label {font-family: monospace;font-weight: bold;display: inline-block;line-height: 1.2em;}#sk-container-id-168 div.sk-label-container {text-align: center;}#sk-container-id-168 div.sk-container {/* jupyter's `normalize.less` sets `[hidden] { display: none; }` but bootstrap.min.css set `[hidden] { display: none !important; }` so we also need the `!important` here to be able to override the default hidden behavior on the sphinx rendered scikit-learn.org. See: https://github.com/scikit-learn/scikit-learn/issues/21755 */display: inline-block !important;position: relative;}#sk-container-id-168 div.sk-text-repr-fallback {display: none;}</style><div id=\"sk-container-id-168\" class=\"sk-top-container\"><div class=\"sk-text-repr-fallback\"><pre>RandomForestClassifier(n_estimators=200, random_state=10)</pre><b>In a Jupyter environment, please rerun this cell to show the HTML representation or trust the notebook. <br />On GitHub, the HTML representation is unable to render, please try loading this page with nbviewer.org.</b></div><div class=\"sk-container\" hidden><div class=\"sk-item\"><div class=\"sk-estimator sk-toggleable\"><input class=\"sk-toggleable__control sk-hidden--visually\" id=\"sk-estimator-id-168\" type=\"checkbox\" checked><label for=\"sk-estimator-id-168\" class=\"sk-toggleable__label sk-toggleable__label-arrow\">RandomForestClassifier</label><div class=\"sk-toggleable__content\"><pre>RandomForestClassifier(n_estimators=200, random_state=10)</pre></div></div></div></div></div>"
            ]
          },
          "metadata": {},
          "execution_count": 3030
        }
      ],
      "source": [
        "from sklearn.model_selection import train_test_split\n",
        "\n",
        "# assigning the input features and prediction values\n",
        "X2 = df.drop('Prediction', axis = 1)\n",
        "y2 = df['Prediction']\n",
        "\n",
        "# splitting the data\n",
        "X2_train,X2_test,y2_train,y2_test = train_test_split(X2,y2, test_size=0.3)\n",
        "\n",
        "# fitting the train subsets\n",
        "rfc.fit(X2_train,y2_train)"
      ]
    },
    {
      "cell_type": "markdown",
      "source": [
        "## **Performance Comparison**"
      ],
      "metadata": {
        "id": "cKI94e7dQMEL"
      }
    },
    {
      "cell_type": "markdown",
      "source": [
        "### **Accuracy Score**\n",
        "We compare the accuracy of the two models below using the method `.score()`. This utilizes `X_test` to create predictions in the background and uses those predictions to determine the testing accuracy score. Take note that these values change with the random state of the classifier. To solve the changing values, we perform cross validation next."
      ],
      "metadata": {
        "id": "BB-xmHKTdNku"
      }
    },
    {
      "cell_type": "code",
      "execution_count": null,
      "metadata": {
        "colab": {
          "base_uri": "https://localhost:8080/"
        },
        "id": "gG_bIStqRKX6",
        "outputId": "5a3dd934-fa9e-4fd4-fb36-3aad9a831b18"
      },
      "outputs": [
        {
          "output_type": "stream",
          "name": "stdout",
          "text": [
            "Accuracy score of our model: 0.9916666666666667\n",
            "Accuracy score of Medley's model: 0.975\n"
          ]
        }
      ],
      "source": [
        "classifier_score = classifier.score(X_test, y_test)\n",
        "rfc_score = rfc.score(X2_test, y2_test)\n",
        "\n",
        "print(\"Accuracy score of our model:\", classifier_score)\n",
        "print(\"Accuracy score of Medley's model:\", rfc_score)"
      ]
    },
    {
      "cell_type": "markdown",
      "source": [
        "### **Cross-Validation**\n",
        "To further validate the results, we perform cross-validation in order to assess our model's performance across multiple train-test splits, providing a more comprehensive understanding of its generalization capabilities.\n",
        "\n",
        "We can do this by using Sklearn's `cross_val_score` with 30 random states to get the cross-validation score of the model. We then print out the generated values' mean and standard deviation to get an overview of the accuracy of the model.\n",
        "\n",
        "From the results below, we got a high mean score, indicating that the model consistently performs well across different iterations. Moreover, the low standard deviation result gives us an overview of the stability of the model across all iterations and how it has less variability across different folds."
      ],
      "metadata": {
        "id": "0vE2vpAiVbJo"
      }
    },
    {
      "cell_type": "code",
      "source": [
        "from sklearn.model_selection import cross_val_score\n",
        "\n",
        "# Perform cross-validation\n",
        "scores = cross_val_score(classifier, X_train, y_train, cv=30)\n",
        "scores2 = cross_val_score(rfc, X2_train, y2_train, cv=30)\n",
        "\n",
        "# Print the cross-validation scores of our model\n",
        "print(\"Our Model:\\n\")\n",
        "print(\"Cross-Validation Scores:\", scores)\n",
        "print(\"Mean Score:\", scores.mean())\n",
        "print(\"Standard Deviation:\", scores.std())\n",
        "print(\"\\n\")\n",
        "\n",
        "# Print the cross-validation scores of Medley's model\n",
        "print(\"Medley's Model:\\n\")\n",
        "print(\"Cross-Validation Scores:\", scores2)\n",
        "print(\"Mean Score:\", scores2.mean())\n",
        "print(\"Standard Deviation:\", scores2.std())"
      ],
      "metadata": {
        "colab": {
          "base_uri": "https://localhost:8080/"
        },
        "id": "Mi3EGw6cVauO",
        "outputId": "db4b6d0c-2e2c-469d-9e23-38a85b6c7990"
      },
      "execution_count": null,
      "outputs": [
        {
          "output_type": "stream",
          "name": "stdout",
          "text": [
            "Our Model:\n",
            "\n",
            "Cross-Validation Scores: [0.9        1.         1.         0.9        1.         1.\n",
            " 1.         0.9        1.         1.         1.         1.\n",
            " 0.88888889 1.         1.         1.         1.         1.\n",
            " 1.         1.         1.         1.         1.         1.\n",
            " 1.         1.         1.         1.         1.         1.        ]\n",
            "Mean Score: 0.9862962962962963\n",
            "Standard Deviation: 0.03498186871146185\n",
            "\n",
            "\n",
            "Medley's Model:\n",
            "\n",
            "Cross-Validation Scores: [1.         1.         1.         1.         0.9        1.\n",
            " 1.         1.         1.         1.         1.         1.\n",
            " 1.         1.         1.         1.         0.77777778 1.\n",
            " 0.88888889 1.         0.88888889 0.88888889 1.         1.\n",
            " 1.         1.         1.         1.         1.         0.88888889]\n",
            "Mean Score: 0.9744444444444444\n",
            "Standard Deviation: 0.05451997783876197\n"
          ]
        }
      ]
    },
    {
      "cell_type": "markdown",
      "source": [
        "Looking at the results of the cross-validation above, we can see that the mean accuracy scores of these two models are very similar to each other. However, we can also witness the difference between their mean score and the standard deviation. Using 10 random states, our model got a very similar yet slightly higher mean score compared to Medley's. This is the same when we compare the standard deviation of these models. Medley's model, however, got a higher value. Hence, the accuracy scores that it produces are more spread out with regards to the mean."
      ],
      "metadata": {
        "id": "fUsB5ubvwOTS"
      }
    },
    {
      "cell_type": "markdown",
      "source": [
        "### **Confusion Matrix**\n",
        "The prediction summary is shown as a confusion matrix using sklearn's `confusion_matrix`. It displays the number of accurate and wrong predictions made for each class.\n",
        "\n",
        "<table>\n",
        "  <tr>\n",
        "    <th>Values<th/>\n",
        "    <th>Description<th/>\n",
        "  <tr/>\n",
        "\n",
        "  <tr>\n",
        "    <td>True Positives (TP)<td/>\n",
        "    <td>The number of instances that were correctly predicted as positive (class 1) by the model. In binary classification, this represents the cases where the model correctly identifies the positive class.<td/>\n",
        "  <tr/>\n",
        "  <tr>\n",
        "    <td>True Negatives (TN)<td/>\n",
        "    <td>The number of instances that were correctly predicted as negative (class 0) by the model. In binary classification, this represents the cases where the model correctly identifies the negative class.<td/>\n",
        "  <tr/>\n",
        "  <tr>\n",
        "    <td>False Positives (FP)<td/>\n",
        "    <td>The number of instances that were incorrectly predicted as positive by the model, while the actual class is negative. In binary classification, this represents the cases where the model falsely identifies the positive class (Type I error).<td/>\n",
        "  <tr/>\n",
        "  <tr>\n",
        "    <td>False Negatives (FN)<td/>\n",
        "    <td>The number of instances that were incorrectly predicted as negative by the model, while the actual class is positive. In binary classification, this represents the cases where the model misses or fails to identify the positive class (Type II error).<td/>\n",
        "  <tr/>\n",
        "<table/>"
      ],
      "metadata": {
        "id": "frYX6l4ofyQ7"
      }
    },
    {
      "cell_type": "code",
      "execution_count": null,
      "metadata": {
        "colab": {
          "base_uri": "https://localhost:8080/"
        },
        "id": "S54N94o5WIBO",
        "outputId": "8c1ecbfe-fb8c-4757-c2fa-e8bb8ebdb322"
      },
      "outputs": [
        {
          "output_type": "stream",
          "name": "stdout",
          "text": [
            "Our Model's Confusion Matrix: \n",
            " [[31  0]\n",
            " [ 1 88]]\n",
            "\n",
            "\n",
            "Medley's Model's Confusion Matrix: \n",
            " [[45  2]\n",
            " [ 1 72]]\n"
          ]
        }
      ],
      "source": [
        "from sklearn.metrics import classification_report, confusion_matrix\n",
        "\n",
        "# getting the confusion matrix of our model\n",
        "pred = classifier.predict(X_test)\n",
        "print(\"Our Model's Confusion Matrix: \\n\", confusion_matrix(y_test,pred))\n",
        "print('\\n')\n",
        "\n",
        "# getting the confusion matrix of Medley's\n",
        "pred2 = rfc.predict(X2_test)\n",
        "print(\"Medley's Model's Confusion Matrix: \\n\", confusion_matrix(y2_test,pred2))"
      ]
    },
    {
      "cell_type": "markdown",
      "source": [
        "Overall, both models performed well, achieving a high number of true positive and true negative predictions. However, our model had zero false positives, indicating that it made no incorrect predictions for class 1, while Medley's model had two false positives. This suggests that our model had a slightly higher precision in predicting class 1. On the other hand, both Medley's model and our model had one false negative. In conclusion, our model has slightly better general precision."
      ],
      "metadata": {
        "id": "WjZfSfmDPSiB"
      }
    },
    {
      "cell_type": "markdown",
      "source": [
        "### **Classification Report**\n",
        "\n",
        "\n",
        "A classification report provides a comprehensive evaluation of the performance of a classification model, specifically in the context of Random Forests. It summarizes various metrics that assess the model's ability to classify instances accurately across different classes or categories.\n",
        "\n",
        "The classification report typically includes the following key metrics for each class:\n",
        "<table>\n",
        "  <tr>\n",
        "    <th>Metrics<th/>\n",
        "    <th>Description<th/>\n",
        "  <tr/>\n",
        "\n",
        "  <tr>\n",
        "    <td>Precision<td/>\n",
        "    <td>Precision measures the proportion of correctly predicted positive instances out of all instances predicted as positive. It indicates the model's ability to avoid false positives, i.e., instances incorrectly classified as positive.<td/>\n",
        "  <tr/>\n",
        "  <tr>\n",
        "    <td>Recall (Sensitivity or True Positive Rate)<td/>\n",
        "    <td>Recall calculates the proportion of correctly predicted positive instances out of all actual positive instances. It measures the model's ability to capture true positives, thus avoiding false negatives, i.e., instances incorrectly classified as negative.<td/>\n",
        "  <tr/>\n",
        "  <tr>\n",
        "    <td>F1-score<td/>\n",
        "    <td>The F1-score is the harmonic mean of precision and recall. It provides a single metric that balances both precision and recall, providing a more comprehensive assessment of the model's overall performance.<td/>\n",
        "  <tr/>\n",
        "  <tr>\n",
        "    <td>Support<td/>\n",
        "    <td>Support represents the number of instances belonging to each class in the test dataset. It gives an indication of the distribution of instances across different classes.<td/>\n",
        "  <tr/>\n",
        "<table/>"
      ],
      "metadata": {
        "id": "eX_duNrp3DYn"
      }
    },
    {
      "cell_type": "code",
      "execution_count": null,
      "metadata": {
        "colab": {
          "base_uri": "https://localhost:8080/"
        },
        "id": "_NGDh71GYSPG",
        "outputId": "f78a183e-068f-4a71-a6a5-8f8c49353eab"
      },
      "outputs": [
        {
          "output_type": "stream",
          "name": "stdout",
          "text": [
            "Our Model:\n",
            "Classification Report: \n",
            "               precision    recall  f1-score   support\n",
            "\n",
            "           0       0.97      1.00      0.98        31\n",
            "           1       1.00      0.99      0.99        89\n",
            "\n",
            "    accuracy                           0.99       120\n",
            "   macro avg       0.98      0.99      0.99       120\n",
            "weighted avg       0.99      0.99      0.99       120\n",
            "\n",
            "Medley's Model:\n",
            "Classification Report: \n",
            "               precision    recall  f1-score   support\n",
            "\n",
            "           0       0.98      0.96      0.97        47\n",
            "           1       0.97      0.99      0.98        73\n",
            "\n",
            "    accuracy                           0.97       120\n",
            "   macro avg       0.98      0.97      0.97       120\n",
            "weighted avg       0.98      0.97      0.97       120\n",
            "\n"
          ]
        }
      ],
      "source": [
        "print(\"Our Model:\")\n",
        "print('Classification Report: \\n', classification_report(y_test,pred))\n",
        "\n",
        "print(\"Medley's Model:\")\n",
        "print('Classification Report: \\n', classification_report(y2_test,pred2))"
      ]
    },
    {
      "cell_type": "markdown",
      "source": [
        "**Our Model's classification report showcases strong performance metrics for both classes:**\n",
        "\n",
        "**For class 0:**\n",
        "\n",
        "1.   **Precision:** 97% of instances predicted as class 0 were correct.\n",
        "2.   **Recall:** The model captured all (100%) instances belonging to class 0.\n",
        "3.   **F1-score:** 0.98, demonstrating a balanced performance between precision and recall.\n",
        "\n",
        "\n",
        "**For class 1:**\n",
        "\n",
        "\n",
        "1. **Precision:** 100% of instances predicted as class 1 were correct.\n",
        "2. **Recall:** The model accurately identified 99% of instances belonging to class 1.\n",
        "3. **F1-score:** 0.99, reflecting a high level of precision and recall balance.\n",
        "\n",
        "\n",
        "The overall accuracy of our Model is 0.99, indicating that it correctly classified 99% of instances in the test dataset.\n",
        "\n",
        "\n",
        "**Medley's Model exhibited slightly lower performance metrics:**\n",
        "\n",
        "**For class 0:**\n",
        "\n",
        "1. **Precision:** 98% of instances predicted as class 0 were correct.\n",
        "2. **Recall:** The model captured 96% of instances belonging to class 0.\n",
        "3. **F1-score:** 0.97, reflecting a balanced performance between precision and recall.\n",
        "\n",
        "**For class 1:**\n",
        "\n",
        "1. **Precision:** 97% of instances predicted as class 1 were correct.\n",
        "2. **Recall:** The model accurately identified 99% of instances belonging to class 1.\n",
        "3. **F1-score:** 0.98, demonstrating a high level of precision and recall balance.\n",
        "\n",
        "The overall accuracy of Medley's model is 0.97, indicating that it correctly classified 97% of instances in the test dataset.\n",
        "\n",
        "In summary, our Model achieved higher overall accuracy (`0.99`) and **slightly better performance metrics** (`precision`, `recall`, and `F1-score`) compared to Medley's Model. Our Model demonstrated superior accuracy and precision in predicting class 0, while both models had comparable performance in predicting class 1."
      ],
      "metadata": {
        "id": "EtpcTYHFHQnW"
      }
    },
    {
      "cell_type": "markdown",
      "source": [
        "### **Training and Testing Set Scores**"
      ],
      "metadata": {
        "id": "LUXTaoyI3JKT"
      }
    },
    {
      "cell_type": "markdown",
      "source": [
        "We also compare the accuracy scores of the two models using the training set, and the testing set. This can be done using sklearn's `accuracy_score()`."
      ],
      "metadata": {
        "id": "ArapSOq1eXv2"
      }
    },
    {
      "cell_type": "code",
      "execution_count": null,
      "metadata": {
        "colab": {
          "base_uri": "https://localhost:8080/"
        },
        "id": "oGFuTWQQZUG5",
        "outputId": "f8c8955e-918e-475b-819d-42deb06c7e2a"
      },
      "outputs": [
        {
          "output_type": "stream",
          "name": "stdout",
          "text": [
            "Our Model\n",
            "Training Accuracy: 1.0\n",
            "Testing Accuracy: 0.9916666666666667\n",
            "\n",
            "\n",
            "Medley's Model\n",
            "Training Accuracy: 1.0\n",
            "Testing Accuracy: 0.975\n"
          ]
        }
      ],
      "source": [
        "from sklearn.metrics import accuracy_score\n",
        "\n",
        "print(\"Our Model\")\n",
        "# evaluating our model's performance on the training set\n",
        "train_predictions = classifier.predict(X_train)\n",
        "train_accuracy = accuracy_score(y_train, train_predictions)\n",
        "print(\"Training Accuracy:\", train_accuracy)\n",
        "\n",
        "# evaluating our model's performance on the validation set\n",
        "test_predictions = classifier.predict(X_test)\n",
        "test_accuracy = accuracy_score(y_test, test_predictions)\n",
        "print(\"Testing Accuracy:\", test_accuracy)\n",
        "print(\"\\n\")\n",
        "\n",
        "print(\"Medley's Model\")\n",
        "# evaluating Medley's model's performance on the training set\n",
        "train_predictions2 = rfc.predict(X2_train)\n",
        "train_accuracy2 = accuracy_score(y2_train, train_predictions2)\n",
        "print(\"Training Accuracy:\", train_accuracy2)\n",
        "\n",
        "# evaluating Medley's model's performance on the validation set\n",
        "test_predictions2 = rfc.predict(X2_test)\n",
        "test_accuracy2 = accuracy_score(y2_test, test_predictions2)\n",
        "print(\"Testing Accuracy:\", test_accuracy2)"
      ]
    },
    {
      "cell_type": "markdown",
      "source": [
        "**Our model** achieved a `training accuracy` of `1.0`, indicating that it perfectly predicted the labels of the training dataset.\n",
        "\n",
        "When tested on unseen data, our model demonstrated an impressive `testing accuracy` of `0.9917` (or **99.17%**). This indicates that our model generalized well to the test dataset and was able to accurately classify instances it had not encountered during training. With such high testing accuracy, our Model showcases strong predictive capabilities and can be considered reliable in making accurate predictions for new and unseen instances.\n",
        "\n",
        "On the other hand, **Medley's Model** achieved a `training accuracy` of `1.0`, similar to our Model. This suggests that Medley's Model also learned the patterns and features present in the training data and accurately predicted the labels during training.\n",
        "\n",
        "However, when evaluated on the test dataset, Medley's Model achieved a `testing accuracy` of `0.975` (or **97.5%**). While still a high accuracy rate, it is slightly lower than our model's testing accuracy. This indicates that Medley's model might have experienced a slight decrease in performance when exposed to new and unseen instances compared to our model."
      ],
      "metadata": {
        "id": "2O3QkX-RSrB1"
      }
    },
    {
      "cell_type": "markdown",
      "source": [
        "### **ROC (Receiver Operating Characteristic) Curve**\n",
        "\n",
        "We also plot the **ROC (Receiver Operating Characteristic)** curve, which is created by plotting the true positive rate against the false positive rate at different classification thresholds. Due to this, we are able to assess the classifier's performance in accurately identifying food products that contain allergens and those that do not contain allergens. Here we use the same Random Forest classifier to generate predicted probabilities (`.predict_proba`) for the testing data `y_pred`."
      ],
      "metadata": {
        "id": "zLiq6MjzZA7d"
      }
    },
    {
      "cell_type": "code",
      "source": [
        "from sklearn.metrics import roc_curve, auc\n",
        "\n",
        "# generating predictions for the testing data using our model\n",
        "y_pred = classifier.predict_proba(X_test)[:, 1]  # assuming binary classification\n",
        "# generating predictions for the testing data using Medley's model\n",
        "y2_pred = rfc.predict_proba(X2_test)[:, 1]  # assuming binary classification\n",
        "\n",
        "\n",
        "# computing the false positive rate (FPR), true positive rate (TPR), and thresholds of our model\n",
        "fpr, tpr, thresholds = roc_curve(y_test, y_pred)\n",
        "# computing the false positive rate (FPR), true positive rate (TPR), and thresholds of Medley's model\n",
        "fpr2, tpr2, thresholds2 = roc_curve(y2_test, y2_pred)\n",
        "\n",
        "\n",
        "# calculating the area under the ROC curve (AUC) (our model)\n",
        "roc_auc = auc(fpr, tpr)\n",
        "# calculating the area under the ROC curve (AUC) (Medley's model)\n",
        "roc_auc2 = auc(fpr2, tpr2)\n",
        "\n",
        "# plotting the ROC curve\n",
        "plt.figure()\n",
        "plt.plot(fpr2, tpr2, color='yellow', marker='.', label='(Medley Model) ROC curve (AUC = %0.3f)' % roc_auc2)\n",
        "plt.plot(fpr, tpr, color='darkorange', marker='.', label='(Our Model) ROC curve (AUC = %0.3f)' % roc_auc)\n",
        "plt.plot([0, 1], [0, 1], color='navy', linestyle='--')\n",
        "plt.xlim([0.0, 1.0])\n",
        "plt.ylim([0.0, 1.05])\n",
        "plt.xlabel('False Positive Rate')\n",
        "plt.ylabel('True Positive Rate')\n",
        "plt.title('Receiver Operating Characteristic')\n",
        "plt.legend(loc=\"lower right\")\n",
        "plt.show()"
      ],
      "metadata": {
        "colab": {
          "base_uri": "https://localhost:8080/",
          "height": 472
        },
        "id": "hJ1--F5rZE2L",
        "outputId": "915137d4-32f8-40f5-abff-17e2a6898054"
      },
      "execution_count": null,
      "outputs": [
        {
          "output_type": "display_data",
          "data": {
            "text/plain": [
              "<Figure size 640x480 with 1 Axes>"
            ],
            "image/png": "[encoded data removed]"
          },
          "metadata": {}
        }
      ]
    },
    {
      "cell_type": "markdown",
      "source": [
        "The `roc_curve` function computes the false positive rate (FPR), true positive rate (TPR), and thresholds based on the predicted probabilities and the true labels (y_test). The `auc` function calculates the area under the ROC curve (AUC). Finally, the ROC curve is plotted using `matplotlib.pyplot`, displaying the AUC value and the diagonal reference line representing random guessing.\n",
        "\n",
        "Our model's nearly horizontal line observed in the ROC curve, particularly at or close to the `y-value` of `1.0`, implies that the classifier is consistently predicting positive instances (food products containing allergens) regardless of the classification threshold used.\n",
        "\n",
        "Moreover, the Medley model's initial value is lower compared to our model indicates that at a lower threshold, the Medley model captures a significant amount of False Positives compared to the True Positives. However, the increase in the threshold made the model more conservative in classifying positives, and thus led to the rise in value indicating less False Positives (lower FPR) yet still capturing True Positives (higher TPR) at a consistent rate."
      ],
      "metadata": {
        "id": "U2-OPDM9SxgN"
      }
    },
    {
      "cell_type": "markdown",
      "source": [
        "### **Precision-Recall Curve**\n",
        "We also check the precision-recall curve to examine the **tradeoff between precision and recall** for various thresholds. The curve illustrates the relationship between these two metrics, with a higher area under the curve indicating both high precision and high recall.\n",
        "\n",
        "The horizontal line at a precision value of 1 approaching the point `(1,1)` indicates that the classifier is consistently identifying positive instances (e.g., food products containing allergens) with both high precision (low false positive rate) and high recall (low false negative rate).\n",
        "\n",
        "Note that the curves of both our and Medley's models are very similar. This is because of the identical precision and recall values. However, we can still observe a decline in the precision of Medley's model  once the value of recall is almost at `0.6`. On the other hand, the precision of our model is consistent."
      ],
      "metadata": {
        "id": "3FDQ9ANaZKSl"
      }
    },
    {
      "cell_type": "code",
      "source": [
        "import matplotlib.pyplot as plt\n",
        "from sklearn.metrics import precision_recall_curve\n",
        "\n",
        "# assuming you have the true labels (y_true) and predicted probabilities for positive class (y_pred_probs)\n",
        "precision, recall, thresholds = precision_recall_curve(y_test, y_pred)  # our model\n",
        "precision2, recall2, thresholds2 = precision_recall_curve(y2_test, y2_pred)  # Medley's model\n",
        "\n",
        "# plotting the Precision-Recall curve\n",
        "plt.plot(recall2, precision2, marker='.', color='yellow', label='Medley Model') # Medley's model\n",
        "plt.plot(recall, precision, marker='.', label = 'Our Model') # our model\n",
        "plt.xlabel('Recall')\n",
        "plt.ylabel('Precision')\n",
        "plt.title('Precision-Recall Curve')\n",
        "plt.legend(loc=\"lower right\")\n",
        "plt.show()"
      ],
      "metadata": {
        "colab": {
          "base_uri": "https://localhost:8080/",
          "height": 472
        },
        "id": "RUvJUPg2ZK4T",
        "outputId": "abfbc1ba-7969-49a7-a28b-3a781df0efa3"
      },
      "execution_count": null,
      "outputs": [
        {
          "output_type": "display_data",
          "data": {
            "text/plain": [
              "<Figure size 640x480 with 1 Axes>"
            ],
            "image/png": "[encoded data removed]"
          },
          "metadata": {}
        }
      ]
    },
    {
      "cell_type": "markdown",
      "source": [
        "### **Feature Importance**\n",
        "\n",
        "Meanwhile, we also analyze feature importances to determine the relative importance of each feature in influencing the system's predictions. Most notably is the the presence/absence of the `Allergens_none` feature being the **most important factor** for determining the predictions in the food allergen detection system, with the highest importance score. This suggests that **whether a food product is labelled to contain any allergens or not has a significant impact on the classification outcome.**\n",
        "\n",
        "When training the model, if a food product is said to not contain any allergens, it is likely to be classified as safe for individuals with food allergies. Therefore, the absence of allergens becomes a crucial feature in making accurate predictions."
      ],
      "metadata": {
        "id": "Aa27jvnwZOd_"
      }
    },
    {
      "cell_type": "code",
      "source": [
        "pd.Series(classifier.feature_importances_, index=X.columns).sort_values(ascending=False).head(20)"
      ],
      "metadata": {
        "colab": {
          "base_uri": "https://localhost:8080/"
        },
        "id": "qYdypByrZOww",
        "outputId": "5f672256-ded5-4f35-e6f3-6fcd3f6d4b6c"
      },
      "execution_count": null,
      "outputs": [
        {
          "output_type": "execute_result",
          "data": {
            "text/plain": [
              "Allergens_none               0.430382\n",
              "Allergens_dairy              0.119171\n",
              "Allergens_wheat              0.027639\n",
              "Fat/Oil_butter               0.016573\n",
              "Allergens_fish               0.016074\n",
              "Allergens_eggs               0.014491\n",
              "Allergens_pork               0.013674\n",
              "Allergens_soybeans           0.013080\n",
              "Seasoning_herbs              0.010413\n",
              "Fat/Oil_olive oil            0.010289\n",
              "Sweetener_none               0.010202\n",
              "Allergens_shellfish          0.009314\n",
              "Sweetener_sugar              0.007585\n",
              "Seasoning_none               0.007387\n",
              "Fat/Oil_vegetable oil        0.007166\n",
              "Seasoning_spices             0.006463\n",
              "Seasoning_lemon              0.006240\n",
              "Main Ingredient_shrimp       0.005927\n",
              "Food Product_bbq ribs        0.005292\n",
              "Main Ingredient_chickpeas    0.005167\n",
              "dtype: float64"
            ]
          },
          "metadata": {},
          "execution_count": 3038
        }
      ]
    },
    {
      "cell_type": "markdown",
      "source": [
        "\n",
        "\n",
        "---\n",
        "\n"
      ],
      "metadata": {
        "id": "_WpGRMyhjMuB"
      }
    },
    {
      "cell_type": "markdown",
      "source": [
        "# **Web App: ai.llergen**\n",
        "\n",
        "We integrated the trained AI model into a web app built with SvelteKit (frontend) and Python (backend). We've deployed the web app for easier accessibility by all, which you can access [here](https://food-allergen-detector.vercel.app/).\n",
        "\n",
        "To use the app locally, clone our public Github repository named [food-allergen-detector](https://github.com/splasherzz/food-allergen-detector). Make sure you're in the `web app` directory then run the following command to install the needed dependencies: `npm install`. Afterwards, run the command `npm run dev` and launch the web app using the `localhost` link provided.\n",
        "\n",
        "Once run, you will be prompted to enter your food product's name and main ingredient. The other fields are only optional as not all food product labels might include its specific sweetener, fat/oil, seasoning, and/or allergens. Press the `Go!` button to let the AI model predict whether your entered food product has allergens.\n",
        "\n",
        "![image](https://github.com/splasherzz/food-allergen-detector/blob/main/web%20app/static/home.png?raw=true)\n",
        "\n",
        "Afterwards, the name of your food product and the prediction will be displayed. It will be either `Contains` or `Does not contain`. You can then press `Back` to enter another food product to check.\n",
        "\n",
        "![image.png](https://github.com/splasherzz/food-allergen-detector/blob/main/web%20app/static/results.png?raw=true)"
      ],
      "metadata": {
        "id": "4lvHdG0twf7u"
      }
    }
  ],
  "metadata": {
    "colab": {
      "provenance": [],
      "toc_visible": true,
      "include_colab_link": true
    },
    "kernelspec": {
      "display_name": "Python 3",
      "name": "python3"
    },
    "language_info": {
      "name": "python"
    }
  },
  "nbformat": 4,
  "nbformat_minor": 0
}