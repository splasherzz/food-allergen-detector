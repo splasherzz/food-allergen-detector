{
  "cells": [
    {
      "attachments": {},
      "cell_type": "markdown",
      "metadata": {
        "colab_type": "text",
        "id": "view-in-github"
      },
      "source": [
        "<a href=\"https://colab.research.google.com/github/splasherzz/food-allergen-detector/blob/main/project%20code/Project%20Code.ipynb\" target=\"_parent\"><img src=\"https://colab.research.google.com/assets/colab-badge.svg\" alt=\"Open In Colab\"/></a>"
      ]
    },
    {
      "attachments": {},
      "cell_type": "markdown",
      "metadata": {
        "id": "TKkeGOg8Gzqu"
      },
      "source": [
        "# **AI for AI: Utilizing Artificial Intelligence for Allergen Identification in Food**"
      ]
    },
    {
      "attachments": {},
      "cell_type": "markdown",
      "metadata": {
        "id": "aO2hOEX-89Gd"
      },
      "source": [
        "# **Project Summary**\n",
        "\n",
        "This project aims to develop an AI model for allergen detection in food products using a multi-label classification approach. It will utilize a Random Forest classifier which will be used for multi-label classification to predict the presence or absence of allergens in food products. This project addresses the limitations of traditional allergen detection methods, ensuring consumer safety and improving food allergen detection accuracy and food quality control processes. Using the \"Food Ingredients and Allergens\" dataset from Kaggle, the model will be trained to predict the presence of allergenic ingredients in different food products. The model will learn how to recognize patterns and associations between ingredients and allergens. The developed model will then be integrated into a web application for user-friendly allergen detection, where people with allergies can make informed decisions about the food they buy and consume. This project has the potential to benefit food manufacturers, the food service industry, regulatory bodies, and people with allergies, ultimately improving food safety and promoting informed food choices."
      ]
    },
    {
      "attachments": {},
      "cell_type": "markdown",
      "metadata": {
        "id": "kxLBFRlD-Ld4"
      },
      "source": [
        "# **Data Collection**\n",
        "\n",
        "We obtained the 2023 Kaggle dataset titled [\"Food Ingredients & Allergens\"](https://kaggle.com/datasets/uom190346a/food-ingredients-and-allergens) by Laksika Tharmalingam. We augmented data by manually adding 92 entries to the dataset, adding various food products and their allergen labels that we got from Google. The augmented dataset will then be used to train and test our AI model for food allergen detection."
      ]
    },
    {
      "attachments": {},
      "cell_type": "markdown",
      "metadata": {
        "id": "BNekqzYhtqPc"
      },
      "source": [
        "## **Importing the Original Dataset**\n",
        "\n",
        "The \"Food Ingredients & Allergens\" dataset is uploaded as a .csv file in our [GitHub repository](https://github.com/splasherzz/food-allergen-detector). This is imported and initialized in our notebook as `og_food`.\n",
        "We set the content of `data` to the link of the raw dataset file, and then utilize pandas' `.read_csv()` to store the dataframe into `og_food`. Lastly, `.head()` displays the first five rows to visualize the dataframe."
      ]
    },
    {
      "cell_type": "code",
      "execution_count": 365,
      "metadata": {
        "colab": {
          "base_uri": "https://localhost:8080/",
          "height": 206
        },
        "id": "a5UXGR-FrbEm",
        "outputId": "a690f385-0847-424f-f9ac-529addeb2aad"
      },
      "outputs": [
        {
          "data": {
            "text/html": [
              "<div>\n",
              "<style scoped>\n",
              "    .dataframe tbody tr th:only-of-type {\n",
              "        vertical-align: middle;\n",
              "    }\n",
              "\n",
              "    .dataframe tbody tr th {\n",
              "        vertical-align: top;\n",
              "    }\n",
              "\n",
              "    .dataframe thead th {\n",
              "        text-align: right;\n",
              "    }\n",
              "</style>\n",
              "<table border=\"1\" class=\"dataframe\">\n",
              "  <thead>\n",
              "    <tr style=\"text-align: right;\">\n",
              "      <th></th>\n",
              "      <th>Food Product</th>\n",
              "      <th>Main Ingredient</th>\n",
              "      <th>Sweetener</th>\n",
              "      <th>Fat/Oil</th>\n",
              "      <th>Seasoning</th>\n",
              "      <th>Allergens</th>\n",
              "      <th>Prediction</th>\n",
              "    </tr>\n",
              "  </thead>\n",
              "  <tbody>\n",
              "    <tr>\n",
              "      <th>0</th>\n",
              "      <td>Almond Cookies</td>\n",
              "      <td>Almonds</td>\n",
              "      <td>Sugar</td>\n",
              "      <td>Butter</td>\n",
              "      <td>Flour</td>\n",
              "      <td>Almonds, Wheat, Dairy</td>\n",
              "      <td>Contains</td>\n",
              "    </tr>\n",
              "    <tr>\n",
              "      <th>1</th>\n",
              "      <td>Almond Cookies</td>\n",
              "      <td>Almonds</td>\n",
              "      <td>Sugar</td>\n",
              "      <td>Butter</td>\n",
              "      <td>Flour</td>\n",
              "      <td>Almonds, Wheat, Dairy</td>\n",
              "      <td>Contains</td>\n",
              "    </tr>\n",
              "    <tr>\n",
              "      <th>2</th>\n",
              "      <td>Chicken Noodle Soup</td>\n",
              "      <td>Chicken broth</td>\n",
              "      <td>None</td>\n",
              "      <td>None</td>\n",
              "      <td>Salt</td>\n",
              "      <td>Chicken, Wheat, Celery</td>\n",
              "      <td>Contains</td>\n",
              "    </tr>\n",
              "    <tr>\n",
              "      <th>3</th>\n",
              "      <td>Chicken Noodle Soup</td>\n",
              "      <td>Chicken broth</td>\n",
              "      <td>None</td>\n",
              "      <td>None</td>\n",
              "      <td>Salt</td>\n",
              "      <td>Chicken, Wheat, Celery</td>\n",
              "      <td>Contains</td>\n",
              "    </tr>\n",
              "    <tr>\n",
              "      <th>4</th>\n",
              "      <td>Cheddar Cheese</td>\n",
              "      <td>Cheese</td>\n",
              "      <td>None</td>\n",
              "      <td>None</td>\n",
              "      <td>Salt</td>\n",
              "      <td>Dairy</td>\n",
              "      <td>Contains</td>\n",
              "    </tr>\n",
              "  </tbody>\n",
              "</table>\n",
              "</div>"
            ],
            "text/plain": [
              "          Food Product Main Ingredient Sweetener Fat/Oil Seasoning  \\\n",
              "0       Almond Cookies         Almonds     Sugar  Butter     Flour   \n",
              "1       Almond Cookies         Almonds     Sugar  Butter     Flour   \n",
              "2  Chicken Noodle Soup   Chicken broth      None    None      Salt   \n",
              "3  Chicken Noodle Soup   Chicken broth      None    None      Salt   \n",
              "4       Cheddar Cheese          Cheese      None    None      Salt   \n",
              "\n",
              "                Allergens Prediction  \n",
              "0   Almonds, Wheat, Dairy   Contains  \n",
              "1   Almonds, Wheat, Dairy   Contains  \n",
              "2  Chicken, Wheat, Celery   Contains  \n",
              "3  Chicken, Wheat, Celery   Contains  \n",
              "4                   Dairy   Contains  "
            ]
          },
          "execution_count": 365,
          "metadata": {},
          "output_type": "execute_result"
        }
      ],
      "source": [
        "import io\n",
        "import pandas as pd\n",
        "\n",
        "# initializing the dataset\n",
        "data = 'https://raw.githubusercontent.com/splasherzz/food-allergen-detector/main/datasets/%5BOriginal%5D%20Food%20Ingredients%20and%20Allergens.csv'\n",
        "og_food = pd.read_csv(data)\n",
        "og_food.head()"
      ]
    },
    {
      "attachments": {},
      "cell_type": "markdown",
      "metadata": {
        "id": "Pvon3PDn02pj"
      },
      "source": [
        "## **Dataset Features**\n",
        "\n",
        "Below is a table of the dataset features and their respective descriptions.\n",
        "\n",
        "<table>\n",
        "  <tr>\n",
        "    <th>Column Name<th/>\n",
        "    <th>Description<th/>\n",
        "  <tr/>\n",
        "\n",
        "  <tr>\n",
        "    <td>Food Product<td/>\n",
        "    <td>Name of the food product<td/>\n",
        "  <tr/>\n",
        "  <tr>\n",
        "    <td>Main Ingredient<td/>\n",
        "    <td>Defining or distinctive ingredient of the food product<td/>\n",
        "  <tr/>\n",
        "  <tr>\n",
        "    <td>Sweetener<td/>\n",
        "    <td>Substance added to food or drink to impart the flavor of sweetness<td/>\n",
        "  <tr/>\n",
        "  <tr>\n",
        "    <td>Fat/Oil<td/>\n",
        "    <td>Lipids made from plants, animals, or synthetic compounds used when frying, baking, and preparing foods<td/>\n",
        "  <tr/>\n",
        "  <tr>\n",
        "    <td>Seasoning<td/>\n",
        "    <td>Salt, herbs, or spices added to food to enhance the flavour<td/>\n",
        "  <tr/>\n",
        "  <tr>\n",
        "    <td>Allergens<td/>\n",
        "    <td>Any normally harmless substance that causes an immediate allergic reaction in a susceptible person<td/>\n",
        "  <tr/>\n",
        "  <tr>\n",
        "    <td>Prediction<td/>\n",
        "    <td>Anticipated outcome of the model<td/>\n",
        "  <tr/>\n",
        "<table/>"
      ]
    },
    {
      "attachments": {},
      "cell_type": "markdown",
      "metadata": {
        "id": "cWf2QdIcrI3y"
      },
      "source": [
        "# **Data Preprocessing**\n",
        "\n",
        "Before augmenting the dataset, we cleaned the original dataset by doing type formatting and handling null values and duplicate entries."
      ]
    },
    {
      "attachments": {},
      "cell_type": "markdown",
      "metadata": {
        "id": "DLURrramJkCF"
      },
      "source": [
        "## **Type Formatting (Original Dataset)**\n",
        "\n",
        "The table provided below summarizes the possible data types that we may encounter when using Pandas."
      ]
    },
    {
      "attachments": {},
      "cell_type": "markdown",
      "metadata": {
        "id": "jRgplQ3D9aTJ"
      },
      "source": [
        "<table>\n",
        "  <tr>\n",
        "    <th>Data type<th/>\n",
        "    <th>Description<th/>\n",
        "  <tr/>\n",
        "\n",
        "  <tr>\n",
        "    <td>object<td/>\n",
        "    <td>Text or mixed numeric and non-numeric values<td/>\n",
        "  <tr/>\n",
        "  <tr>\n",
        "    <td>int64<td/>\n",
        "    <td>Integer numbers<td/>\n",
        "  <tr/>\n",
        "  <tr>\n",
        "    <td>float64<td/>\n",
        "    <td>Floating point numbers<td/>\n",
        "  <tr/>\n",
        "  <tr>\n",
        "    <td>bool<td/>\n",
        "    <td>True/False values<td/>\n",
        "  <tr/>\n",
        "  <tr>\n",
        "    <td>datetime64<td/>\n",
        "    <td>Date and time values<td/>\n",
        "  <tr/>\n",
        "  <tr>\n",
        "    <td>timedelta[ns]<td/>\n",
        "    <td>Differences between two datetimes<td/>\n",
        "  <tr/>\n",
        "  <tr>\n",
        "    <td>category<td/>\n",
        "    <td>Finite list of text values<td/>\n",
        "  <tr/>\n",
        "<table/>"
      ]
    },
    {
      "attachments": {},
      "cell_type": "markdown",
      "metadata": {
        "id": "9P_4_FAVKntk"
      },
      "source": [
        "Using `dtypes` on the dataset, we observed that all columns had the data type `object`, which is described as \"text or mixed numeric and non-numeric values.\" We then perform type formatting to ensure all our columns have the type `category`, as it fits the description of a \"finite list of text values.\" It is also appropriate for our dataset since our columns are different categories of the food product. A loop that goes through the values of each column, in combination with `.astype('category')`, is utilized to convert the datatype. "
      ]
    },
    {
      "cell_type": "code",
      "execution_count": 366,
      "metadata": {
        "colab": {
          "base_uri": "https://localhost:8080/"
        },
        "id": "1QoAsU9e1Km5",
        "outputId": "dd032597-ead3-4aaf-b06e-f73da8f3c399"
      },
      "outputs": [
        {
          "data": {
            "text/plain": [
              "Food Product       category\n",
              "Main Ingredient    category\n",
              "Sweetener          category\n",
              "Fat/Oil            category\n",
              "Seasoning          category\n",
              "Allergens          category\n",
              "Prediction         category\n",
              "dtype: object"
            ]
          },
          "execution_count": 366,
          "metadata": {},
          "output_type": "execute_result"
        }
      ],
      "source": [
        "# performing type formatting to change all columns data types into \"category\"\n",
        "for item in og_food:\n",
        "  if og_food[item].dtype == object:\n",
        "    og_food[item] = og_food[item].astype('category')\n",
        "\n",
        "og_food.dtypes"
      ]
    },
    {
      "attachments": {},
      "cell_type": "markdown",
      "metadata": {
        "id": "EDAteYoXxYf-"
      },
      "source": [
        "## **Handling Duplicates & Null Values**\n",
        "\n",
        "Before dropping duplicates, we first check if there are null values in the dataset. \n",
        "\n",
        "We print the number of missing values using `.isna()`, which returns a boolean same-sized object indicating if the values are `NaN`. These values get mapped to `True` values, while everything else gets mapped to `False` values. Thereafter, `.sum()` is used to get the total number of null values per column.\n",
        "\n",
        "To find all rows that contain null values, we use the syntax `og_food[og_food.isna().any(axis=1)]`. Only one column had a null value and it was in the `Prediction` column. "
      ]
    },
    {
      "cell_type": "code",
      "execution_count": 367,
      "metadata": {
        "colab": {
          "base_uri": "https://localhost:8080/"
        },
        "id": "zvVkKb0HvXcA",
        "outputId": "0d2f87b9-32ca-43eb-e2e8-90a40dce822e"
      },
      "outputs": [
        {
          "name": "stdout",
          "output_type": "stream",
          "text": [
            "Total number of missing values in whole dataset: 1\n",
            "\n",
            "\n",
            "Breakdown of which columns have missing values:\n",
            " Food Product       0\n",
            "Main Ingredient    0\n",
            "Sweetener          0\n",
            "Fat/Oil            0\n",
            "Seasoning          0\n",
            "Allergens          0\n",
            "Prediction         1\n",
            "dtype: int64\n",
            "\n",
            "\n",
            "Entry with null values:\n",
            "     Food Product Main Ingredient Sweetener Fat/Oil     Seasoning  \\\n",
            "338   Baked Ziti           Pasta      None  Cheese  Tomato sauce   \n",
            "\n",
            "        Allergens Prediction  \n",
            "338  Wheat, Dairy        NaN  \n"
          ]
        }
      ],
      "source": [
        "# handling null values\n",
        "print(\"Total number of missing values in whole dataset:\", og_food.isna().sum().sum())\n",
        "print(\"\\n\")\n",
        "print(\"Breakdown of which columns have missing values:\\n\", og_food.isna().sum())\n",
        "print(\"\\n\")\n",
        "print(\"Entry with null values:\\n\", og_food[og_food.isna().any(axis=1)])"
      ]
    },
    {
      "attachments": {},
      "cell_type": "markdown",
      "metadata": {
        "id": "8oZQmdus0lSE"
      },
      "source": [
        "Upon manually checking the dataset for the row with null value (entry 338), it was a duplicate for the same entry with `Prediction` correctly filled up. Thus, we just drop this single row with null entry. This can be done using `.dropna()`, which drops missing values. By setting its `inplace` parameter to `True`, we specify that this is done on the current dataframe `og_food`.\n",
        "\n",
        "\n",
        "We also drop the duplicates in the dataset, keeping only the first occurrence. `.drop_duplicates()` returns a dataframe with duplicate rows already removed. Setting the parameter `keep` to `'first'` makes the dataframe keep only the first occurence of the duplicate rows."
      ]
    },
    {
      "cell_type": "code",
      "execution_count": 368,
      "metadata": {
        "colab": {
          "base_uri": "https://localhost:8080/",
          "height": 206
        },
        "id": "LMMzJUgtxwDv",
        "outputId": "ca141487-a202-44b7-c78d-53af56901b42"
      },
      "outputs": [
        {
          "data": {
            "text/html": [
              "<div>\n",
              "<style scoped>\n",
              "    .dataframe tbody tr th:only-of-type {\n",
              "        vertical-align: middle;\n",
              "    }\n",
              "\n",
              "    .dataframe tbody tr th {\n",
              "        vertical-align: top;\n",
              "    }\n",
              "\n",
              "    .dataframe thead th {\n",
              "        text-align: right;\n",
              "    }\n",
              "</style>\n",
              "<table border=\"1\" class=\"dataframe\">\n",
              "  <thead>\n",
              "    <tr style=\"text-align: right;\">\n",
              "      <th></th>\n",
              "      <th>Food Product</th>\n",
              "      <th>Main Ingredient</th>\n",
              "      <th>Sweetener</th>\n",
              "      <th>Fat/Oil</th>\n",
              "      <th>Seasoning</th>\n",
              "      <th>Allergens</th>\n",
              "      <th>Prediction</th>\n",
              "    </tr>\n",
              "  </thead>\n",
              "  <tbody>\n",
              "    <tr>\n",
              "      <th>0</th>\n",
              "      <td>Almond Cookies</td>\n",
              "      <td>Almonds</td>\n",
              "      <td>Sugar</td>\n",
              "      <td>Butter</td>\n",
              "      <td>Flour</td>\n",
              "      <td>Almonds, Wheat, Dairy</td>\n",
              "      <td>Contains</td>\n",
              "    </tr>\n",
              "    <tr>\n",
              "      <th>2</th>\n",
              "      <td>Chicken Noodle Soup</td>\n",
              "      <td>Chicken broth</td>\n",
              "      <td>None</td>\n",
              "      <td>None</td>\n",
              "      <td>Salt</td>\n",
              "      <td>Chicken, Wheat, Celery</td>\n",
              "      <td>Contains</td>\n",
              "    </tr>\n",
              "    <tr>\n",
              "      <th>4</th>\n",
              "      <td>Cheddar Cheese</td>\n",
              "      <td>Cheese</td>\n",
              "      <td>None</td>\n",
              "      <td>None</td>\n",
              "      <td>Salt</td>\n",
              "      <td>Dairy</td>\n",
              "      <td>Contains</td>\n",
              "    </tr>\n",
              "    <tr>\n",
              "      <th>5</th>\n",
              "      <td>Ranch Dressing</td>\n",
              "      <td>Buttermilk</td>\n",
              "      <td>Sugar</td>\n",
              "      <td>Vegetable oil</td>\n",
              "      <td>Garlic, herbs</td>\n",
              "      <td>Dairy</td>\n",
              "      <td>Contains</td>\n",
              "    </tr>\n",
              "    <tr>\n",
              "      <th>6</th>\n",
              "      <td>Caramel Popcorn</td>\n",
              "      <td>Popcorn</td>\n",
              "      <td>Sugar</td>\n",
              "      <td>Butter</td>\n",
              "      <td>Salt</td>\n",
              "      <td>Dairy</td>\n",
              "      <td>Contains</td>\n",
              "    </tr>\n",
              "  </tbody>\n",
              "</table>\n",
              "</div>"
            ],
            "text/plain": [
              "          Food Product Main Ingredient Sweetener        Fat/Oil  \\\n",
              "0       Almond Cookies         Almonds     Sugar         Butter   \n",
              "2  Chicken Noodle Soup   Chicken broth      None           None   \n",
              "4       Cheddar Cheese          Cheese      None           None   \n",
              "5       Ranch Dressing      Buttermilk     Sugar  Vegetable oil   \n",
              "6      Caramel Popcorn         Popcorn     Sugar         Butter   \n",
              "\n",
              "       Seasoning               Allergens Prediction  \n",
              "0          Flour   Almonds, Wheat, Dairy   Contains  \n",
              "2           Salt  Chicken, Wheat, Celery   Contains  \n",
              "4           Salt                   Dairy   Contains  \n",
              "5  Garlic, herbs                   Dairy   Contains  \n",
              "6           Salt                   Dairy   Contains  "
            ]
          },
          "execution_count": 368,
          "metadata": {},
          "output_type": "execute_result"
        }
      ],
      "source": [
        "# dropping entry with null value\n",
        "og_food.dropna(inplace=True)\n",
        "\n",
        "# handling & dropping duplicates\n",
        "og_food.drop_duplicates(keep='first', inplace=True)\n",
        "og_food.head()"
      ]
    },
    {
      "attachments": {},
      "cell_type": "markdown",
      "metadata": {
        "id": "8SKwPA9gj1kK"
      },
      "source": [
        "After dropping the duplicates and a row with a null value, we check for the current shape of the dataset. As shown below, there are only 308 entries left out of the initial 400. The attribute `.shape` returns a tuple containing the dataframe's number of rows and columns `(rows, columns)`."
      ]
    },
    {
      "cell_type": "code",
      "execution_count": 369,
      "metadata": {
        "colab": {
          "base_uri": "https://localhost:8080/"
        },
        "id": "eIMTDcCxdmxr",
        "outputId": "e996ec16-83f4-4c66-f629-4f7b504d5214"
      },
      "outputs": [
        {
          "data": {
            "text/plain": [
              "(308, 7)"
            ]
          },
          "execution_count": 369,
          "metadata": {},
          "output_type": "execute_result"
        }
      ],
      "source": [
        "og_food.shape"
      ]
    },
    {
      "attachments": {},
      "cell_type": "markdown",
      "metadata": {
        "id": "yCrhLQ-2wzkD"
      },
      "source": [
        "## **Augmenting the Dataset**\n",
        "We augment the dataset by downloading the cleaned/preprocessed .csv file and manually adding 92 more entries to reach the same number of rows as prior to the deletion. To procure the data, we looked for random food products, their ingredients, and their allergen labels on Google.\n",
        "We first made sure that there were no duplicates by searching the food product in the dataset before adding it. The commented lines below are used to save the cleaned dataset's CSV file. "
      ]
    },
    {
      "cell_type": "code",
      "execution_count": 370,
      "metadata": {
        "id": "t3mt3Ul1xJT9"
      },
      "outputs": [],
      "source": [
        "# # saving it as a CSV file\n",
        "# df = pd.DataFrame(og_food)\n",
        "# df.to_csv(\"[Augmented] Food Ingredients and Allergens.csv\", index=False) "
      ]
    },
    {
      "attachments": {},
      "cell_type": "markdown",
      "metadata": {
        "id": "FMZPVmPqk-2z"
      },
      "source": [
        "## **Importing the Augmented Dataset**\n",
        "\n",
        "Then, we import the augmented dataset as `aug_food`, and verify if the dimensions are correct. The dataset is uploaded as a CSV file in our [GitHub repository](https://github.com/splasherzz/food-allergen-detector). We do the same process that we did when we imported the original dataset."
      ]
    },
    {
      "cell_type": "code",
      "execution_count": 371,
      "metadata": {
        "colab": {
          "base_uri": "https://localhost:8080/",
          "height": 206
        },
        "id": "SLqUqiq6g8en",
        "outputId": "25eef29d-c553-4e4c-c99e-e5a79c2a1ed5"
      },
      "outputs": [
        {
          "data": {
            "text/html": [
              "<div>\n",
              "<style scoped>\n",
              "    .dataframe tbody tr th:only-of-type {\n",
              "        vertical-align: middle;\n",
              "    }\n",
              "\n",
              "    .dataframe tbody tr th {\n",
              "        vertical-align: top;\n",
              "    }\n",
              "\n",
              "    .dataframe thead th {\n",
              "        text-align: right;\n",
              "    }\n",
              "</style>\n",
              "<table border=\"1\" class=\"dataframe\">\n",
              "  <thead>\n",
              "    <tr style=\"text-align: right;\">\n",
              "      <th></th>\n",
              "      <th>Food Product</th>\n",
              "      <th>Main Ingredient</th>\n",
              "      <th>Sweetener</th>\n",
              "      <th>Fat/Oil</th>\n",
              "      <th>Seasoning</th>\n",
              "      <th>Allergens</th>\n",
              "      <th>Prediction</th>\n",
              "    </tr>\n",
              "  </thead>\n",
              "  <tbody>\n",
              "    <tr>\n",
              "      <th>0</th>\n",
              "      <td>Almond Cookies</td>\n",
              "      <td>Almonds</td>\n",
              "      <td>Sugar</td>\n",
              "      <td>Butter</td>\n",
              "      <td>Flour</td>\n",
              "      <td>Almonds, Wheat, Dairy</td>\n",
              "      <td>Contains</td>\n",
              "    </tr>\n",
              "    <tr>\n",
              "      <th>1</th>\n",
              "      <td>Chicken Noodle Soup</td>\n",
              "      <td>Chicken broth</td>\n",
              "      <td>None</td>\n",
              "      <td>None</td>\n",
              "      <td>Salt</td>\n",
              "      <td>Chicken, Wheat, Celery</td>\n",
              "      <td>Contains</td>\n",
              "    </tr>\n",
              "    <tr>\n",
              "      <th>2</th>\n",
              "      <td>Cheddar Cheese</td>\n",
              "      <td>Cheese</td>\n",
              "      <td>None</td>\n",
              "      <td>None</td>\n",
              "      <td>Salt</td>\n",
              "      <td>Dairy</td>\n",
              "      <td>Contains</td>\n",
              "    </tr>\n",
              "    <tr>\n",
              "      <th>3</th>\n",
              "      <td>Ranch Dressing</td>\n",
              "      <td>Buttermilk</td>\n",
              "      <td>Sugar</td>\n",
              "      <td>Vegetable oil</td>\n",
              "      <td>Garlic, herbs</td>\n",
              "      <td>Dairy</td>\n",
              "      <td>Contains</td>\n",
              "    </tr>\n",
              "    <tr>\n",
              "      <th>4</th>\n",
              "      <td>Caramel Popcorn</td>\n",
              "      <td>Popcorn</td>\n",
              "      <td>Sugar</td>\n",
              "      <td>Butter</td>\n",
              "      <td>Salt</td>\n",
              "      <td>Dairy</td>\n",
              "      <td>Contains</td>\n",
              "    </tr>\n",
              "  </tbody>\n",
              "</table>\n",
              "</div>"
            ],
            "text/plain": [
              "          Food Product Main Ingredient Sweetener        Fat/Oil  \\\n",
              "0       Almond Cookies         Almonds     Sugar         Butter   \n",
              "1  Chicken Noodle Soup   Chicken broth      None           None   \n",
              "2       Cheddar Cheese          Cheese      None           None   \n",
              "3       Ranch Dressing      Buttermilk     Sugar  Vegetable oil   \n",
              "4      Caramel Popcorn         Popcorn     Sugar         Butter   \n",
              "\n",
              "       Seasoning               Allergens Prediction  \n",
              "0          Flour   Almonds, Wheat, Dairy   Contains  \n",
              "1           Salt  Chicken, Wheat, Celery   Contains  \n",
              "2           Salt                   Dairy   Contains  \n",
              "3  Garlic, herbs                   Dairy   Contains  \n",
              "4           Salt                   Dairy   Contains  "
            ]
          },
          "execution_count": 371,
          "metadata": {},
          "output_type": "execute_result"
        }
      ],
      "source": [
        "data1 = 'https://raw.githubusercontent.com/splasherzz/food-allergen-detector/main/datasets/%5BAugmented%5D%20Food%20Ingredients%20and%20Allergens.csv'\n",
        "aug_food = pd.read_csv(data1)\n",
        "\n",
        "aug_food.head()"
      ]
    },
    {
      "attachments": {},
      "cell_type": "markdown",
      "metadata": {
        "id": "4o99s5p9kMnK"
      },
      "source": [
        "After augmenting, we check for the current shape of the dataset. As shown below, the number of entries are back to the initial 400 due to the additional 92 entries."
      ]
    },
    {
      "cell_type": "code",
      "execution_count": 372,
      "metadata": {
        "colab": {
          "base_uri": "https://localhost:8080/"
        },
        "id": "tiHm4Gr_kMnK",
        "outputId": "8e6bf4ed-52aa-4441-9433-2e30ee8a86b1"
      },
      "outputs": [
        {
          "data": {
            "text/plain": [
              "(400, 7)"
            ]
          },
          "execution_count": 372,
          "metadata": {},
          "output_type": "execute_result"
        }
      ],
      "source": [
        "aug_food.shape"
      ]
    },
    {
      "attachments": {},
      "cell_type": "markdown",
      "metadata": {
        "id": "36TKKMoe8d8s"
      },
      "source": [
        "## **Type Formatting (Augmented Dataset)**\n",
        "\n",
        "We perform the same process that we did before to ensure all our columns have the type `category`, as it fits the description of a \"finite list of text values.\" It is also appropriate for our dataset since our columns are different categories of the food product."
      ]
    },
    {
      "cell_type": "code",
      "execution_count": 373,
      "metadata": {
        "colab": {
          "base_uri": "https://localhost:8080/"
        },
        "id": "1hxApvxP6_x9",
        "outputId": "de470efc-eba9-4eff-aded-4ba32b39bc42"
      },
      "outputs": [
        {
          "data": {
            "text/plain": [
              "Food Product       category\n",
              "Main Ingredient    category\n",
              "Sweetener          category\n",
              "Fat/Oil            category\n",
              "Seasoning          category\n",
              "Allergens          category\n",
              "Prediction         category\n",
              "dtype: object"
            ]
          },
          "execution_count": 373,
          "metadata": {},
          "output_type": "execute_result"
        }
      ],
      "source": [
        "# performing type formatting to change all columns data types into \"category\"\n",
        "for item in aug_food:\n",
        "  if aug_food[item].dtype == object:\n",
        "    aug_food[item] = aug_food[item].astype('category')\n",
        "\n",
        "aug_food.dtypes"
      ]
    },
    {
      "attachments": {},
      "cell_type": "markdown",
      "metadata": {
        "id": "GmrThw-4kMnJ"
      },
      "source": [
        "## Lowercase Conversion\n",
        "Converting the values of the whole dataframe to lowercase is important for consistency and standardization. By doing this, we ensure that the data is consistent throughout, helping to avoid duplicate or mismatched entries.\n",
        "\n",
        "`.applymap()` takes in a function as its parameter and applies it to the dataframe elementwise. In this case, we use a function that sets the value of `s` to lowercase using `.lower()` if it is a string; else, we do no changes to the value."
      ]
    },
    {
      "cell_type": "code",
      "execution_count": 374,
      "metadata": {
        "colab": {
          "base_uri": "https://localhost:8080/",
          "height": 206
        },
        "id": "2AVnDEnhkMnJ",
        "outputId": "e90bf07b-8959-428a-f21b-9ff6305baf02"
      },
      "outputs": [
        {
          "data": {
            "text/html": [
              "<div>\n",
              "<style scoped>\n",
              "    .dataframe tbody tr th:only-of-type {\n",
              "        vertical-align: middle;\n",
              "    }\n",
              "\n",
              "    .dataframe tbody tr th {\n",
              "        vertical-align: top;\n",
              "    }\n",
              "\n",
              "    .dataframe thead th {\n",
              "        text-align: right;\n",
              "    }\n",
              "</style>\n",
              "<table border=\"1\" class=\"dataframe\">\n",
              "  <thead>\n",
              "    <tr style=\"text-align: right;\">\n",
              "      <th></th>\n",
              "      <th>Food Product</th>\n",
              "      <th>Main Ingredient</th>\n",
              "      <th>Sweetener</th>\n",
              "      <th>Fat/Oil</th>\n",
              "      <th>Seasoning</th>\n",
              "      <th>Allergens</th>\n",
              "      <th>Prediction</th>\n",
              "    </tr>\n",
              "  </thead>\n",
              "  <tbody>\n",
              "    <tr>\n",
              "      <th>0</th>\n",
              "      <td>almond cookies</td>\n",
              "      <td>almonds</td>\n",
              "      <td>sugar</td>\n",
              "      <td>butter</td>\n",
              "      <td>flour</td>\n",
              "      <td>almonds, wheat, dairy</td>\n",
              "      <td>contains</td>\n",
              "    </tr>\n",
              "    <tr>\n",
              "      <th>1</th>\n",
              "      <td>chicken noodle soup</td>\n",
              "      <td>chicken broth</td>\n",
              "      <td>none</td>\n",
              "      <td>none</td>\n",
              "      <td>salt</td>\n",
              "      <td>chicken, wheat, celery</td>\n",
              "      <td>contains</td>\n",
              "    </tr>\n",
              "    <tr>\n",
              "      <th>2</th>\n",
              "      <td>cheddar cheese</td>\n",
              "      <td>cheese</td>\n",
              "      <td>none</td>\n",
              "      <td>none</td>\n",
              "      <td>salt</td>\n",
              "      <td>dairy</td>\n",
              "      <td>contains</td>\n",
              "    </tr>\n",
              "    <tr>\n",
              "      <th>3</th>\n",
              "      <td>ranch dressing</td>\n",
              "      <td>buttermilk</td>\n",
              "      <td>sugar</td>\n",
              "      <td>vegetable oil</td>\n",
              "      <td>garlic, herbs</td>\n",
              "      <td>dairy</td>\n",
              "      <td>contains</td>\n",
              "    </tr>\n",
              "    <tr>\n",
              "      <th>4</th>\n",
              "      <td>caramel popcorn</td>\n",
              "      <td>popcorn</td>\n",
              "      <td>sugar</td>\n",
              "      <td>butter</td>\n",
              "      <td>salt</td>\n",
              "      <td>dairy</td>\n",
              "      <td>contains</td>\n",
              "    </tr>\n",
              "  </tbody>\n",
              "</table>\n",
              "</div>"
            ],
            "text/plain": [
              "          Food Product Main Ingredient Sweetener        Fat/Oil  \\\n",
              "0       almond cookies         almonds     sugar         butter   \n",
              "1  chicken noodle soup   chicken broth      none           none   \n",
              "2       cheddar cheese          cheese      none           none   \n",
              "3       ranch dressing      buttermilk     sugar  vegetable oil   \n",
              "4      caramel popcorn         popcorn     sugar         butter   \n",
              "\n",
              "       Seasoning               Allergens Prediction  \n",
              "0          flour   almonds, wheat, dairy   contains  \n",
              "1           salt  chicken, wheat, celery   contains  \n",
              "2           salt                   dairy   contains  \n",
              "3  garlic, herbs                   dairy   contains  \n",
              "4           salt                   dairy   contains  "
            ]
          },
          "execution_count": 374,
          "metadata": {},
          "output_type": "execute_result"
        }
      ],
      "source": [
        "aug_food = aug_food.applymap(lambda s: s.lower() if type(s) == str else s)\n",
        "aug_food.head()"
      ]
    },
    {
      "attachments": {},
      "cell_type": "markdown",
      "metadata": {
        "id": "gK35mmfhCV5J"
      },
      "source": [
        "## **Converting Categorical Features through Categorical Data Encoding**"
      ]
    },
    {
      "attachments": {},
      "cell_type": "markdown",
      "metadata": {
        "id": "60Ttq3SXr0Aa"
      },
      "source": [
        "After augmenting the dataset, we did categorical data encoding. To convert the qualitative values `'Does not contain'` and `'Contains'` into numerical representation, we respectively map the prediction values to 0 and 1 using `.map()`. This is necessary for training our multilabel classification model, which requires numerical input for making predictions. To optimize the memory allocation of the dataform, we convert the datatype of the values from `int64` to `uint8` via `.astype('uint8')`."
      ]
    },
    {
      "cell_type": "code",
      "execution_count": 375,
      "metadata": {
        "colab": {
          "base_uri": "https://localhost:8080/"
        },
        "id": "14ZEsahp_Pq6",
        "outputId": "40f1a7bb-232f-49fc-a34b-b57685ea6941"
      },
      "outputs": [
        {
          "data": {
            "text/plain": [
              "0      1\n",
              "1      1\n",
              "2      1\n",
              "3      1\n",
              "4      1\n",
              "      ..\n",
              "395    1\n",
              "396    1\n",
              "397    1\n",
              "398    1\n",
              "399    1\n",
              "Name: Prediction, Length: 400, dtype: uint8"
            ]
          },
          "execution_count": 375,
          "metadata": {},
          "output_type": "execute_result"
        }
      ],
      "source": [
        "# mapping the prediction values to 0 or 1\n",
        "aug_food['Prediction'] = aug_food['Prediction'].map({'contains': 1, 'does not contain': 0})\n",
        "\n",
        "# changing the datatype from int64 to uint8\n",
        "aug_food['Prediction'] = aug_food['Prediction'].astype('uint8')\n",
        "\n",
        "# showing that the prediction values are now set to 0/1\n",
        "aug_food['Prediction']"
      ]
    },
    {
      "attachments": {},
      "cell_type": "markdown",
      "metadata": {
        "id": "L3RiR4etkMnL"
      },
      "source": [
        "We separately obtain the dummies for the `Seasoning` and `Allergens` features to allow for appropriate handling of the non-atomic values. By splitting the multivalued cells into separate values via `get_dummies()`, we create individual binary columns for each seasoning and allergen. This ensures that the resulting dummy variables correctly represent the presence or absence of each specific seasoning or allergen in the dataset, rather than incorrectly representing concatenated strings. \n",
        "\n",
        "To optimize the memory allocation of the dataform, we do the same process that we did when we mapped the `Prediction` values to 0s and 1s. The datatype is converted from `int64` to `uint8` with the help of a loop that goes through each value in each column."
      ]
    },
    {
      "attachments": {},
      "cell_type": "markdown",
      "metadata": {
        "id": "qRcadXmOkMnL"
      },
      "source": [
        "We first obtain dummy variables for the `Allergens` column which results in binary columns representing the presence or absence of each unique allergen."
      ]
    },
    {
      "cell_type": "code",
      "execution_count": 376,
      "metadata": {
        "colab": {
          "base_uri": "https://localhost:8080/",
          "height": 300
        },
        "id": "y3UXu1OikMnL",
        "outputId": "09560ebe-a377-49fd-c338-48b245a55537"
      },
      "outputs": [
        {
          "data": {
            "text/html": [
              "<div>\n",
              "<style scoped>\n",
              "    .dataframe tbody tr th:only-of-type {\n",
              "        vertical-align: middle;\n",
              "    }\n",
              "\n",
              "    .dataframe tbody tr th {\n",
              "        vertical-align: top;\n",
              "    }\n",
              "\n",
              "    .dataframe thead th {\n",
              "        text-align: right;\n",
              "    }\n",
              "</style>\n",
              "<table border=\"1\" class=\"dataframe\">\n",
              "  <thead>\n",
              "    <tr style=\"text-align: right;\">\n",
              "      <th></th>\n",
              "      <th>Allergens_alcohol</th>\n",
              "      <th>Allergens_almonds</th>\n",
              "      <th>Allergens_anchovies</th>\n",
              "      <th>Allergens_beef</th>\n",
              "      <th>Allergens_calamari</th>\n",
              "      <th>Allergens_celery</th>\n",
              "      <th>Allergens_chicken</th>\n",
              "      <th>Allergens_cocoa</th>\n",
              "      <th>Allergens_coconut</th>\n",
              "      <th>Allergens_crab</th>\n",
              "      <th>...</th>\n",
              "      <th>Allergens_oats</th>\n",
              "      <th>Allergens_peanuts</th>\n",
              "      <th>Allergens_pinenuts</th>\n",
              "      <th>Allergens_pork</th>\n",
              "      <th>Allergens_rice</th>\n",
              "      <th>Allergens_shellfish</th>\n",
              "      <th>Allergens_shrimp</th>\n",
              "      <th>Allergens_soybeans</th>\n",
              "      <th>Allergens_strawberries</th>\n",
              "      <th>Allergens_wheat</th>\n",
              "    </tr>\n",
              "  </thead>\n",
              "  <tbody>\n",
              "    <tr>\n",
              "      <th>0</th>\n",
              "      <td>0</td>\n",
              "      <td>1</td>\n",
              "      <td>0</td>\n",
              "      <td>0</td>\n",
              "      <td>0</td>\n",
              "      <td>0</td>\n",
              "      <td>0</td>\n",
              "      <td>0</td>\n",
              "      <td>0</td>\n",
              "      <td>0</td>\n",
              "      <td>...</td>\n",
              "      <td>0</td>\n",
              "      <td>0</td>\n",
              "      <td>0</td>\n",
              "      <td>0</td>\n",
              "      <td>0</td>\n",
              "      <td>0</td>\n",
              "      <td>0</td>\n",
              "      <td>0</td>\n",
              "      <td>0</td>\n",
              "      <td>1</td>\n",
              "    </tr>\n",
              "    <tr>\n",
              "      <th>1</th>\n",
              "      <td>0</td>\n",
              "      <td>0</td>\n",
              "      <td>0</td>\n",
              "      <td>0</td>\n",
              "      <td>0</td>\n",
              "      <td>1</td>\n",
              "      <td>1</td>\n",
              "      <td>0</td>\n",
              "      <td>0</td>\n",
              "      <td>0</td>\n",
              "      <td>...</td>\n",
              "      <td>0</td>\n",
              "      <td>0</td>\n",
              "      <td>0</td>\n",
              "      <td>0</td>\n",
              "      <td>0</td>\n",
              "      <td>0</td>\n",
              "      <td>0</td>\n",
              "      <td>0</td>\n",
              "      <td>0</td>\n",
              "      <td>1</td>\n",
              "    </tr>\n",
              "    <tr>\n",
              "      <th>2</th>\n",
              "      <td>0</td>\n",
              "      <td>0</td>\n",
              "      <td>0</td>\n",
              "      <td>0</td>\n",
              "      <td>0</td>\n",
              "      <td>0</td>\n",
              "      <td>0</td>\n",
              "      <td>0</td>\n",
              "      <td>0</td>\n",
              "      <td>0</td>\n",
              "      <td>...</td>\n",
              "      <td>0</td>\n",
              "      <td>0</td>\n",
              "      <td>0</td>\n",
              "      <td>0</td>\n",
              "      <td>0</td>\n",
              "      <td>0</td>\n",
              "      <td>0</td>\n",
              "      <td>0</td>\n",
              "      <td>0</td>\n",
              "      <td>0</td>\n",
              "    </tr>\n",
              "    <tr>\n",
              "      <th>3</th>\n",
              "      <td>0</td>\n",
              "      <td>0</td>\n",
              "      <td>0</td>\n",
              "      <td>0</td>\n",
              "      <td>0</td>\n",
              "      <td>0</td>\n",
              "      <td>0</td>\n",
              "      <td>0</td>\n",
              "      <td>0</td>\n",
              "      <td>0</td>\n",
              "      <td>...</td>\n",
              "      <td>0</td>\n",
              "      <td>0</td>\n",
              "      <td>0</td>\n",
              "      <td>0</td>\n",
              "      <td>0</td>\n",
              "      <td>0</td>\n",
              "      <td>0</td>\n",
              "      <td>0</td>\n",
              "      <td>0</td>\n",
              "      <td>0</td>\n",
              "    </tr>\n",
              "    <tr>\n",
              "      <th>4</th>\n",
              "      <td>0</td>\n",
              "      <td>0</td>\n",
              "      <td>0</td>\n",
              "      <td>0</td>\n",
              "      <td>0</td>\n",
              "      <td>0</td>\n",
              "      <td>0</td>\n",
              "      <td>0</td>\n",
              "      <td>0</td>\n",
              "      <td>0</td>\n",
              "      <td>...</td>\n",
              "      <td>0</td>\n",
              "      <td>0</td>\n",
              "      <td>0</td>\n",
              "      <td>0</td>\n",
              "      <td>0</td>\n",
              "      <td>0</td>\n",
              "      <td>0</td>\n",
              "      <td>0</td>\n",
              "      <td>0</td>\n",
              "      <td>0</td>\n",
              "    </tr>\n",
              "  </tbody>\n",
              "</table>\n",
              "<p>5 rows × 29 columns</p>\n",
              "</div>"
            ],
            "text/plain": [
              "   Allergens_alcohol  Allergens_almonds  Allergens_anchovies  Allergens_beef  \\\n",
              "0                  0                  1                    0               0   \n",
              "1                  0                  0                    0               0   \n",
              "2                  0                  0                    0               0   \n",
              "3                  0                  0                    0               0   \n",
              "4                  0                  0                    0               0   \n",
              "\n",
              "   Allergens_calamari  Allergens_celery  Allergens_chicken  Allergens_cocoa  \\\n",
              "0                   0                 0                  0                0   \n",
              "1                   0                 1                  1                0   \n",
              "2                   0                 0                  0                0   \n",
              "3                   0                 0                  0                0   \n",
              "4                   0                 0                  0                0   \n",
              "\n",
              "   Allergens_coconut  Allergens_crab  ...  Allergens_oats  Allergens_peanuts  \\\n",
              "0                  0               0  ...               0                  0   \n",
              "1                  0               0  ...               0                  0   \n",
              "2                  0               0  ...               0                  0   \n",
              "3                  0               0  ...               0                  0   \n",
              "4                  0               0  ...               0                  0   \n",
              "\n",
              "   Allergens_pinenuts  Allergens_pork  Allergens_rice  Allergens_shellfish  \\\n",
              "0                   0               0               0                    0   \n",
              "1                   0               0               0                    0   \n",
              "2                   0               0               0                    0   \n",
              "3                   0               0               0                    0   \n",
              "4                   0               0               0                    0   \n",
              "\n",
              "   Allergens_shrimp  Allergens_soybeans  Allergens_strawberries  \\\n",
              "0                 0                   0                       0   \n",
              "1                 0                   0                       0   \n",
              "2                 0                   0                       0   \n",
              "3                 0                   0                       0   \n",
              "4                 0                   0                       0   \n",
              "\n",
              "   Allergens_wheat  \n",
              "0                1  \n",
              "1                1  \n",
              "2                0  \n",
              "3                0  \n",
              "4                0  \n",
              "\n",
              "[5 rows x 29 columns]"
            ]
          },
          "execution_count": 376,
          "metadata": {},
          "output_type": "execute_result"
        }
      ],
      "source": [
        "aug_allerg = aug_food['Allergens'].str.replace(' ', '').str.get_dummies(',')\n",
        "aug_allerg = aug_allerg.add_prefix('Allergens_')\n",
        "\n",
        "# changing the datatype from int64 to uint8\n",
        "for c in aug_allerg.columns:\n",
        "  if aug_allerg[c].dtype == 'int64':\n",
        "    aug_allerg[c] = aug_allerg[c].astype('uint8')\n",
        "\n",
        "aug_allerg.head()"
      ]
    },
    {
      "attachments": {},
      "cell_type": "markdown",
      "metadata": {
        "id": "wC2J2aPBkMnL"
      },
      "source": [
        "Secondly, we obtain dummy variables separately for the `Seasoning` column which results in binary columns representing the presence or absence of each unique allergen."
      ]
    },
    {
      "cell_type": "code",
      "execution_count": 377,
      "metadata": {
        "colab": {
          "base_uri": "https://localhost:8080/",
          "height": 300
        },
        "id": "DyotmL_BkMnL",
        "outputId": "7f6cf282-14bf-47ef-c7bb-1c2a64cb4e6b"
      },
      "outputs": [
        {
          "data": {
            "text/html": [
              "<div>\n",
              "<style scoped>\n",
              "    .dataframe tbody tr th:only-of-type {\n",
              "        vertical-align: middle;\n",
              "    }\n",
              "\n",
              "    .dataframe tbody tr th {\n",
              "        vertical-align: top;\n",
              "    }\n",
              "\n",
              "    .dataframe thead th {\n",
              "        text-align: right;\n",
              "    }\n",
              "</style>\n",
              "<table border=\"1\" class=\"dataframe\">\n",
              "  <thead>\n",
              "    <tr style=\"text-align: right;\">\n",
              "      <th></th>\n",
              "      <th>Seasoning_alfredosauce</th>\n",
              "      <th>Seasoning_almondmilk</th>\n",
              "      <th>Seasoning_almonds</th>\n",
              "      <th>Seasoning_apple</th>\n",
              "      <th>Seasoning_applecider</th>\n",
              "      <th>Seasoning_applejuice</th>\n",
              "      <th>Seasoning_arboriorice</th>\n",
              "      <th>Seasoning_avocado</th>\n",
              "      <th>Seasoning_bacon</th>\n",
              "      <th>Seasoning_bakingpowder</th>\n",
              "      <th>...</th>\n",
              "      <th>Seasoning_vegetablebroth</th>\n",
              "      <th>Seasoning_vegetableoil</th>\n",
              "      <th>Seasoning_vegetables</th>\n",
              "      <th>Seasoning_vinaigrette</th>\n",
              "      <th>Seasoning_vinegar</th>\n",
              "      <th>Seasoning_walnuts</th>\n",
              "      <th>Seasoning_wheatflour</th>\n",
              "      <th>Seasoning_yeast</th>\n",
              "      <th>Seasoning_yogurt</th>\n",
              "      <th>Seasoning_zucchini</th>\n",
              "    </tr>\n",
              "  </thead>\n",
              "  <tbody>\n",
              "    <tr>\n",
              "      <th>0</th>\n",
              "      <td>0</td>\n",
              "      <td>0</td>\n",
              "      <td>0</td>\n",
              "      <td>0</td>\n",
              "      <td>0</td>\n",
              "      <td>0</td>\n",
              "      <td>0</td>\n",
              "      <td>0</td>\n",
              "      <td>0</td>\n",
              "      <td>0</td>\n",
              "      <td>...</td>\n",
              "      <td>0</td>\n",
              "      <td>0</td>\n",
              "      <td>0</td>\n",
              "      <td>0</td>\n",
              "      <td>0</td>\n",
              "      <td>0</td>\n",
              "      <td>0</td>\n",
              "      <td>0</td>\n",
              "      <td>0</td>\n",
              "      <td>0</td>\n",
              "    </tr>\n",
              "    <tr>\n",
              "      <th>1</th>\n",
              "      <td>0</td>\n",
              "      <td>0</td>\n",
              "      <td>0</td>\n",
              "      <td>0</td>\n",
              "      <td>0</td>\n",
              "      <td>0</td>\n",
              "      <td>0</td>\n",
              "      <td>0</td>\n",
              "      <td>0</td>\n",
              "      <td>0</td>\n",
              "      <td>...</td>\n",
              "      <td>0</td>\n",
              "      <td>0</td>\n",
              "      <td>0</td>\n",
              "      <td>0</td>\n",
              "      <td>0</td>\n",
              "      <td>0</td>\n",
              "      <td>0</td>\n",
              "      <td>0</td>\n",
              "      <td>0</td>\n",
              "      <td>0</td>\n",
              "    </tr>\n",
              "    <tr>\n",
              "      <th>2</th>\n",
              "      <td>0</td>\n",
              "      <td>0</td>\n",
              "      <td>0</td>\n",
              "      <td>0</td>\n",
              "      <td>0</td>\n",
              "      <td>0</td>\n",
              "      <td>0</td>\n",
              "      <td>0</td>\n",
              "      <td>0</td>\n",
              "      <td>0</td>\n",
              "      <td>...</td>\n",
              "      <td>0</td>\n",
              "      <td>0</td>\n",
              "      <td>0</td>\n",
              "      <td>0</td>\n",
              "      <td>0</td>\n",
              "      <td>0</td>\n",
              "      <td>0</td>\n",
              "      <td>0</td>\n",
              "      <td>0</td>\n",
              "      <td>0</td>\n",
              "    </tr>\n",
              "    <tr>\n",
              "      <th>3</th>\n",
              "      <td>0</td>\n",
              "      <td>0</td>\n",
              "      <td>0</td>\n",
              "      <td>0</td>\n",
              "      <td>0</td>\n",
              "      <td>0</td>\n",
              "      <td>0</td>\n",
              "      <td>0</td>\n",
              "      <td>0</td>\n",
              "      <td>0</td>\n",
              "      <td>...</td>\n",
              "      <td>0</td>\n",
              "      <td>0</td>\n",
              "      <td>0</td>\n",
              "      <td>0</td>\n",
              "      <td>0</td>\n",
              "      <td>0</td>\n",
              "      <td>0</td>\n",
              "      <td>0</td>\n",
              "      <td>0</td>\n",
              "      <td>0</td>\n",
              "    </tr>\n",
              "    <tr>\n",
              "      <th>4</th>\n",
              "      <td>0</td>\n",
              "      <td>0</td>\n",
              "      <td>0</td>\n",
              "      <td>0</td>\n",
              "      <td>0</td>\n",
              "      <td>0</td>\n",
              "      <td>0</td>\n",
              "      <td>0</td>\n",
              "      <td>0</td>\n",
              "      <td>0</td>\n",
              "      <td>...</td>\n",
              "      <td>0</td>\n",
              "      <td>0</td>\n",
              "      <td>0</td>\n",
              "      <td>0</td>\n",
              "      <td>0</td>\n",
              "      <td>0</td>\n",
              "      <td>0</td>\n",
              "      <td>0</td>\n",
              "      <td>0</td>\n",
              "      <td>0</td>\n",
              "    </tr>\n",
              "  </tbody>\n",
              "</table>\n",
              "<p>5 rows × 216 columns</p>\n",
              "</div>"
            ],
            "text/plain": [
              "   Seasoning_alfredosauce  Seasoning_almondmilk  Seasoning_almonds  \\\n",
              "0                       0                     0                  0   \n",
              "1                       0                     0                  0   \n",
              "2                       0                     0                  0   \n",
              "3                       0                     0                  0   \n",
              "4                       0                     0                  0   \n",
              "\n",
              "   Seasoning_apple  Seasoning_applecider  Seasoning_applejuice  \\\n",
              "0                0                     0                     0   \n",
              "1                0                     0                     0   \n",
              "2                0                     0                     0   \n",
              "3                0                     0                     0   \n",
              "4                0                     0                     0   \n",
              "\n",
              "   Seasoning_arboriorice  Seasoning_avocado  Seasoning_bacon  \\\n",
              "0                      0                  0                0   \n",
              "1                      0                  0                0   \n",
              "2                      0                  0                0   \n",
              "3                      0                  0                0   \n",
              "4                      0                  0                0   \n",
              "\n",
              "   Seasoning_bakingpowder  ...  Seasoning_vegetablebroth  \\\n",
              "0                       0  ...                         0   \n",
              "1                       0  ...                         0   \n",
              "2                       0  ...                         0   \n",
              "3                       0  ...                         0   \n",
              "4                       0  ...                         0   \n",
              "\n",
              "   Seasoning_vegetableoil  Seasoning_vegetables  Seasoning_vinaigrette  \\\n",
              "0                       0                     0                      0   \n",
              "1                       0                     0                      0   \n",
              "2                       0                     0                      0   \n",
              "3                       0                     0                      0   \n",
              "4                       0                     0                      0   \n",
              "\n",
              "   Seasoning_vinegar  Seasoning_walnuts  Seasoning_wheatflour  \\\n",
              "0                  0                  0                     0   \n",
              "1                  0                  0                     0   \n",
              "2                  0                  0                     0   \n",
              "3                  0                  0                     0   \n",
              "4                  0                  0                     0   \n",
              "\n",
              "   Seasoning_yeast  Seasoning_yogurt  Seasoning_zucchini  \n",
              "0                0                 0                   0  \n",
              "1                0                 0                   0  \n",
              "2                0                 0                   0  \n",
              "3                0                 0                   0  \n",
              "4                0                 0                   0  \n",
              "\n",
              "[5 rows x 216 columns]"
            ]
          },
          "execution_count": 377,
          "metadata": {},
          "output_type": "execute_result"
        }
      ],
      "source": [
        "aug_season = aug_food['Seasoning'].str.replace(' ', '').str.get_dummies(',')\n",
        "aug_season = aug_season.add_prefix('Seasoning_')\n",
        "\n",
        "# changing the datatype from int64 to uint8\n",
        "for c in aug_season.columns:\n",
        "  if aug_season[c].dtype == 'int64':\n",
        "    aug_season[c] = aug_season[c].astype('uint8')\n",
        "\n",
        "aug_season.head()"
      ]
    },
    {
      "attachments": {},
      "cell_type": "markdown",
      "metadata": {
        "id": "Pj5xAaqQkMnP"
      },
      "source": [
        "The remaining columns of the food allergen dataframe, excluding `Allergens` and `Seasoning`, are transformed into dummy variables."
      ]
    },
    {
      "cell_type": "code",
      "execution_count": 378,
      "metadata": {
        "colab": {
          "base_uri": "https://localhost:8080/",
          "height": 334
        },
        "id": "VQd6vW_RkMnP",
        "outputId": "46a75cac-d037-4cb7-abf3-771973f67b99"
      },
      "outputs": [
        {
          "data": {
            "text/html": [
              "<div>\n",
              "<style scoped>\n",
              "    .dataframe tbody tr th:only-of-type {\n",
              "        vertical-align: middle;\n",
              "    }\n",
              "\n",
              "    .dataframe tbody tr th {\n",
              "        vertical-align: top;\n",
              "    }\n",
              "\n",
              "    .dataframe thead th {\n",
              "        text-align: right;\n",
              "    }\n",
              "</style>\n",
              "<table border=\"1\" class=\"dataframe\">\n",
              "  <thead>\n",
              "    <tr style=\"text-align: right;\">\n",
              "      <th></th>\n",
              "      <th>Prediction</th>\n",
              "      <th>Food Product_aloo gobi</th>\n",
              "      <th>Food Product_aloo paratha</th>\n",
              "      <th>Food Product_apple</th>\n",
              "      <th>Food Product_apple cider</th>\n",
              "      <th>Food Product_apple crisp</th>\n",
              "      <th>Food Product_apple pie</th>\n",
              "      <th>Food Product_apple sauce</th>\n",
              "      <th>Food Product_apple tart</th>\n",
              "      <th>Food Product_arabic fattoush</th>\n",
              "      <th>...</th>\n",
              "      <th>Fat/Oil_peanut oil</th>\n",
              "      <th>Fat/Oil_pesto sauce</th>\n",
              "      <th>Fat/Oil_sesame oil</th>\n",
              "      <th>Fat/Oil_sour cream</th>\n",
              "      <th>Fat/Oil_soy sauce</th>\n",
              "      <th>Fat/Oil_vegetable oil</th>\n",
              "      <th>Fat/Oil_water</th>\n",
              "      <th>Fat/Oil_whipped cream</th>\n",
              "      <th>Fat/Oil_yogurt</th>\n",
              "      <th>Fat/Oil_yogurt (milk, cultures)</th>\n",
              "    </tr>\n",
              "  </thead>\n",
              "  <tbody>\n",
              "    <tr>\n",
              "      <th>0</th>\n",
              "      <td>1</td>\n",
              "      <td>0</td>\n",
              "      <td>0</td>\n",
              "      <td>0</td>\n",
              "      <td>0</td>\n",
              "      <td>0</td>\n",
              "      <td>0</td>\n",
              "      <td>0</td>\n",
              "      <td>0</td>\n",
              "      <td>0</td>\n",
              "      <td>...</td>\n",
              "      <td>0</td>\n",
              "      <td>0</td>\n",
              "      <td>0</td>\n",
              "      <td>0</td>\n",
              "      <td>0</td>\n",
              "      <td>0</td>\n",
              "      <td>0</td>\n",
              "      <td>0</td>\n",
              "      <td>0</td>\n",
              "      <td>0</td>\n",
              "    </tr>\n",
              "    <tr>\n",
              "      <th>1</th>\n",
              "      <td>1</td>\n",
              "      <td>0</td>\n",
              "      <td>0</td>\n",
              "      <td>0</td>\n",
              "      <td>0</td>\n",
              "      <td>0</td>\n",
              "      <td>0</td>\n",
              "      <td>0</td>\n",
              "      <td>0</td>\n",
              "      <td>0</td>\n",
              "      <td>...</td>\n",
              "      <td>0</td>\n",
              "      <td>0</td>\n",
              "      <td>0</td>\n",
              "      <td>0</td>\n",
              "      <td>0</td>\n",
              "      <td>0</td>\n",
              "      <td>0</td>\n",
              "      <td>0</td>\n",
              "      <td>0</td>\n",
              "      <td>0</td>\n",
              "    </tr>\n",
              "    <tr>\n",
              "      <th>2</th>\n",
              "      <td>1</td>\n",
              "      <td>0</td>\n",
              "      <td>0</td>\n",
              "      <td>0</td>\n",
              "      <td>0</td>\n",
              "      <td>0</td>\n",
              "      <td>0</td>\n",
              "      <td>0</td>\n",
              "      <td>0</td>\n",
              "      <td>0</td>\n",
              "      <td>...</td>\n",
              "      <td>0</td>\n",
              "      <td>0</td>\n",
              "      <td>0</td>\n",
              "      <td>0</td>\n",
              "      <td>0</td>\n",
              "      <td>0</td>\n",
              "      <td>0</td>\n",
              "      <td>0</td>\n",
              "      <td>0</td>\n",
              "      <td>0</td>\n",
              "    </tr>\n",
              "    <tr>\n",
              "      <th>3</th>\n",
              "      <td>1</td>\n",
              "      <td>0</td>\n",
              "      <td>0</td>\n",
              "      <td>0</td>\n",
              "      <td>0</td>\n",
              "      <td>0</td>\n",
              "      <td>0</td>\n",
              "      <td>0</td>\n",
              "      <td>0</td>\n",
              "      <td>0</td>\n",
              "      <td>...</td>\n",
              "      <td>0</td>\n",
              "      <td>0</td>\n",
              "      <td>0</td>\n",
              "      <td>0</td>\n",
              "      <td>0</td>\n",
              "      <td>1</td>\n",
              "      <td>0</td>\n",
              "      <td>0</td>\n",
              "      <td>0</td>\n",
              "      <td>0</td>\n",
              "    </tr>\n",
              "    <tr>\n",
              "      <th>4</th>\n",
              "      <td>1</td>\n",
              "      <td>0</td>\n",
              "      <td>0</td>\n",
              "      <td>0</td>\n",
              "      <td>0</td>\n",
              "      <td>0</td>\n",
              "      <td>0</td>\n",
              "      <td>0</td>\n",
              "      <td>0</td>\n",
              "      <td>0</td>\n",
              "      <td>...</td>\n",
              "      <td>0</td>\n",
              "      <td>0</td>\n",
              "      <td>0</td>\n",
              "      <td>0</td>\n",
              "      <td>0</td>\n",
              "      <td>0</td>\n",
              "      <td>0</td>\n",
              "      <td>0</td>\n",
              "      <td>0</td>\n",
              "      <td>0</td>\n",
              "    </tr>\n",
              "  </tbody>\n",
              "</table>\n",
              "<p>5 rows × 519 columns</p>\n",
              "</div>"
            ],
            "text/plain": [
              "   Prediction  Food Product_aloo gobi  Food Product_aloo paratha  \\\n",
              "0           1                       0                          0   \n",
              "1           1                       0                          0   \n",
              "2           1                       0                          0   \n",
              "3           1                       0                          0   \n",
              "4           1                       0                          0   \n",
              "\n",
              "   Food Product_apple  Food Product_apple cider  Food Product_apple crisp  \\\n",
              "0                   0                         0                         0   \n",
              "1                   0                         0                         0   \n",
              "2                   0                         0                         0   \n",
              "3                   0                         0                         0   \n",
              "4                   0                         0                         0   \n",
              "\n",
              "   Food Product_apple pie  Food Product_apple sauce  Food Product_apple tart  \\\n",
              "0                       0                         0                        0   \n",
              "1                       0                         0                        0   \n",
              "2                       0                         0                        0   \n",
              "3                       0                         0                        0   \n",
              "4                       0                         0                        0   \n",
              "\n",
              "   Food Product_arabic fattoush  ...  Fat/Oil_peanut oil  Fat/Oil_pesto sauce  \\\n",
              "0                             0  ...                   0                    0   \n",
              "1                             0  ...                   0                    0   \n",
              "2                             0  ...                   0                    0   \n",
              "3                             0  ...                   0                    0   \n",
              "4                             0  ...                   0                    0   \n",
              "\n",
              "   Fat/Oil_sesame oil  Fat/Oil_sour cream  Fat/Oil_soy sauce  \\\n",
              "0                   0                   0                  0   \n",
              "1                   0                   0                  0   \n",
              "2                   0                   0                  0   \n",
              "3                   0                   0                  0   \n",
              "4                   0                   0                  0   \n",
              "\n",
              "   Fat/Oil_vegetable oil  Fat/Oil_water  Fat/Oil_whipped cream  \\\n",
              "0                      0              0                      0   \n",
              "1                      0              0                      0   \n",
              "2                      0              0                      0   \n",
              "3                      1              0                      0   \n",
              "4                      0              0                      0   \n",
              "\n",
              "   Fat/Oil_yogurt  Fat/Oil_yogurt (milk, cultures)  \n",
              "0               0                                0  \n",
              "1               0                                0  \n",
              "2               0                                0  \n",
              "3               0                                0  \n",
              "4               0                                0  \n",
              "\n",
              "[5 rows x 519 columns]"
            ]
          },
          "execution_count": 378,
          "metadata": {},
          "output_type": "execute_result"
        }
      ],
      "source": [
        "aug_food.drop(['Seasoning','Allergens'], axis=1, inplace=True)\n",
        "# performing one-hot encoding on categorical columns\n",
        "aug_food = pd.get_dummies(aug_food, drop_first=True)\n",
        "\n",
        "# showing the dataset\n",
        "aug_food.head()"
      ]
    },
    {
      "attachments": {},
      "cell_type": "markdown",
      "metadata": {
        "id": "T1k1bjzBkMnQ"
      },
      "source": [
        "Finally, we combine the three dataframes together into the desired single encoded dataframe using the `pd.concat()` method. This consolidated dataframe can then be used for subsequent modeling. Lastly, we then move the `Prediction` column at the last column."
      ]
    },
    {
      "cell_type": "code",
      "execution_count": 379,
      "metadata": {
        "colab": {
          "base_uri": "https://localhost:8080/",
          "height": 369
        },
        "id": "zCO2p9nRkMnQ",
        "outputId": "2da58690-3ec6-4845-a844-bae8ae5524af"
      },
      "outputs": [
        {
          "data": {
            "text/html": [
              "<div>\n",
              "<style scoped>\n",
              "    .dataframe tbody tr th:only-of-type {\n",
              "        vertical-align: middle;\n",
              "    }\n",
              "\n",
              "    .dataframe tbody tr th {\n",
              "        vertical-align: top;\n",
              "    }\n",
              "\n",
              "    .dataframe thead th {\n",
              "        text-align: right;\n",
              "    }\n",
              "</style>\n",
              "<table border=\"1\" class=\"dataframe\">\n",
              "  <thead>\n",
              "    <tr style=\"text-align: right;\">\n",
              "      <th></th>\n",
              "      <th>Food Product_aloo gobi</th>\n",
              "      <th>Food Product_aloo paratha</th>\n",
              "      <th>Food Product_apple</th>\n",
              "      <th>Food Product_apple cider</th>\n",
              "      <th>Food Product_apple crisp</th>\n",
              "      <th>Food Product_apple pie</th>\n",
              "      <th>Food Product_apple sauce</th>\n",
              "      <th>Food Product_apple tart</th>\n",
              "      <th>Food Product_arabic fattoush</th>\n",
              "      <th>Food Product_arancini</th>\n",
              "      <th>...</th>\n",
              "      <th>Allergens_peanuts</th>\n",
              "      <th>Allergens_pinenuts</th>\n",
              "      <th>Allergens_pork</th>\n",
              "      <th>Allergens_rice</th>\n",
              "      <th>Allergens_shellfish</th>\n",
              "      <th>Allergens_shrimp</th>\n",
              "      <th>Allergens_soybeans</th>\n",
              "      <th>Allergens_strawberries</th>\n",
              "      <th>Allergens_wheat</th>\n",
              "      <th>Prediction</th>\n",
              "    </tr>\n",
              "  </thead>\n",
              "  <tbody>\n",
              "    <tr>\n",
              "      <th>0</th>\n",
              "      <td>0</td>\n",
              "      <td>0</td>\n",
              "      <td>0</td>\n",
              "      <td>0</td>\n",
              "      <td>0</td>\n",
              "      <td>0</td>\n",
              "      <td>0</td>\n",
              "      <td>0</td>\n",
              "      <td>0</td>\n",
              "      <td>0</td>\n",
              "      <td>...</td>\n",
              "      <td>0</td>\n",
              "      <td>0</td>\n",
              "      <td>0</td>\n",
              "      <td>0</td>\n",
              "      <td>0</td>\n",
              "      <td>0</td>\n",
              "      <td>0</td>\n",
              "      <td>0</td>\n",
              "      <td>1</td>\n",
              "      <td>1</td>\n",
              "    </tr>\n",
              "    <tr>\n",
              "      <th>1</th>\n",
              "      <td>0</td>\n",
              "      <td>0</td>\n",
              "      <td>0</td>\n",
              "      <td>0</td>\n",
              "      <td>0</td>\n",
              "      <td>0</td>\n",
              "      <td>0</td>\n",
              "      <td>0</td>\n",
              "      <td>0</td>\n",
              "      <td>0</td>\n",
              "      <td>...</td>\n",
              "      <td>0</td>\n",
              "      <td>0</td>\n",
              "      <td>0</td>\n",
              "      <td>0</td>\n",
              "      <td>0</td>\n",
              "      <td>0</td>\n",
              "      <td>0</td>\n",
              "      <td>0</td>\n",
              "      <td>1</td>\n",
              "      <td>1</td>\n",
              "    </tr>\n",
              "    <tr>\n",
              "      <th>2</th>\n",
              "      <td>0</td>\n",
              "      <td>0</td>\n",
              "      <td>0</td>\n",
              "      <td>0</td>\n",
              "      <td>0</td>\n",
              "      <td>0</td>\n",
              "      <td>0</td>\n",
              "      <td>0</td>\n",
              "      <td>0</td>\n",
              "      <td>0</td>\n",
              "      <td>...</td>\n",
              "      <td>0</td>\n",
              "      <td>0</td>\n",
              "      <td>0</td>\n",
              "      <td>0</td>\n",
              "      <td>0</td>\n",
              "      <td>0</td>\n",
              "      <td>0</td>\n",
              "      <td>0</td>\n",
              "      <td>0</td>\n",
              "      <td>1</td>\n",
              "    </tr>\n",
              "    <tr>\n",
              "      <th>3</th>\n",
              "      <td>0</td>\n",
              "      <td>0</td>\n",
              "      <td>0</td>\n",
              "      <td>0</td>\n",
              "      <td>0</td>\n",
              "      <td>0</td>\n",
              "      <td>0</td>\n",
              "      <td>0</td>\n",
              "      <td>0</td>\n",
              "      <td>0</td>\n",
              "      <td>...</td>\n",
              "      <td>0</td>\n",
              "      <td>0</td>\n",
              "      <td>0</td>\n",
              "      <td>0</td>\n",
              "      <td>0</td>\n",
              "      <td>0</td>\n",
              "      <td>0</td>\n",
              "      <td>0</td>\n",
              "      <td>0</td>\n",
              "      <td>1</td>\n",
              "    </tr>\n",
              "    <tr>\n",
              "      <th>4</th>\n",
              "      <td>0</td>\n",
              "      <td>0</td>\n",
              "      <td>0</td>\n",
              "      <td>0</td>\n",
              "      <td>0</td>\n",
              "      <td>0</td>\n",
              "      <td>0</td>\n",
              "      <td>0</td>\n",
              "      <td>0</td>\n",
              "      <td>0</td>\n",
              "      <td>...</td>\n",
              "      <td>0</td>\n",
              "      <td>0</td>\n",
              "      <td>0</td>\n",
              "      <td>0</td>\n",
              "      <td>0</td>\n",
              "      <td>0</td>\n",
              "      <td>0</td>\n",
              "      <td>0</td>\n",
              "      <td>0</td>\n",
              "      <td>1</td>\n",
              "    </tr>\n",
              "  </tbody>\n",
              "</table>\n",
              "<p>5 rows × 764 columns</p>\n",
              "</div>"
            ],
            "text/plain": [
              "   Food Product_aloo gobi  Food Product_aloo paratha  Food Product_apple  \\\n",
              "0                       0                          0                   0   \n",
              "1                       0                          0                   0   \n",
              "2                       0                          0                   0   \n",
              "3                       0                          0                   0   \n",
              "4                       0                          0                   0   \n",
              "\n",
              "   Food Product_apple cider  Food Product_apple crisp  Food Product_apple pie  \\\n",
              "0                         0                         0                       0   \n",
              "1                         0                         0                       0   \n",
              "2                         0                         0                       0   \n",
              "3                         0                         0                       0   \n",
              "4                         0                         0                       0   \n",
              "\n",
              "   Food Product_apple sauce  Food Product_apple tart  \\\n",
              "0                         0                        0   \n",
              "1                         0                        0   \n",
              "2                         0                        0   \n",
              "3                         0                        0   \n",
              "4                         0                        0   \n",
              "\n",
              "   Food Product_arabic fattoush  Food Product_arancini  ...  \\\n",
              "0                             0                      0  ...   \n",
              "1                             0                      0  ...   \n",
              "2                             0                      0  ...   \n",
              "3                             0                      0  ...   \n",
              "4                             0                      0  ...   \n",
              "\n",
              "   Allergens_peanuts  Allergens_pinenuts  Allergens_pork  Allergens_rice  \\\n",
              "0                  0                   0               0               0   \n",
              "1                  0                   0               0               0   \n",
              "2                  0                   0               0               0   \n",
              "3                  0                   0               0               0   \n",
              "4                  0                   0               0               0   \n",
              "\n",
              "   Allergens_shellfish  Allergens_shrimp  Allergens_soybeans  \\\n",
              "0                    0                 0                   0   \n",
              "1                    0                 0                   0   \n",
              "2                    0                 0                   0   \n",
              "3                    0                 0                   0   \n",
              "4                    0                 0                   0   \n",
              "\n",
              "   Allergens_strawberries  Allergens_wheat  Prediction  \n",
              "0                       0                1           1  \n",
              "1                       0                1           1  \n",
              "2                       0                0           1  \n",
              "3                       0                0           1  \n",
              "4                       0                0           1  \n",
              "\n",
              "[5 rows x 764 columns]"
            ]
          },
          "execution_count": 379,
          "metadata": {},
          "output_type": "execute_result"
        }
      ],
      "source": [
        "# Join all columns using pd.concat()\n",
        "aug_food = pd.concat([aug_food, aug_season, aug_allerg], axis=1)\n",
        "\n",
        "# Moving the 'Prediction' column to the last position\n",
        "aug_food = aug_food[[col for col in aug_food.columns if col != 'Prediction'] + ['Prediction']]\n",
        "\n",
        "# Display the updated DataFrame\n",
        "aug_food.head()"
      ]
    },
    {
      "attachments": {},
      "cell_type": "markdown",
      "metadata": {
        "id": "mIiuYO5ikMnK"
      },
      "source": [
        "## **Preprocessed Dataset Features**\n",
        "\n",
        "The data features in the preprocessed dataset represent different food products such as \"Aloo Gobi\" and \"Apple Cider.\" These features are stored as unsigned 8-bit integers (`uint8`). We use `uint8` for efficient memory usage as the binary values of the features can be accommodated within this range (decimal values 0-255).\n",
        "\n",
        "We use the attribute `.dtypes` to show the datatype of the values in each column of the dataframe."
      ]
    },
    {
      "cell_type": "code",
      "execution_count": 380,
      "metadata": {
        "colab": {
          "base_uri": "https://localhost:8080/"
        },
        "id": "xQv83UCbkMnK",
        "outputId": "f4437b40-0921-4172-e741-b8e980d4a335"
      },
      "outputs": [
        {
          "data": {
            "text/plain": [
              "Food Product_aloo gobi       uint8\n",
              "Food Product_aloo paratha    uint8\n",
              "Food Product_apple           uint8\n",
              "Food Product_apple cider     uint8\n",
              "Food Product_apple crisp     uint8\n",
              "                             ...  \n",
              "Allergens_shrimp             uint8\n",
              "Allergens_soybeans           uint8\n",
              "Allergens_strawberries       uint8\n",
              "Allergens_wheat              uint8\n",
              "Prediction                   uint8\n",
              "Length: 764, dtype: object"
            ]
          },
          "execution_count": 380,
          "metadata": {},
          "output_type": "execute_result"
        }
      ],
      "source": [
        "aug_food.dtypes"
      ]
    },
    {
      "attachments": {},
      "cell_type": "markdown",
      "metadata": {
        "id": "M6QlKYbJs6Ng"
      },
      "source": [
        "# **Data Modeling**\n",
        "\n",
        "After cleaning and preprocessing the data, we can now proceed to modeling the data using multi-label classification and Random Forest Classifier."
      ]
    },
    {
      "attachments": {},
      "cell_type": "markdown",
      "metadata": {
        "id": "94lZrPDBhLv7"
      },
      "source": [
        "## **Training the Model**"
      ]
    },
    {
      "attachments": {},
      "cell_type": "markdown",
      "metadata": {
        "id": "p9tg1euokMnQ"
      },
      "source": [
        "**Random Forest** is a commonly used machine learning model that is often effective in handling high-dimensional data (Zhang et. al, 2023), which is particularly relevant to our dataset since it encompasses a large number of food products and their allergens. It is a combination of one or more hierarchical predictive models called decision trees, yielding the modal class as the output for the classification task (Pillai & Malhotra, 2020). Recently, the study about oral food challenges demonstrated that the Random Forest Classifier achieved the best performance in terms of the Area Under a Curve metric for each food allergen (Zhang et. al, 2023). \n",
        "\n",
        "Thus, we begin our data modeling by instantiating a **random forest classifier**, an ensemble-based machine learning algorithm commonly used for classification tasks. The classifier is configured as follows:\n",
        "- **100** decision trees\n",
        "- maximum depth of **10**\n",
        "- random seed of **42**"
      ]
    },
    {
      "cell_type": "code",
      "execution_count": 381,
      "metadata": {
        "id": "U_jkwrXxRBhD"
      },
      "outputs": [],
      "source": [
        "from sklearn.ensemble import RandomForestClassifier\n",
        "classifier = RandomForestClassifier(n_estimators=100, max_depth=10, random_state=42)"
      ]
    },
    {
      "attachments": {},
      "cell_type": "markdown",
      "metadata": {
        "id": "yIwnmDcHkMnQ"
      },
      "source": [
        "We assign the variable `X` to the `aug_food` dataframe with the `Prediction` column dropped, representing the input features. Similarly, the variable `y` is assigned to the `Prediction` column, representing the target variable."
      ]
    },
    {
      "cell_type": "code",
      "execution_count": 382,
      "metadata": {
        "id": "BT4jpVp3s-Yz"
      },
      "outputs": [],
      "source": [
        "from sklearn.model_selection import train_test_split\n",
        "\n",
        "X = aug_food.drop('Prediction', axis = 1)\n",
        "y = aug_food['Prediction']"
      ]
    },
    {
      "attachments": {},
      "cell_type": "markdown",
      "metadata": {
        "id": "fzw2z5z3kMnR"
      },
      "source": [
        "The next step is to split the data into training and testing subsets via the `train_test_split` function. The split is performed such that 70% of the data is assigned to the training set, while 30% is assigned to the testing set. Subsequently, the X train and Y train subsets are fitted using the Random Forest Classifier."
      ]
    },
    {
      "cell_type": "code",
      "execution_count": 383,
      "metadata": {
        "id": "vOCa_BntQ8BY"
      },
      "outputs": [],
      "source": [
        "X_train,X_test,y_train,y_test = train_test_split(X,y, test_size=0.3)"
      ]
    },
    {
      "cell_type": "code",
      "execution_count": 384,
      "metadata": {
        "colab": {
          "base_uri": "https://localhost:8080/",
          "height": 75
        },
        "id": "u1dzR8XIRFjE",
        "outputId": "afa82553-2de9-4b6a-f056-a6b4a60e845a"
      },
      "outputs": [
        {
          "data": {
            "text/html": [
              "<style>#sk-container-id-15 {color: black;background-color: white;}#sk-container-id-15 pre{padding: 0;}#sk-container-id-15 div.sk-toggleable {background-color: white;}#sk-container-id-15 label.sk-toggleable__label {cursor: pointer;display: block;width: 100%;margin-bottom: 0;padding: 0.3em;box-sizing: border-box;text-align: center;}#sk-container-id-15 label.sk-toggleable__label-arrow:before {content: \"▸\";float: left;margin-right: 0.25em;color: #696969;}#sk-container-id-15 label.sk-toggleable__label-arrow:hover:before {color: black;}#sk-container-id-15 div.sk-estimator:hover label.sk-toggleable__label-arrow:before {color: black;}#sk-container-id-15 div.sk-toggleable__content {max-height: 0;max-width: 0;overflow: hidden;text-align: left;background-color: #f0f8ff;}#sk-container-id-15 div.sk-toggleable__content pre {margin: 0.2em;color: black;border-radius: 0.25em;background-color: #f0f8ff;}#sk-container-id-15 input.sk-toggleable__control:checked~div.sk-toggleable__content {max-height: 200px;max-width: 100%;overflow: auto;}#sk-container-id-15 input.sk-toggleable__control:checked~label.sk-toggleable__label-arrow:before {content: \"▾\";}#sk-container-id-15 div.sk-estimator input.sk-toggleable__control:checked~label.sk-toggleable__label {background-color: #d4ebff;}#sk-container-id-15 div.sk-label input.sk-toggleable__control:checked~label.sk-toggleable__label {background-color: #d4ebff;}#sk-container-id-15 input.sk-hidden--visually {border: 0;clip: rect(1px 1px 1px 1px);clip: rect(1px, 1px, 1px, 1px);height: 1px;margin: -1px;overflow: hidden;padding: 0;position: absolute;width: 1px;}#sk-container-id-15 div.sk-estimator {font-family: monospace;background-color: #f0f8ff;border: 1px dotted black;border-radius: 0.25em;box-sizing: border-box;margin-bottom: 0.5em;}#sk-container-id-15 div.sk-estimator:hover {background-color: #d4ebff;}#sk-container-id-15 div.sk-parallel-item::after {content: \"\";width: 100%;border-bottom: 1px solid gray;flex-grow: 1;}#sk-container-id-15 div.sk-label:hover label.sk-toggleable__label {background-color: #d4ebff;}#sk-container-id-15 div.sk-serial::before {content: \"\";position: absolute;border-left: 1px solid gray;box-sizing: border-box;top: 0;bottom: 0;left: 50%;z-index: 0;}#sk-container-id-15 div.sk-serial {display: flex;flex-direction: column;align-items: center;background-color: white;padding-right: 0.2em;padding-left: 0.2em;position: relative;}#sk-container-id-15 div.sk-item {position: relative;z-index: 1;}#sk-container-id-15 div.sk-parallel {display: flex;align-items: stretch;justify-content: center;background-color: white;position: relative;}#sk-container-id-15 div.sk-item::before, #sk-container-id-15 div.sk-parallel-item::before {content: \"\";position: absolute;border-left: 1px solid gray;box-sizing: border-box;top: 0;bottom: 0;left: 50%;z-index: -1;}#sk-container-id-15 div.sk-parallel-item {display: flex;flex-direction: column;z-index: 1;position: relative;background-color: white;}#sk-container-id-15 div.sk-parallel-item:first-child::after {align-self: flex-end;width: 50%;}#sk-container-id-15 div.sk-parallel-item:last-child::after {align-self: flex-start;width: 50%;}#sk-container-id-15 div.sk-parallel-item:only-child::after {width: 0;}#sk-container-id-15 div.sk-dashed-wrapped {border: 1px dashed gray;margin: 0 0.4em 0.5em 0.4em;box-sizing: border-box;padding-bottom: 0.4em;background-color: white;}#sk-container-id-15 div.sk-label label {font-family: monospace;font-weight: bold;display: inline-block;line-height: 1.2em;}#sk-container-id-15 div.sk-label-container {text-align: center;}#sk-container-id-15 div.sk-container {/* jupyter's `normalize.less` sets `[hidden] { display: none; }` but bootstrap.min.css set `[hidden] { display: none !important; }` so we also need the `!important` here to be able to override the default hidden behavior on the sphinx rendered scikit-learn.org. See: https://github.com/scikit-learn/scikit-learn/issues/21755 */display: inline-block !important;position: relative;}#sk-container-id-15 div.sk-text-repr-fallback {display: none;}</style><div id=\"sk-container-id-15\" class=\"sk-top-container\"><div class=\"sk-text-repr-fallback\"><pre>RandomForestClassifier(max_depth=10, random_state=42)</pre><b>In a Jupyter environment, please rerun this cell to show the HTML representation or trust the notebook. <br />On GitHub, the HTML representation is unable to render, please try loading this page with nbviewer.org.</b></div><div class=\"sk-container\" hidden><div class=\"sk-item\"><div class=\"sk-estimator sk-toggleable\"><input class=\"sk-toggleable__control sk-hidden--visually\" id=\"sk-estimator-id-15\" type=\"checkbox\" checked><label for=\"sk-estimator-id-15\" class=\"sk-toggleable__label sk-toggleable__label-arrow\">RandomForestClassifier</label><div class=\"sk-toggleable__content\"><pre>RandomForestClassifier(max_depth=10, random_state=42)</pre></div></div></div></div></div>"
            ],
            "text/plain": [
              "RandomForestClassifier(max_depth=10, random_state=42)"
            ]
          },
          "execution_count": 384,
          "metadata": {},
          "output_type": "execute_result"
        }
      ],
      "source": [
        "classifier.fit(X_train,y_train)"
      ]
    },
    {
      "attachments": {},
      "cell_type": "markdown",
      "metadata": {
        "id": "dBJJEFAIu8DJ"
      },
      "source": [
        "## **Saving the Model**\n",
        "\n"
      ]
    },
    {
      "attachments": {},
      "cell_type": "markdown",
      "metadata": {
        "id": "ELtlIDf-e4Rz"
      },
      "source": [
        "The last step is to save the model pickle file using pickle's `.dump()`. This can then be loaded in the webapp to predict results."
      ]
    },
    {
      "cell_type": "code",
      "execution_count": 385,
      "metadata": {
        "id": "S7Q3iR15vCYc"
      },
      "outputs": [],
      "source": [
        "import pickle\n",
        "\n",
        "filename = \"model.pkl\"\n",
        "\n",
        "# save model\n",
        "# pickle.dump(classifier, open(filename, \"wb\"))"
      ]
    },
    {
      "attachments": {},
      "cell_type": "markdown",
      "metadata": {
        "id": "Lzv9gh3lg_it"
      },
      "source": [
        "# **Results**"
      ]
    },
    {
      "attachments": {},
      "cell_type": "markdown",
      "metadata": {
        "id": "BB-xmHKTdNku"
      },
      "source": [
        "We check for the accuracy of the model below using the method `.score()`. This utilizes `X_test` to create predictions in the background and uses those predictions to determine the testing accuracy score."
      ]
    },
    {
      "cell_type": "code",
      "execution_count": 386,
      "metadata": {
        "colab": {
          "base_uri": "https://localhost:8080/"
        },
        "id": "gG_bIStqRKX6",
        "outputId": "f76276ee-a05b-4304-995c-2ca626f8e529"
      },
      "outputs": [
        {
          "data": {
            "text/plain": [
              "0.975"
            ]
          },
          "execution_count": 386,
          "metadata": {},
          "output_type": "execute_result"
        }
      ],
      "source": [
        "classifier.score(X_test, y_test)"
      ]
    },
    {
      "attachments": {},
      "cell_type": "markdown",
      "metadata": {
        "id": "frYX6l4ofyQ7"
      },
      "source": [
        "The prediction summary is shown as a confusion matrix using sklearn's `confusion_matrix`. It displays the number of accurate and wrong predictions made for each class. It aids in clarifying the classes that models mistake for other classes."
      ]
    },
    {
      "cell_type": "code",
      "execution_count": 387,
      "metadata": {
        "colab": {
          "base_uri": "https://localhost:8080/"
        },
        "id": "S54N94o5WIBO",
        "outputId": "088f4e16-ae10-4b7f-89c2-71d0a64204e0"
      },
      "outputs": [
        {
          "name": "stdout",
          "output_type": "stream",
          "text": [
            "Confusion Matrix: \n",
            " [[37  2]\n",
            " [ 1 80]]\n"
          ]
        }
      ],
      "source": [
        "from sklearn.metrics import classification_report, confusion_matrix\n",
        "pred = classifier.predict(X_test)\n",
        "print('Confusion Matrix: \\n', confusion_matrix(y_test,pred))"
      ]
    },
    {
      "cell_type": "code",
      "execution_count": 388,
      "metadata": {
        "colab": {
          "base_uri": "https://localhost:8080/"
        },
        "id": "_NGDh71GYSPG",
        "outputId": "87ab615c-da97-4f0c-9445-0e671f7a923b"
      },
      "outputs": [
        {
          "name": "stdout",
          "output_type": "stream",
          "text": [
            "Classification Report: \n",
            "               precision    recall  f1-score   support\n",
            "\n",
            "           0       0.97      0.95      0.96        39\n",
            "           1       0.98      0.99      0.98        81\n",
            "\n",
            "    accuracy                           0.97       120\n",
            "   macro avg       0.97      0.97      0.97       120\n",
            "weighted avg       0.97      0.97      0.97       120\n",
            "\n"
          ]
        }
      ],
      "source": [
        "print('Classification Report: \\n', classification_report(y_test,pred))"
      ]
    },
    {
      "attachments": {},
      "cell_type": "markdown",
      "metadata": {
        "id": "ArapSOq1eXv2"
      },
      "source": [
        "Finally, we compare the accuracy scores of the model using the training set, and the testing set. This can be done using sklearn's `accuracy_score()`."
      ]
    },
    {
      "cell_type": "code",
      "execution_count": 389,
      "metadata": {
        "colab": {
          "base_uri": "https://localhost:8080/"
        },
        "id": "oGFuTWQQZUG5",
        "outputId": "6a4000e9-79a5-4e2b-ad7a-180d55446c92"
      },
      "outputs": [
        {
          "name": "stdout",
          "output_type": "stream",
          "text": [
            "Training Accuracy: 0.9928571428571429\n",
            "Testing Accuracy: 0.975\n"
          ]
        }
      ],
      "source": [
        "from sklearn.metrics import accuracy_score\n",
        "# evaluating performance on the training set\n",
        "train_predictions = classifier.predict(X_train)\n",
        "train_accuracy = accuracy_score(y_train, train_predictions)\n",
        "print(\"Training Accuracy:\", train_accuracy)\n",
        "\n",
        "# evaluating performance on the validation set\n",
        "test_predictions = classifier.predict(X_test)\n",
        "test_accuracy = accuracy_score(y_test, test_predictions)\n",
        "print(\"Testing Accuracy:\", test_accuracy)"
      ]
    },
    {
      "attachments": {},
      "cell_type": "markdown",
      "metadata": {},
      "source": [
        "We also plot the ROC (Receiver Operating Characteristic) curve, which is created by plotting the true positive rateagainst the false positive rate at different classification thresholds. Due to this, we are able to assess the classifier's performance in accurately identifying food products that contain allergens and those that do not contain allergens. Here we use the same Random Forest classifier to generate predicted probabilities (`.predict_proba`) for the testing data `y_pred`. \n",
        "\n",
        "The `roc_curve` function  computes the false positive rate (FPR), true positive rate (TPR), and thresholds based on the predicted probabilities and the true labels (y_test). The  `auc` function calculates the area under the ROC curve (AUC). Finally, the ROC curve is plotted using `matplotlib.pyplot`, displaying the AUC value and the diagonal reference line representing random guessing. \n",
        "\n",
        "The nearly horizontal line observed in the ROC curve, particularly at or close to the y-value of 1.0, implies that the classifier is consistently predicting positive instances (food products containing allergens) regardless of the classification threshold used."
      ]
    },
    {
      "cell_type": "code",
      "execution_count": 390,
      "metadata": {},
      "outputs": [
        {
          "data": {
            "image/png": "[encoded data removed]",
            "text/plain": [
              "<Figure size 432x288 with 1 Axes>"
            ]
          },
          "metadata": {
            "needs_background": "light"
          },
          "output_type": "display_data"
        }
      ],
      "source": [
        "import matplotlib.pyplot as plt\n",
        "from sklearn.metrics import roc_curve, auc\n",
        "\n",
        "# Generate predictions for the testing data\n",
        "y_pred = classifier.predict_proba(X_test)[:, 1]  # Assuming binary classification\n",
        "\n",
        "# Compute the false positive rate (FPR), true positive rate (TPR), and thresholds\n",
        "fpr, tpr, thresholds = roc_curve(y_test, y_pred)\n",
        "\n",
        "# Calculate the area under the ROC curve (AUC)\n",
        "roc_auc = auc(fpr, tpr)\n",
        "\n",
        "# Plot the ROC curve\n",
        "plt.figure()\n",
        "plt.plot(fpr, tpr, color='darkorange', label='ROC curve (AUC = %0.3f)' % roc_auc)\n",
        "plt.plot([0, 1], [0, 1], color='navy', linestyle='--')\n",
        "plt.xlim([0.0, 1.0])\n",
        "plt.ylim([0.0, 1.05])\n",
        "plt.xlabel('False Positive Rate')\n",
        "plt.ylabel('True Positive Rate')\n",
        "plt.title('Receiver Operating Characteristic')\n",
        "plt.legend(loc=\"lower right\")\n",
        "plt.show()\n",
        "\n"
      ]
    },
    {
      "attachments": {},
      "cell_type": "markdown",
      "metadata": {},
      "source": [
        "We also check the **precision-recall curve** to examine the tradeoff between precision and recall for various thresholds. The curve illustrates the relationship between these two metrics, with a higher area under the curve indicating both high precision and high recall. \n",
        "\n",
        "The horizontal line at a precision value of 1 approaching the point (1,1) indicates that the classifier is consistently identifying positive instances (e.g., food products containing allergens) with both high precision (low false positive rate) and high recall (low false negative rate)."
      ]
    },
    {
      "cell_type": "code",
      "execution_count": 391,
      "metadata": {},
      "outputs": [
        {
          "data": {
            "image/png": "[encoded data removed]",
            "text/plain": [
              "<Figure size 432x288 with 1 Axes>"
            ]
          },
          "metadata": {
            "needs_background": "light"
          },
          "output_type": "display_data"
        }
      ],
      "source": [
        "import matplotlib.pyplot as plt\n",
        "from sklearn.metrics import precision_recall_curve\n",
        "\n",
        "# Assuming you have the true labels (y_true) and predicted probabilities for positive class (y_pred_probs)\n",
        "precision, recall, thresholds = precision_recall_curve(y_test, y_pred)\n",
        "\n",
        "# Plotting the Precision-Recall curve\n",
        "plt.plot(recall, precision, marker='.')\n",
        "plt.xlabel('Recall')\n",
        "plt.ylabel('Precision')\n",
        "plt.title('Precision-Recall Curve')\n",
        "plt.show()\n"
      ]
    },
    {
      "attachments": {},
      "cell_type": "markdown",
      "metadata": {},
      "source": [
        "Meanwhile, we also analyze feature importances to determine the relative importance of each feature in influencing the system's predictions. Most notably is the the presence/absence of the `Allergens_none` feature being the most important factor for determining the predictions in the food allergen detection system, with  the highest importance score. This suggests that whether a food product is labelled to contain any allergens or not has a significant impact on the classification outcome.\n",
        "\n",
        "When training the model, if a food product is said to not contain any allergens, it is likely to be classified as safe for individuals with food allergies. Therefore, the absence of allergens becomes a crucial feature in making accurate predictions."
      ]
    },
    {
      "cell_type": "code",
      "execution_count": 364,
      "metadata": {},
      "outputs": [
        {
          "data": {
            "text/plain": [
              "Allergens_none                      0.295655\n",
              "Allergens_dairy                     0.115173\n",
              "Allergens_wheat                     0.071569\n",
              "Fat/Oil_butter                      0.032186\n",
              "Sweetener_none                      0.030193\n",
              "Sweetener_sugar                     0.017901\n",
              "Seasoning_none                      0.016399\n",
              "Allergens_fish                      0.016038\n",
              "Allergens_eggs                      0.013396\n",
              "Main Ingredient_mixed vegetables    0.012393\n",
              "Fat/Oil_olive oil                   0.011978\n",
              "Main Ingredient_tomatoes            0.009894\n",
              "Allergens_soybeans                  0.009619\n",
              "Seasoning_cilantro                  0.009384\n",
              "Fat/Oil_vegetable oil               0.008402\n",
              "Fat/Oil_none                        0.007625\n",
              "Seasoning_lemonjuice                0.007412\n",
              "Main Ingredient_quinoa              0.007092\n",
              "Seasoning_groundmeat                0.006905\n",
              "Seasoning_rice                      0.006849\n",
              "dtype: float64"
            ]
          },
          "execution_count": 364,
          "metadata": {},
          "output_type": "execute_result"
        }
      ],
      "source": [
        "pd.Series(classifier.feature_importances_, index=X.columns).sort_values(ascending=False).head(20)"
      ]
    }
  ],
  "metadata": {
    "colab": {
      "include_colab_link": true,
      "provenance": []
    },
    "kernelspec": {
      "display_name": "Python 3",
      "name": "python3"
    },
    "language_info": {
      "codemirror_mode": {
        "name": "ipython",
        "version": 3
      },
      "file_extension": ".py",
      "mimetype": "text/x-python",
      "name": "python",
      "nbconvert_exporter": "python",
      "pygments_lexer": "ipython3",
      "version": "3.10.4"
    }
  },
  "nbformat": 4,
  "nbformat_minor": 0
}
